{
 "cells": [
  {
   "cell_type": "code",
   "execution_count": 1,
   "metadata": {},
   "outputs": [],
   "source": [
    "import pandas as pd\n",
    "import numpy as np\n",
    "import matplotlib.pyplot as plt\n",
    "import plotly.express as px\n",
    "from plotly.subplots import make_subplots\n",
    "import plotly.graph_objs as go\n",
    "from statsmodels.tsa.seasonal import seasonal_decompose\n",
    "from statsmodels.graphics.tsaplots import plot_acf, plot_pacf\n",
    "from statsmodels.tsa.stattools import acf\n",
    "import warnings"
   ]
  },
  {
   "cell_type": "code",
   "execution_count": 2,
   "metadata": {},
   "outputs": [],
   "source": [
    "from sklearn.neighbors import KNeighborsRegressor\n",
    "from sklearn.linear_model import Ridge, Lasso\n",
    "from sklearn.naive_bayes import GaussianNB\n",
    "from sklearn.svm import SVR\n",
    "from sklearn.neural_network import MLPRegressor\n",
    "from sklearn.pipeline import Pipeline\n",
    "from sklearn.preprocessing import StandardScaler, MinMaxScaler\n",
    "from sklearn.model_selection import GridSearchCV, TimeSeriesSplit\n",
    "from sklearn.metrics import mean_squared_error, mean_absolute_percentage_error\n",
    "from sklearn.model_selection import train_test_split\n",
    "from keras.models import Sequential\n",
    "from keras.layers import Dense, LSTM, Dropout, GRU\n",
    "from keras.wrappers.scikit_learn import KerasRegressor\n",
    "import pickle\n",
    "import glob\n",
    "from tensorflow.keras.models import load_model"
   ]
  },
  {
   "cell_type": "markdown",
   "metadata": {},
   "source": [
    "# Regular Time Series Forecasting"
   ]
  },
  {
   "cell_type": "code",
   "execution_count": 2,
   "metadata": {},
   "outputs": [],
   "source": [
    "warnings.filterwarnings('ignore')"
   ]
  },
  {
   "cell_type": "code",
   "execution_count": 3,
   "metadata": {},
   "outputs": [],
   "source": [
    "def plot_descomposition(df, target):\n",
    "    \n",
    "    # Time series decomposition\n",
    "    decomposition = seasonal_decompose(df[target], model='additive', period=30)\n",
    "    \n",
    "    # Plot\n",
    "    fig = make_subplots(rows=4, cols=1, shared_xaxes=True, subplot_titles=('Original', 'Trend', 'Seasonality', 'Residuos'))\n",
    "    fig.add_trace(go.Scatter(x=df.index, y=df[target], mode='lines', name='Original'), row=1, col=1)\n",
    "    fig.add_trace(go.Scatter(x=decomposition.trend.index, y=decomposition.trend, mode='lines', name='Trend'), row=2, col=1)\n",
    "    fig.add_trace(go.Scatter(x=decomposition.seasonal.index, y=decomposition.seasonal, mode='lines', name='Seasonality'), row=3, col=1)\n",
    "    fig.add_trace(go.Scatter(x=decomposition.resid.index, y=decomposition.resid, mode='lines', name='Residuos'), row=4, col=1)\n",
    "    fig.update_layout(title_text='Descomposición de la serie de tiempo', showlegend=True)\n",
    "    #Make this plot but with matplotlib\n",
    "    plt.figure(figsize=(15, 10))\n",
    "    plt.subplot(411)\n",
    "    plt.plot(df[target], label='Original')\n",
    "    plt.legend(loc='best')\n",
    "    plt.subplot(412)\n",
    "    plt.plot(decomposition.trend, label='Trend')\n",
    "    plt.legend(loc='best')\n",
    "    plt.subplot(413)\n",
    "    plt.plot(decomposition.seasonal, label='Seasonality')\n",
    "    plt.legend(loc='best')\n",
    "    plt.subplot(414)\n",
    "    plt.plot(decomposition.resid, label='Residuos')\n",
    "    plt.legend(loc='best')\n",
    "    plt.tight_layout()\n",
    "    \n",
    "    return plt"
   ]
  },
  {
   "cell_type": "code",
   "execution_count": 4,
   "metadata": {},
   "outputs": [],
   "source": [
    "def create_features(df, date_col):\n",
    "    \n",
    "    # Convert the 'date' column to datetime\n",
    "    df[date_col] = pd.to_datetime(df[date_col])\n",
    "    \n",
    "    # Extract date-based features\n",
    "    df['hour'] = df[date_col].dt.hour\n",
    "    df['dayofweek'] = df[date_col].dt.dayofweek\n",
    "    df['month'] = df[date_col].dt.month\n",
    "    df['dayofyear'] = df['date'].dt.dayofyear\n",
    "    df['dayofmonth'] = df[date_col].dt.day\n",
    "    df['weekofyear'] = df[date_col].dt.isocalendar().week\n",
    "    df['weekofyear'] = df['weekofyear'].astype(int)\n",
    "    \n",
    "    # Set the 'date' column as the index\n",
    "    df = df.set_index('date')\n",
    "    \n",
    "    return df"
   ]
  },
  {
   "cell_type": "code",
   "execution_count": 5,
   "metadata": {},
   "outputs": [],
   "source": [
    "def add_lags(df, target, hours):\n",
    "    \"\"\"\n",
    "    Add lagged values as new columns to a DataFrame.\n",
    "\n",
    "    Parameters:\n",
    "    - df (pd.DataFrame): The input DataFrame.\n",
    "    - target (str): The column name for the target variable.\n",
    "    - hours (int): The number of lagged hours to add.\n",
    "\n",
    "    Returns:\n",
    "    - pd.DataFrame: The DataFrame with added lagged columns.\n",
    "    \"\"\"\n",
    "    \n",
    "    # Create a dictionary mapping timestamps to target values\n",
    "    target_map = df[target].to_dict()\n",
    "    \n",
    "    # Iterate through lag hours and add lagged columns\n",
    "    for i in range(1, hours + 1):\n",
    "        df[f'lag{i}'] = df.index.to_series() - pd.DateOffset(hours=i*8)\n",
    "        df[f'lag{i}'] = df[f'lag{i}'].map(target_map)\n",
    "    \n",
    "    return df"
   ]
  },
  {
   "cell_type": "code",
   "execution_count": 6,
   "metadata": {},
   "outputs": [
    {
     "data": {
      "text/html": [
       "<div>\n",
       "<style scoped>\n",
       "    .dataframe tbody tr th:only-of-type {\n",
       "        vertical-align: middle;\n",
       "    }\n",
       "\n",
       "    .dataframe tbody tr th {\n",
       "        vertical-align: top;\n",
       "    }\n",
       "\n",
       "    .dataframe thead th {\n",
       "        text-align: right;\n",
       "    }\n",
       "</style>\n",
       "<table border=\"1\" class=\"dataframe\">\n",
       "  <thead>\n",
       "    <tr style=\"text-align: right;\">\n",
       "      <th></th>\n",
       "      <th>origin</th>\n",
       "      <th>destination</th>\n",
       "      <th>date</th>\n",
       "      <th>available</th>\n",
       "    </tr>\n",
       "  </thead>\n",
       "  <tbody>\n",
       "    <tr>\n",
       "      <th>0</th>\n",
       "      <td>Los Angeles (CA)</td>\n",
       "      <td>Stockton (CA)</td>\n",
       "      <td>2023-05-15 00:00:00</td>\n",
       "      <td>160.0</td>\n",
       "    </tr>\n",
       "    <tr>\n",
       "      <th>1</th>\n",
       "      <td>Los Angeles (CA)</td>\n",
       "      <td>Stockton (CA)</td>\n",
       "      <td>2023-05-15 08:00:00</td>\n",
       "      <td>147.0</td>\n",
       "    </tr>\n",
       "    <tr>\n",
       "      <th>2</th>\n",
       "      <td>Los Angeles (CA)</td>\n",
       "      <td>Stockton (CA)</td>\n",
       "      <td>2023-05-15 16:00:00</td>\n",
       "      <td>17.0</td>\n",
       "    </tr>\n",
       "    <tr>\n",
       "      <th>3</th>\n",
       "      <td>Los Angeles (CA)</td>\n",
       "      <td>Stockton (CA)</td>\n",
       "      <td>2023-05-16 00:00:00</td>\n",
       "      <td>22.0</td>\n",
       "    </tr>\n",
       "    <tr>\n",
       "      <th>4</th>\n",
       "      <td>Los Angeles (CA)</td>\n",
       "      <td>Stockton (CA)</td>\n",
       "      <td>2023-05-16 08:00:00</td>\n",
       "      <td>47.0</td>\n",
       "    </tr>\n",
       "  </tbody>\n",
       "</table>\n",
       "</div>"
      ],
      "text/plain": [
       "             origin    destination                date  available\n",
       "0  Los Angeles (CA)  Stockton (CA) 2023-05-15 00:00:00      160.0\n",
       "1  Los Angeles (CA)  Stockton (CA) 2023-05-15 08:00:00      147.0\n",
       "2  Los Angeles (CA)  Stockton (CA) 2023-05-15 16:00:00       17.0\n",
       "3  Los Angeles (CA)  Stockton (CA) 2023-05-16 00:00:00       22.0\n",
       "4  Los Angeles (CA)  Stockton (CA) 2023-05-16 08:00:00       47.0"
      ]
     },
     "execution_count": 6,
     "metadata": {},
     "output_type": "execute_result"
    }
   ],
   "source": [
    "# Read data\n",
    "lavb_8h = pd.read_parquet(\"lavb_8h.parquet\")\n",
    "lavb_8h.sort_values(by='date', ascending=True, inplace=True)\n",
    "lavb_8h.head(5)"
   ]
  },
  {
   "cell_type": "code",
   "execution_count": 7,
   "metadata": {},
   "outputs": [
    {
     "data": {
      "text/plain": [
       "(429, 4)"
      ]
     },
     "execution_count": 7,
     "metadata": {},
     "output_type": "execute_result"
    }
   ],
   "source": [
    "lavb_8h.shape"
   ]
  },
  {
   "cell_type": "code",
   "execution_count": 8,
   "metadata": {},
   "outputs": [
    {
     "data": {
      "text/plain": [
       "origin         0\n",
       "destination    0\n",
       "date           0\n",
       "available      0\n",
       "dtype: int64"
      ]
     },
     "execution_count": 8,
     "metadata": {},
     "output_type": "execute_result"
    }
   ],
   "source": [
    "lavb_8h.isna().sum()"
   ]
  },
  {
   "cell_type": "code",
   "execution_count": 9,
   "metadata": {},
   "outputs": [
    {
     "data": {
      "text/plain": [
       "origin                 object\n",
       "destination            object\n",
       "date           datetime64[ns]\n",
       "available             float64\n",
       "dtype: object"
      ]
     },
     "execution_count": 9,
     "metadata": {},
     "output_type": "execute_result"
    }
   ],
   "source": [
    "lavb_8h.dtypes"
   ]
  },
  {
   "cell_type": "code",
   "execution_count": 10,
   "metadata": {},
   "outputs": [
    {
     "data": {
      "image/png": "[encoded data removed]",
      "text/plain": [
       "<Figure size 1500x500 with 1 Axes>"
      ]
     },
     "metadata": {},
     "output_type": "display_data"
    }
   ],
   "source": [
    "#px.line(lavb_8h, x=\"date\", y=\"available\", markers = True)\n",
    "#Do the same but with matplotlib\n",
    "plt.figure(figsize=(15,5))\n",
    "plt.plot(lavb_8h['date'], lavb_8h['available'])\n",
    "plt.xlabel('Date')\n",
    "plt.ylabel('Available')\n",
    "plt.title('Available vs Date')\n",
    "plt.show()"
   ]
  },
  {
   "cell_type": "code",
   "execution_count": 11,
   "metadata": {},
   "outputs": [
    {
     "data": {
      "text/plain": [
       "<module 'matplotlib.pyplot' from 'c:\\\\Users\\\\USUARIO\\\\anaconda3\\\\envs\\\\Augusto\\\\lib\\\\site-packages\\\\matplotlib\\\\pyplot.py'>"
      ]
     },
     "execution_count": 11,
     "metadata": {},
     "output_type": "execute_result"
    },
    {
     "data": {
      "image/png": "[encoded data removed]",
      "text/plain": [
       "<Figure size 1500x1000 with 4 Axes>"
      ]
     },
     "metadata": {},
     "output_type": "display_data"
    }
   ],
   "source": [
    "plot_descomposition(lavb_8h, \"available\")"
   ]
  },
  {
   "cell_type": "code",
   "execution_count": 26,
   "metadata": {},
   "outputs": [
    {
     "name": "stdout",
     "output_type": "stream",
     "text": [
      "ADF Statistic: -2.007135\n"
     ]
    }
   ],
   "source": [
    "#Dickie Fuller Test for stationarity\n",
    "from statsmodels.tsa.stattools import adfuller\n",
    "result = adfuller(lavb_8h['available'])\n",
    "print('ADF Statistic: %f' % result[0])"
   ]
  },
  {
   "cell_type": "markdown",
   "metadata": {},
   "source": [
    "The Dickie Fuller test is conducted to confirm for any statistical evidence for stationarity on our time series, an ADF statistic of -2.007135 is not statistically significant at the 5% level, which is a commonly used significance level for time series analysis."
   ]
  },
  {
   "cell_type": "code",
   "execution_count": 12,
   "metadata": {},
   "outputs": [
    {
     "data": {
      "text/html": [
       "<div>\n",
       "<style scoped>\n",
       "    .dataframe tbody tr th:only-of-type {\n",
       "        vertical-align: middle;\n",
       "    }\n",
       "\n",
       "    .dataframe tbody tr th {\n",
       "        vertical-align: top;\n",
       "    }\n",
       "\n",
       "    .dataframe thead th {\n",
       "        text-align: right;\n",
       "    }\n",
       "</style>\n",
       "<table border=\"1\" class=\"dataframe\">\n",
       "  <thead>\n",
       "    <tr style=\"text-align: right;\">\n",
       "      <th></th>\n",
       "      <th>origin</th>\n",
       "      <th>destination</th>\n",
       "      <th>available</th>\n",
       "      <th>hour</th>\n",
       "      <th>dayofweek</th>\n",
       "      <th>month</th>\n",
       "      <th>dayofyear</th>\n",
       "      <th>dayofmonth</th>\n",
       "      <th>weekofyear</th>\n",
       "    </tr>\n",
       "    <tr>\n",
       "      <th>date</th>\n",
       "      <th></th>\n",
       "      <th></th>\n",
       "      <th></th>\n",
       "      <th></th>\n",
       "      <th></th>\n",
       "      <th></th>\n",
       "      <th></th>\n",
       "      <th></th>\n",
       "      <th></th>\n",
       "    </tr>\n",
       "  </thead>\n",
       "  <tbody>\n",
       "    <tr>\n",
       "      <th>2023-05-15 00:00:00</th>\n",
       "      <td>Los Angeles (CA)</td>\n",
       "      <td>Stockton (CA)</td>\n",
       "      <td>160.0</td>\n",
       "      <td>0</td>\n",
       "      <td>0</td>\n",
       "      <td>5</td>\n",
       "      <td>135</td>\n",
       "      <td>15</td>\n",
       "      <td>20</td>\n",
       "    </tr>\n",
       "    <tr>\n",
       "      <th>2023-05-15 08:00:00</th>\n",
       "      <td>Los Angeles (CA)</td>\n",
       "      <td>Stockton (CA)</td>\n",
       "      <td>147.0</td>\n",
       "      <td>8</td>\n",
       "      <td>0</td>\n",
       "      <td>5</td>\n",
       "      <td>135</td>\n",
       "      <td>15</td>\n",
       "      <td>20</td>\n",
       "    </tr>\n",
       "    <tr>\n",
       "      <th>2023-05-15 16:00:00</th>\n",
       "      <td>Los Angeles (CA)</td>\n",
       "      <td>Stockton (CA)</td>\n",
       "      <td>17.0</td>\n",
       "      <td>16</td>\n",
       "      <td>0</td>\n",
       "      <td>5</td>\n",
       "      <td>135</td>\n",
       "      <td>15</td>\n",
       "      <td>20</td>\n",
       "    </tr>\n",
       "    <tr>\n",
       "      <th>2023-05-16 00:00:00</th>\n",
       "      <td>Los Angeles (CA)</td>\n",
       "      <td>Stockton (CA)</td>\n",
       "      <td>22.0</td>\n",
       "      <td>0</td>\n",
       "      <td>1</td>\n",
       "      <td>5</td>\n",
       "      <td>136</td>\n",
       "      <td>16</td>\n",
       "      <td>20</td>\n",
       "    </tr>\n",
       "    <tr>\n",
       "      <th>2023-05-16 08:00:00</th>\n",
       "      <td>Los Angeles (CA)</td>\n",
       "      <td>Stockton (CA)</td>\n",
       "      <td>47.0</td>\n",
       "      <td>8</td>\n",
       "      <td>1</td>\n",
       "      <td>5</td>\n",
       "      <td>136</td>\n",
       "      <td>16</td>\n",
       "      <td>20</td>\n",
       "    </tr>\n",
       "    <tr>\n",
       "      <th>...</th>\n",
       "      <td>...</td>\n",
       "      <td>...</td>\n",
       "      <td>...</td>\n",
       "      <td>...</td>\n",
       "      <td>...</td>\n",
       "      <td>...</td>\n",
       "      <td>...</td>\n",
       "      <td>...</td>\n",
       "      <td>...</td>\n",
       "    </tr>\n",
       "    <tr>\n",
       "      <th>2023-10-03 08:00:00</th>\n",
       "      <td>Los Angeles (CA)</td>\n",
       "      <td>Stockton (CA)</td>\n",
       "      <td>127.0</td>\n",
       "      <td>8</td>\n",
       "      <td>1</td>\n",
       "      <td>10</td>\n",
       "      <td>276</td>\n",
       "      <td>3</td>\n",
       "      <td>40</td>\n",
       "    </tr>\n",
       "    <tr>\n",
       "      <th>2023-10-03 16:00:00</th>\n",
       "      <td>Los Angeles (CA)</td>\n",
       "      <td>Stockton (CA)</td>\n",
       "      <td>96.0</td>\n",
       "      <td>16</td>\n",
       "      <td>1</td>\n",
       "      <td>10</td>\n",
       "      <td>276</td>\n",
       "      <td>3</td>\n",
       "      <td>40</td>\n",
       "    </tr>\n",
       "    <tr>\n",
       "      <th>2023-10-04 00:00:00</th>\n",
       "      <td>Los Angeles (CA)</td>\n",
       "      <td>Stockton (CA)</td>\n",
       "      <td>91.0</td>\n",
       "      <td>0</td>\n",
       "      <td>2</td>\n",
       "      <td>10</td>\n",
       "      <td>277</td>\n",
       "      <td>4</td>\n",
       "      <td>40</td>\n",
       "    </tr>\n",
       "    <tr>\n",
       "      <th>2023-10-04 08:00:00</th>\n",
       "      <td>Los Angeles (CA)</td>\n",
       "      <td>Stockton (CA)</td>\n",
       "      <td>103.0</td>\n",
       "      <td>8</td>\n",
       "      <td>2</td>\n",
       "      <td>10</td>\n",
       "      <td>277</td>\n",
       "      <td>4</td>\n",
       "      <td>40</td>\n",
       "    </tr>\n",
       "    <tr>\n",
       "      <th>2023-10-04 16:00:00</th>\n",
       "      <td>Los Angeles (CA)</td>\n",
       "      <td>Stockton (CA)</td>\n",
       "      <td>78.0</td>\n",
       "      <td>16</td>\n",
       "      <td>2</td>\n",
       "      <td>10</td>\n",
       "      <td>277</td>\n",
       "      <td>4</td>\n",
       "      <td>40</td>\n",
       "    </tr>\n",
       "  </tbody>\n",
       "</table>\n",
       "<p>429 rows × 9 columns</p>\n",
       "</div>"
      ],
      "text/plain": [
       "                               origin    destination  available  hour  \\\n",
       "date                                                                    \n",
       "2023-05-15 00:00:00  Los Angeles (CA)  Stockton (CA)      160.0     0   \n",
       "2023-05-15 08:00:00  Los Angeles (CA)  Stockton (CA)      147.0     8   \n",
       "2023-05-15 16:00:00  Los Angeles (CA)  Stockton (CA)       17.0    16   \n",
       "2023-05-16 00:00:00  Los Angeles (CA)  Stockton (CA)       22.0     0   \n",
       "2023-05-16 08:00:00  Los Angeles (CA)  Stockton (CA)       47.0     8   \n",
       "...                               ...            ...        ...   ...   \n",
       "2023-10-03 08:00:00  Los Angeles (CA)  Stockton (CA)      127.0     8   \n",
       "2023-10-03 16:00:00  Los Angeles (CA)  Stockton (CA)       96.0    16   \n",
       "2023-10-04 00:00:00  Los Angeles (CA)  Stockton (CA)       91.0     0   \n",
       "2023-10-04 08:00:00  Los Angeles (CA)  Stockton (CA)      103.0     8   \n",
       "2023-10-04 16:00:00  Los Angeles (CA)  Stockton (CA)       78.0    16   \n",
       "\n",
       "                     dayofweek  month  dayofyear  dayofmonth  weekofyear  \n",
       "date                                                                      \n",
       "2023-05-15 00:00:00          0      5        135          15          20  \n",
       "2023-05-15 08:00:00          0      5        135          15          20  \n",
       "2023-05-15 16:00:00          0      5        135          15          20  \n",
       "2023-05-16 00:00:00          1      5        136          16          20  \n",
       "2023-05-16 08:00:00          1      5        136          16          20  \n",
       "...                        ...    ...        ...         ...         ...  \n",
       "2023-10-03 08:00:00          1     10        276           3          40  \n",
       "2023-10-03 16:00:00          1     10        276           3          40  \n",
       "2023-10-04 00:00:00          2     10        277           4          40  \n",
       "2023-10-04 08:00:00          2     10        277           4          40  \n",
       "2023-10-04 16:00:00          2     10        277           4          40  \n",
       "\n",
       "[429 rows x 9 columns]"
      ]
     },
     "execution_count": 12,
     "metadata": {},
     "output_type": "execute_result"
    }
   ],
   "source": [
    "df_features = create_features(lavb_8h.copy(), \"date\")\n",
    "df_features"
   ]
  },
  {
   "cell_type": "code",
   "execution_count": 16,
   "metadata": {},
   "outputs": [
    {
     "data": {
      "image/png": "[encoded data removed]",
      "text/plain": [
       "<Figure size 640x480 with 1 Axes>"
      ]
     },
     "metadata": {},
     "output_type": "display_data"
    }
   ],
   "source": [
    "# Create a list of lists to store the data for each group\n",
    "data = []\n",
    "for hour in [0,8,16]:\n",
    "    group_data = df_features[df_features[\"hour\"] == hour][\"available\"].tolist()\n",
    "    data.append(group_data)\n",
    "\n",
    "# Create the boxplot\n",
    "plt.boxplot(data, notch=True)\n",
    "\n",
    "# Set the x-axis labels\n",
    "plt.xticks(range(len(data)), df_features[\"hour\"].unique())\n",
    "plt.xlabel(\"Hour\")\n",
    "plt.ylabel(\"Available\")\n",
    "\n",
    "# Show the plot\n",
    "plt.show()"
   ]
  },
  {
   "cell_type": "code",
   "execution_count": 19,
   "metadata": {},
   "outputs": [
    {
     "data": {
      "image/png": "[encoded data removed]",
      "text/plain": [
       "<Figure size 640x480 with 1 Axes>"
      ]
     },
     "metadata": {},
     "output_type": "display_data"
    }
   ],
   "source": [
    "# Create a list of lists to store the data for each group\n",
    "data = []\n",
    "for date in df_features[\"dayofweek\"].unique():\n",
    "    group_data = df_features[df_features[\"dayofweek\"] == date][\"available\"].tolist()\n",
    "    data.append(group_data)\n",
    "\n",
    "# Create the boxplot\n",
    "plt.boxplot(data, notch=True)\n",
    "\n",
    "# Set the x-axis labels\n",
    "plt.xticks(range(len(data)), df_features[\"dayofweek\"].unique())\n",
    "plt.xlabel(\"Day\")\n",
    "plt.ylabel(\"Available\")\n",
    "\n",
    "# Show the plot\n",
    "plt.show()"
   ]
  },
  {
   "cell_type": "code",
   "execution_count": 20,
   "metadata": {},
   "outputs": [
    {
     "data": {
      "image/png": "[encoded data removed]",
      "text/plain": [
       "<Figure size 640x480 with 1 Axes>"
      ]
     },
     "metadata": {},
     "output_type": "display_data"
    }
   ],
   "source": [
    "# Create a list of lists to store the data for each group\n",
    "data = []\n",
    "for month in df_features[\"month\"].unique():\n",
    "    group_data = df_features[df_features[\"month\"] == month][\"available\"].tolist()\n",
    "    data.append(group_data)\n",
    "\n",
    "# Create the boxplot\n",
    "plt.boxplot(data, notch=True)\n",
    "\n",
    "# Set the x-axis labels\n",
    "plt.xticks(range(len(data)), df_features[\"month\"].unique())\n",
    "plt.xlabel(\"Month\")\n",
    "plt.ylabel(\"Available\")\n",
    "\n",
    "# Show the plot\n",
    "plt.show()"
   ]
  },
  {
   "cell_type": "code",
   "execution_count": 23,
   "metadata": {},
   "outputs": [
    {
     "data": {
      "image/png": "[encoded data removed]",
      "text/plain": [
       "<Figure size 640x480 with 1 Axes>"
      ]
     },
     "metadata": {},
     "output_type": "display_data"
    }
   ],
   "source": [
    "# Create a list of lists to store the data for each group\n",
    "data = []\n",
    "for date in df_features[\"dayofmonth\"].unique():\n",
    "    group_data = df_features[df_features[\"dayofmonth\"] == date][\"available\"].tolist()\n",
    "    data.append(group_data)\n",
    "\n",
    "# Create the boxplot\n",
    "plt.boxplot(data, notch=True)\n",
    "\n",
    "# Set the x-axis labels\n",
    "plt.xticks(range(len(data)), df_features[\"dayofmonth\"].unique())\n",
    "plt.xlabel(\"Day of month\")\n",
    "plt.ylabel(\"Available\")\n",
    "\n",
    "# Show the plot\n",
    "plt.show()"
   ]
  },
  {
   "cell_type": "code",
   "execution_count": 24,
   "metadata": {},
   "outputs": [
    {
     "data": {
      "image/png": "[encoded data removed]",
      "text/plain": [
       "<Figure size 640x480 with 1 Axes>"
      ]
     },
     "metadata": {},
     "output_type": "display_data"
    }
   ],
   "source": [
    "# Create a list of lists to store the data for each group\n",
    "data = []\n",
    "for date in df_features[\"weekofyear\"].unique():\n",
    "    group_data = df_features[df_features[\"weekofyear\"] == date][\"available\"].tolist()\n",
    "    data.append(group_data)\n",
    "\n",
    "# Create the boxplot\n",
    "plt.boxplot(data, notch=True)\n",
    "\n",
    "# Set the x-axis labels\n",
    "plt.xticks(range(len(data)), df_features[\"weekofyear\"].unique())\n",
    "plt.xlabel(\"Week\")\n",
    "plt.ylabel(\"Available\")\n",
    "\n",
    "# Show the plot\n",
    "plt.show()"
   ]
  },
  {
   "cell_type": "code",
   "execution_count": 25,
   "metadata": {},
   "outputs": [
    {
     "data": {
      "image/png": "[encoded data removed]",
      "text/plain": [
       "<Figure size 1500x500 with 1 Axes>"
      ]
     },
     "metadata": {},
     "output_type": "display_data"
    }
   ],
   "source": [
    "#px.histogram(df_features, x=\"available\", animation_frame='month')\n",
    "#Do the same but with matplotlib\n",
    "plt.figure(figsize=(15,5))\n",
    "plt.hist(df_features['available'])\n",
    "plt.xlabel('Available')\n",
    "plt.ylabel('Frequency')\n",
    "plt.title('Available vs Frequency')\n",
    "plt.show()"
   ]
  },
  {
   "cell_type": "code",
   "execution_count": 354,
   "metadata": {},
   "outputs": [
    {
     "data": {
      "image/png": "[encoded data removed]",
      "text/plain": [
       "<Figure size 1200x600 with 2 Axes>"
      ]
     },
     "metadata": {},
     "output_type": "display_data"
    }
   ],
   "source": [
    "# Gráficos de autocorrelación y autocorrelación parcial\n",
    "plt.figure(figsize=(12, 6))\n",
    "\n",
    "plt.subplot(2, 1, 1)\n",
    "plot_acf(lavb_8h['available'], ax=plt.gca(), lags=60)\n",
    "\n",
    "plt.subplot(2, 1, 2)\n",
    "plot_pacf(lavb_8h['available'], ax=plt.gca(), lags=60)\n",
    "\n",
    "plt.tight_layout()\n",
    "plt.show()"
   ]
  },
  {
   "cell_type": "code",
   "execution_count": 11,
   "metadata": {},
   "outputs": [
    {
     "data": {
      "text/html": [
       "<div>\n",
       "<style scoped>\n",
       "    .dataframe tbody tr th:only-of-type {\n",
       "        vertical-align: middle;\n",
       "    }\n",
       "\n",
       "    .dataframe tbody tr th {\n",
       "        vertical-align: top;\n",
       "    }\n",
       "\n",
       "    .dataframe thead th {\n",
       "        text-align: right;\n",
       "    }\n",
       "</style>\n",
       "<table border=\"1\" class=\"dataframe\">\n",
       "  <thead>\n",
       "    <tr style=\"text-align: right;\">\n",
       "      <th></th>\n",
       "      <th>origin</th>\n",
       "      <th>destination</th>\n",
       "      <th>available</th>\n",
       "      <th>lag1</th>\n",
       "      <th>lag2</th>\n",
       "      <th>lag3</th>\n",
       "    </tr>\n",
       "    <tr>\n",
       "      <th>date</th>\n",
       "      <th></th>\n",
       "      <th></th>\n",
       "      <th></th>\n",
       "      <th></th>\n",
       "      <th></th>\n",
       "      <th></th>\n",
       "    </tr>\n",
       "  </thead>\n",
       "  <tbody>\n",
       "    <tr>\n",
       "      <th>2023-05-15 00:00:00</th>\n",
       "      <td>Los Angeles (CA)</td>\n",
       "      <td>Stockton (CA)</td>\n",
       "      <td>160.0</td>\n",
       "      <td>NaN</td>\n",
       "      <td>NaN</td>\n",
       "      <td>NaN</td>\n",
       "    </tr>\n",
       "    <tr>\n",
       "      <th>2023-05-15 08:00:00</th>\n",
       "      <td>Los Angeles (CA)</td>\n",
       "      <td>Stockton (CA)</td>\n",
       "      <td>147.0</td>\n",
       "      <td>160.0</td>\n",
       "      <td>NaN</td>\n",
       "      <td>NaN</td>\n",
       "    </tr>\n",
       "    <tr>\n",
       "      <th>2023-05-15 16:00:00</th>\n",
       "      <td>Los Angeles (CA)</td>\n",
       "      <td>Stockton (CA)</td>\n",
       "      <td>17.0</td>\n",
       "      <td>147.0</td>\n",
       "      <td>160.0</td>\n",
       "      <td>NaN</td>\n",
       "    </tr>\n",
       "    <tr>\n",
       "      <th>2023-05-16 00:00:00</th>\n",
       "      <td>Los Angeles (CA)</td>\n",
       "      <td>Stockton (CA)</td>\n",
       "      <td>22.0</td>\n",
       "      <td>17.0</td>\n",
       "      <td>147.0</td>\n",
       "      <td>160.0</td>\n",
       "    </tr>\n",
       "    <tr>\n",
       "      <th>2023-05-16 08:00:00</th>\n",
       "      <td>Los Angeles (CA)</td>\n",
       "      <td>Stockton (CA)</td>\n",
       "      <td>47.0</td>\n",
       "      <td>22.0</td>\n",
       "      <td>17.0</td>\n",
       "      <td>147.0</td>\n",
       "    </tr>\n",
       "    <tr>\n",
       "      <th>...</th>\n",
       "      <td>...</td>\n",
       "      <td>...</td>\n",
       "      <td>...</td>\n",
       "      <td>...</td>\n",
       "      <td>...</td>\n",
       "      <td>...</td>\n",
       "    </tr>\n",
       "    <tr>\n",
       "      <th>2023-10-03 08:00:00</th>\n",
       "      <td>Los Angeles (CA)</td>\n",
       "      <td>Stockton (CA)</td>\n",
       "      <td>127.0</td>\n",
       "      <td>118.0</td>\n",
       "      <td>128.0</td>\n",
       "      <td>229.0</td>\n",
       "    </tr>\n",
       "    <tr>\n",
       "      <th>2023-10-03 16:00:00</th>\n",
       "      <td>Los Angeles (CA)</td>\n",
       "      <td>Stockton (CA)</td>\n",
       "      <td>96.0</td>\n",
       "      <td>127.0</td>\n",
       "      <td>118.0</td>\n",
       "      <td>128.0</td>\n",
       "    </tr>\n",
       "    <tr>\n",
       "      <th>2023-10-04 00:00:00</th>\n",
       "      <td>Los Angeles (CA)</td>\n",
       "      <td>Stockton (CA)</td>\n",
       "      <td>91.0</td>\n",
       "      <td>96.0</td>\n",
       "      <td>127.0</td>\n",
       "      <td>118.0</td>\n",
       "    </tr>\n",
       "    <tr>\n",
       "      <th>2023-10-04 08:00:00</th>\n",
       "      <td>Los Angeles (CA)</td>\n",
       "      <td>Stockton (CA)</td>\n",
       "      <td>103.0</td>\n",
       "      <td>91.0</td>\n",
       "      <td>96.0</td>\n",
       "      <td>127.0</td>\n",
       "    </tr>\n",
       "    <tr>\n",
       "      <th>2023-10-04 16:00:00</th>\n",
       "      <td>Los Angeles (CA)</td>\n",
       "      <td>Stockton (CA)</td>\n",
       "      <td>78.0</td>\n",
       "      <td>103.0</td>\n",
       "      <td>91.0</td>\n",
       "      <td>96.0</td>\n",
       "    </tr>\n",
       "  </tbody>\n",
       "</table>\n",
       "<p>429 rows × 6 columns</p>\n",
       "</div>"
      ],
      "text/plain": [
       "                               origin    destination  available   lag1   lag2  \\\n",
       "date                                                                            \n",
       "2023-05-15 00:00:00  Los Angeles (CA)  Stockton (CA)      160.0    NaN    NaN   \n",
       "2023-05-15 08:00:00  Los Angeles (CA)  Stockton (CA)      147.0  160.0    NaN   \n",
       "2023-05-15 16:00:00  Los Angeles (CA)  Stockton (CA)       17.0  147.0  160.0   \n",
       "2023-05-16 00:00:00  Los Angeles (CA)  Stockton (CA)       22.0   17.0  147.0   \n",
       "2023-05-16 08:00:00  Los Angeles (CA)  Stockton (CA)       47.0   22.0   17.0   \n",
       "...                               ...            ...        ...    ...    ...   \n",
       "2023-10-03 08:00:00  Los Angeles (CA)  Stockton (CA)      127.0  118.0  128.0   \n",
       "2023-10-03 16:00:00  Los Angeles (CA)  Stockton (CA)       96.0  127.0  118.0   \n",
       "2023-10-04 00:00:00  Los Angeles (CA)  Stockton (CA)       91.0   96.0  127.0   \n",
       "2023-10-04 08:00:00  Los Angeles (CA)  Stockton (CA)      103.0   91.0   96.0   \n",
       "2023-10-04 16:00:00  Los Angeles (CA)  Stockton (CA)       78.0  103.0   91.0   \n",
       "\n",
       "                      lag3  \n",
       "date                        \n",
       "2023-05-15 00:00:00    NaN  \n",
       "2023-05-15 08:00:00    NaN  \n",
       "2023-05-15 16:00:00    NaN  \n",
       "2023-05-16 00:00:00  160.0  \n",
       "2023-05-16 08:00:00  147.0  \n",
       "...                    ...  \n",
       "2023-10-03 08:00:00  229.0  \n",
       "2023-10-03 16:00:00  128.0  \n",
       "2023-10-04 00:00:00  118.0  \n",
       "2023-10-04 08:00:00  127.0  \n",
       "2023-10-04 16:00:00   96.0  \n",
       "\n",
       "[429 rows x 6 columns]"
      ]
     },
     "execution_count": 11,
     "metadata": {},
     "output_type": "execute_result"
    }
   ],
   "source": [
    "df_features = df_features.drop(['hour', 'dayofweek', 'month', 'dayofyear', 'dayofmonth', 'weekofyear'], axis=1)\n",
    "df_features = add_lags(df_features, \"available\", 3)\n",
    "df_features"
   ]
  },
  {
   "cell_type": "code",
   "execution_count": 12,
   "metadata": {},
   "outputs": [
    {
     "data": {
      "text/html": [
       "<div>\n",
       "<style scoped>\n",
       "    .dataframe tbody tr th:only-of-type {\n",
       "        vertical-align: middle;\n",
       "    }\n",
       "\n",
       "    .dataframe tbody tr th {\n",
       "        vertical-align: top;\n",
       "    }\n",
       "\n",
       "    .dataframe thead th {\n",
       "        text-align: right;\n",
       "    }\n",
       "</style>\n",
       "<table border=\"1\" class=\"dataframe\">\n",
       "  <thead>\n",
       "    <tr style=\"text-align: right;\">\n",
       "      <th></th>\n",
       "      <th>origin</th>\n",
       "      <th>destination</th>\n",
       "      <th>available</th>\n",
       "      <th>lag1</th>\n",
       "      <th>lag2</th>\n",
       "      <th>lag3</th>\n",
       "    </tr>\n",
       "    <tr>\n",
       "      <th>date</th>\n",
       "      <th></th>\n",
       "      <th></th>\n",
       "      <th></th>\n",
       "      <th></th>\n",
       "      <th></th>\n",
       "      <th></th>\n",
       "    </tr>\n",
       "  </thead>\n",
       "  <tbody>\n",
       "    <tr>\n",
       "      <th>2023-05-16 00:00:00</th>\n",
       "      <td>Los Angeles (CA)</td>\n",
       "      <td>Stockton (CA)</td>\n",
       "      <td>22.0</td>\n",
       "      <td>17.0</td>\n",
       "      <td>147.0</td>\n",
       "      <td>160.0</td>\n",
       "    </tr>\n",
       "    <tr>\n",
       "      <th>2023-05-16 08:00:00</th>\n",
       "      <td>Los Angeles (CA)</td>\n",
       "      <td>Stockton (CA)</td>\n",
       "      <td>47.0</td>\n",
       "      <td>22.0</td>\n",
       "      <td>17.0</td>\n",
       "      <td>147.0</td>\n",
       "    </tr>\n",
       "    <tr>\n",
       "      <th>2023-05-16 16:00:00</th>\n",
       "      <td>Los Angeles (CA)</td>\n",
       "      <td>Stockton (CA)</td>\n",
       "      <td>32.0</td>\n",
       "      <td>47.0</td>\n",
       "      <td>22.0</td>\n",
       "      <td>17.0</td>\n",
       "    </tr>\n",
       "    <tr>\n",
       "      <th>2023-05-17 00:00:00</th>\n",
       "      <td>Los Angeles (CA)</td>\n",
       "      <td>Stockton (CA)</td>\n",
       "      <td>221.0</td>\n",
       "      <td>32.0</td>\n",
       "      <td>47.0</td>\n",
       "      <td>22.0</td>\n",
       "    </tr>\n",
       "    <tr>\n",
       "      <th>2023-05-17 08:00:00</th>\n",
       "      <td>Los Angeles (CA)</td>\n",
       "      <td>Stockton (CA)</td>\n",
       "      <td>65.0</td>\n",
       "      <td>221.0</td>\n",
       "      <td>32.0</td>\n",
       "      <td>47.0</td>\n",
       "    </tr>\n",
       "    <tr>\n",
       "      <th>...</th>\n",
       "      <td>...</td>\n",
       "      <td>...</td>\n",
       "      <td>...</td>\n",
       "      <td>...</td>\n",
       "      <td>...</td>\n",
       "      <td>...</td>\n",
       "    </tr>\n",
       "    <tr>\n",
       "      <th>2023-10-03 08:00:00</th>\n",
       "      <td>Los Angeles (CA)</td>\n",
       "      <td>Stockton (CA)</td>\n",
       "      <td>127.0</td>\n",
       "      <td>118.0</td>\n",
       "      <td>128.0</td>\n",
       "      <td>229.0</td>\n",
       "    </tr>\n",
       "    <tr>\n",
       "      <th>2023-10-03 16:00:00</th>\n",
       "      <td>Los Angeles (CA)</td>\n",
       "      <td>Stockton (CA)</td>\n",
       "      <td>96.0</td>\n",
       "      <td>127.0</td>\n",
       "      <td>118.0</td>\n",
       "      <td>128.0</td>\n",
       "    </tr>\n",
       "    <tr>\n",
       "      <th>2023-10-04 00:00:00</th>\n",
       "      <td>Los Angeles (CA)</td>\n",
       "      <td>Stockton (CA)</td>\n",
       "      <td>91.0</td>\n",
       "      <td>96.0</td>\n",
       "      <td>127.0</td>\n",
       "      <td>118.0</td>\n",
       "    </tr>\n",
       "    <tr>\n",
       "      <th>2023-10-04 08:00:00</th>\n",
       "      <td>Los Angeles (CA)</td>\n",
       "      <td>Stockton (CA)</td>\n",
       "      <td>103.0</td>\n",
       "      <td>91.0</td>\n",
       "      <td>96.0</td>\n",
       "      <td>127.0</td>\n",
       "    </tr>\n",
       "    <tr>\n",
       "      <th>2023-10-04 16:00:00</th>\n",
       "      <td>Los Angeles (CA)</td>\n",
       "      <td>Stockton (CA)</td>\n",
       "      <td>78.0</td>\n",
       "      <td>103.0</td>\n",
       "      <td>91.0</td>\n",
       "      <td>96.0</td>\n",
       "    </tr>\n",
       "  </tbody>\n",
       "</table>\n",
       "<p>426 rows × 6 columns</p>\n",
       "</div>"
      ],
      "text/plain": [
       "                               origin    destination  available   lag1   lag2  \\\n",
       "date                                                                            \n",
       "2023-05-16 00:00:00  Los Angeles (CA)  Stockton (CA)       22.0   17.0  147.0   \n",
       "2023-05-16 08:00:00  Los Angeles (CA)  Stockton (CA)       47.0   22.0   17.0   \n",
       "2023-05-16 16:00:00  Los Angeles (CA)  Stockton (CA)       32.0   47.0   22.0   \n",
       "2023-05-17 00:00:00  Los Angeles (CA)  Stockton (CA)      221.0   32.0   47.0   \n",
       "2023-05-17 08:00:00  Los Angeles (CA)  Stockton (CA)       65.0  221.0   32.0   \n",
       "...                               ...            ...        ...    ...    ...   \n",
       "2023-10-03 08:00:00  Los Angeles (CA)  Stockton (CA)      127.0  118.0  128.0   \n",
       "2023-10-03 16:00:00  Los Angeles (CA)  Stockton (CA)       96.0  127.0  118.0   \n",
       "2023-10-04 00:00:00  Los Angeles (CA)  Stockton (CA)       91.0   96.0  127.0   \n",
       "2023-10-04 08:00:00  Los Angeles (CA)  Stockton (CA)      103.0   91.0   96.0   \n",
       "2023-10-04 16:00:00  Los Angeles (CA)  Stockton (CA)       78.0  103.0   91.0   \n",
       "\n",
       "                      lag3  \n",
       "date                        \n",
       "2023-05-16 00:00:00  160.0  \n",
       "2023-05-16 08:00:00  147.0  \n",
       "2023-05-16 16:00:00   17.0  \n",
       "2023-05-17 00:00:00   22.0  \n",
       "2023-05-17 08:00:00   47.0  \n",
       "...                    ...  \n",
       "2023-10-03 08:00:00  229.0  \n",
       "2023-10-03 16:00:00  128.0  \n",
       "2023-10-04 00:00:00  118.0  \n",
       "2023-10-04 08:00:00  127.0  \n",
       "2023-10-04 16:00:00   96.0  \n",
       "\n",
       "[426 rows x 6 columns]"
      ]
     },
     "execution_count": 12,
     "metadata": {},
     "output_type": "execute_result"
    }
   ],
   "source": [
    "df_features = df_features.dropna()\n",
    "df_features"
   ]
  },
  {
   "cell_type": "code",
   "execution_count": 15,
   "metadata": {},
   "outputs": [],
   "source": [
    "X = df_features.drop(columns=['available', 'origin', 'destination'])\n",
    "y = df_features['available']\n",
    "\n",
    "X_train, X_test, y_train, y_test = train_test_split(X, y, test_size=0.2, shuffle=False)"
   ]
  },
  {
   "cell_type": "markdown",
   "metadata": {},
   "source": [
    "# KNN Model"
   ]
  },
  {
   "cell_type": "code",
   "execution_count": 16,
   "metadata": {},
   "outputs": [
    {
     "name": "stdout",
     "output_type": "stream",
     "text": [
      "Best parameters:  {'knn__algorithm': 'ball_tree', 'knn__leaf_size': 20, 'knn__n_neighbors': 10, 'knn__p': 1, 'knn__weights': 'distance'}\n",
      "Best score:  -3222.5876841965273\n"
     ]
    }
   ],
   "source": [
    "# Apply KNN to forecast my time series (available) tunning hyperparamets without cross validation\n",
    "grid_knn = None\n",
    "if (len(glob.glob(\"knn_model_naugd.pkl\")) != 0):\n",
    "    \n",
    "     grid_knn = pickle.load(open('knn_model_naugd.pkl','rb'))\n",
    "     \n",
    "else:\n",
    "    \n",
    "    pipe = Pipeline([\n",
    "    ('scaler', MinMaxScaler()), \n",
    "    ('knn', KNeighborsRegressor())])\n",
    "    \n",
    "    param_grid = {'knn__n_neighbors': [1, 2, 3, 4, 5, 6, 7, 8, 9, 10],\n",
    "                    'knn__weights': ['uniform', 'distance'],\n",
    "                    'knn__algorithm': ['auto', 'ball_tree', 'kd_tree', 'brute'],\n",
    "                    'knn__leaf_size': [10, 20, 30, 40, 50],\n",
    "                    'knn__p': [1, 2]}\n",
    "\n",
    "    grid_knn = GridSearchCV(pipe, param_grid, cv=TimeSeriesSplit(n_splits=5), scoring='neg_mean_squared_error', n_jobs=-1)\n",
    "    grid_knn.fit(X_train, y_train)\n",
    "    # Export model to pickle\n",
    "    pickle.dump(grid_knn, open('knn_model_naugd.pkl', 'wb'))\n",
    "    \n",
    "print(\"Best parameters: \", grid_knn.best_params_)\n",
    "print(\"Best score: \", grid_knn.best_score_)\n"
   ]
  },
  {
   "cell_type": "code",
   "execution_count": 17,
   "metadata": {},
   "outputs": [
    {
     "name": "stdout",
     "output_type": "stream",
     "text": [
      "[{'Model': 'KNN', 'MSE': 1295.5237527506472, 'RMSE': 35.993384847088876, 'MAPE': 0.40607448792176354}]\n"
     ]
    },
    {
     "data": {
      "application/vnd.plotly.v1+json": {
       "config": {
        "plotlyServerURL": "https://plot.ly"
       },
       "data": [
        {
         "mode": "lines",
         "name": "Real",
         "type": "scatter",
         "x": [
          "2023-09-06T08:00:00",
          "2023-09-06T16:00:00",
          "2023-09-07T00:00:00",
          "2023-09-07T08:00:00",
          "2023-09-07T16:00:00",
          "2023-09-08T00:00:00",
          "2023-09-08T08:00:00",
          "2023-09-08T16:00:00",
          "2023-09-09T00:00:00",
          "2023-09-09T08:00:00",
          "2023-09-09T16:00:00",
          "2023-09-10T00:00:00",
          "2023-09-10T08:00:00",
          "2023-09-10T16:00:00",
          "2023-09-11T00:00:00",
          "2023-09-11T08:00:00",
          "2023-09-11T16:00:00",
          "2023-09-12T00:00:00",
          "2023-09-12T08:00:00",
          "2023-09-12T16:00:00",
          "2023-09-13T00:00:00",
          "2023-09-13T08:00:00",
          "2023-09-13T16:00:00",
          "2023-09-14T00:00:00",
          "2023-09-14T08:00:00",
          "2023-09-14T16:00:00",
          "2023-09-15T00:00:00",
          "2023-09-15T08:00:00",
          "2023-09-15T16:00:00",
          "2023-09-16T00:00:00",
          "2023-09-16T08:00:00",
          "2023-09-16T16:00:00",
          "2023-09-17T00:00:00",
          "2023-09-17T08:00:00",
          "2023-09-17T16:00:00",
          "2023-09-18T00:00:00",
          "2023-09-18T08:00:00",
          "2023-09-18T16:00:00",
          "2023-09-19T00:00:00",
          "2023-09-19T08:00:00",
          "2023-09-19T16:00:00",
          "2023-09-20T00:00:00",
          "2023-09-20T08:00:00",
          "2023-09-20T16:00:00",
          "2023-09-21T00:00:00",
          "2023-09-21T08:00:00",
          "2023-09-21T16:00:00",
          "2023-09-22T00:00:00",
          "2023-09-22T08:00:00",
          "2023-09-22T16:00:00",
          "2023-09-23T00:00:00",
          "2023-09-23T08:00:00",
          "2023-09-23T16:00:00",
          "2023-09-24T00:00:00",
          "2023-09-24T08:00:00",
          "2023-09-24T16:00:00",
          "2023-09-25T00:00:00",
          "2023-09-25T08:00:00",
          "2023-09-25T16:00:00",
          "2023-09-26T00:00:00",
          "2023-09-26T08:00:00",
          "2023-09-26T16:00:00",
          "2023-09-27T00:00:00",
          "2023-09-27T08:00:00",
          "2023-09-27T16:00:00",
          "2023-09-28T00:00:00",
          "2023-09-28T08:00:00",
          "2023-09-28T16:00:00",
          "2023-09-29T00:00:00",
          "2023-09-29T08:00:00",
          "2023-09-29T16:00:00",
          "2023-09-30T00:00:00",
          "2023-09-30T08:00:00",
          "2023-09-30T16:00:00",
          "2023-10-01T00:00:00",
          "2023-10-01T08:00:00",
          "2023-10-01T16:00:00",
          "2023-10-02T00:00:00",
          "2023-10-02T08:00:00",
          "2023-10-02T16:00:00",
          "2023-10-03T00:00:00",
          "2023-10-03T08:00:00",
          "2023-10-03T16:00:00",
          "2023-10-04T00:00:00",
          "2023-10-04T08:00:00",
          "2023-10-04T16:00:00"
         ],
         "y": [
          121,
          91,
          81,
          110,
          78,
          69,
          100,
          87,
          86,
          107,
          97,
          94,
          85,
          80,
          98,
          107,
          104,
          21,
          106,
          91,
          72,
          129,
          93,
          40,
          42,
          98,
          76,
          144,
          124,
          134,
          130,
          119,
          117,
          127,
          118,
          151,
          137,
          70,
          42,
          48,
          101,
          100,
          123,
          110,
          72,
          126,
          119,
          37,
          120,
          39,
          126,
          129,
          124,
          143,
          141,
          127,
          134,
          161,
          126,
          141,
          106,
          85,
          82,
          99,
          28,
          95,
          130,
          117,
          54,
          128,
          47,
          47,
          140,
          124,
          48,
          140,
          110,
          53,
          229,
          128,
          118,
          127,
          96,
          91,
          103,
          78
         ]
        },
        {
         "mode": "lines",
         "name": "Predicción",
         "type": "scatter",
         "x": [
          "2023-09-06T08:00:00",
          "2023-09-06T16:00:00",
          "2023-09-07T00:00:00",
          "2023-09-07T08:00:00",
          "2023-09-07T16:00:00",
          "2023-09-08T00:00:00",
          "2023-09-08T08:00:00",
          "2023-09-08T16:00:00",
          "2023-09-09T00:00:00",
          "2023-09-09T08:00:00",
          "2023-09-09T16:00:00",
          "2023-09-10T00:00:00",
          "2023-09-10T08:00:00",
          "2023-09-10T16:00:00",
          "2023-09-11T00:00:00",
          "2023-09-11T08:00:00",
          "2023-09-11T16:00:00",
          "2023-09-12T00:00:00",
          "2023-09-12T08:00:00",
          "2023-09-12T16:00:00",
          "2023-09-13T00:00:00",
          "2023-09-13T08:00:00",
          "2023-09-13T16:00:00",
          "2023-09-14T00:00:00",
          "2023-09-14T08:00:00",
          "2023-09-14T16:00:00",
          "2023-09-15T00:00:00",
          "2023-09-15T08:00:00",
          "2023-09-15T16:00:00",
          "2023-09-16T00:00:00",
          "2023-09-16T08:00:00",
          "2023-09-16T16:00:00",
          "2023-09-17T00:00:00",
          "2023-09-17T08:00:00",
          "2023-09-17T16:00:00",
          "2023-09-18T00:00:00",
          "2023-09-18T08:00:00",
          "2023-09-18T16:00:00",
          "2023-09-19T00:00:00",
          "2023-09-19T08:00:00",
          "2023-09-19T16:00:00",
          "2023-09-20T00:00:00",
          "2023-09-20T08:00:00",
          "2023-09-20T16:00:00",
          "2023-09-21T00:00:00",
          "2023-09-21T08:00:00",
          "2023-09-21T16:00:00",
          "2023-09-22T00:00:00",
          "2023-09-22T08:00:00",
          "2023-09-22T16:00:00",
          "2023-09-23T00:00:00",
          "2023-09-23T08:00:00",
          "2023-09-23T16:00:00",
          "2023-09-24T00:00:00",
          "2023-09-24T08:00:00",
          "2023-09-24T16:00:00",
          "2023-09-25T00:00:00",
          "2023-09-25T08:00:00",
          "2023-09-25T16:00:00",
          "2023-09-26T00:00:00",
          "2023-09-26T08:00:00",
          "2023-09-26T16:00:00",
          "2023-09-27T00:00:00",
          "2023-09-27T08:00:00",
          "2023-09-27T16:00:00",
          "2023-09-28T00:00:00",
          "2023-09-28T08:00:00",
          "2023-09-28T16:00:00",
          "2023-09-29T00:00:00",
          "2023-09-29T08:00:00",
          "2023-09-29T16:00:00",
          "2023-09-30T00:00:00",
          "2023-09-30T08:00:00",
          "2023-09-30T16:00:00",
          "2023-10-01T00:00:00",
          "2023-10-01T08:00:00",
          "2023-10-01T16:00:00",
          "2023-10-02T00:00:00",
          "2023-10-02T08:00:00",
          "2023-10-02T16:00:00",
          "2023-10-03T00:00:00",
          "2023-10-03T08:00:00",
          "2023-10-03T16:00:00",
          "2023-10-04T00:00:00",
          "2023-10-04T08:00:00",
          "2023-10-04T16:00:00"
         ],
         "y": [
          130.77759842648845,
          127.88900152166774,
          94.7245229341104,
          104.23993531851782,
          96.95072971001652,
          83.13888052881981,
          101.34664463469669,
          99.59358489660977,
          95.60711529903206,
          99.12314630299227,
          99.417656495577,
          96.64823423500756,
          96.37325899809815,
          99.46200091986009,
          109.11786997402956,
          95.6069490873232,
          92.65897753945212,
          93.46796887148639,
          104.09509578631514,
          93.76631187839777,
          95.47294498300414,
          106.95192495671584,
          142.5079378042924,
          90.27368030747832,
          117.90450653327872,
          102.82653716622401,
          108.15556803944585,
          91.47160045382572,
          118.20047710577083,
          111.6159284816661,
          133.07968790726076,
          129.73703738541667,
          128.01743542389053,
          123.28058270564823,
          129.65900291048558,
          126.46613905981704,
          141.1975730900798,
          128.9284546230139,
          131.23144262748875,
          96.75137470259118,
          115.45749242955166,
          114.88762843306081,
          103.78663578272277,
          107.17508506002191,
          107.67689602996637,
          102.01508861397586,
          111.98934508058544,
          102.7041438088978,
          97.70148022304407,
          118.11603239788076,
          115.47401565649238,
          117.69773226464527,
          101.97251285711003,
          134.6960861116481,
          141.10185659446023,
          135.83467453320648,
          135.04688745047102,
          131.11046707951144,
          161.04920948772443,
          130.220159282609,
          143.72698634066006,
          123.69688211736495,
          98.4087691257471,
          109.4108128206798,
          96.29681978946753,
          90.94071378928209,
          99.68361916358036,
          130.5540698795919,
          119.9907366426456,
          109.79354191220655,
          149.2640426282772,
          90.1897623718741,
          83.64455571514702,
          148.72454896548066,
          95.58325374171109,
          98.97604031983822,
          154.77119546388843,
          95.22198835630381,
          113.4072854281957,
          152.1144959913318,
          157.6560858773883,
          130.2822451982788,
          131.7417578028103,
          95.85682771444938,
          98.49917641947334,
          97.81284699450818
         ]
        }
       ],
       "layout": {
        "showlegend": true,
        "template": {
         "data": {
          "bar": [
           {
            "error_x": {
             "color": "#2a3f5f"
            },
            "error_y": {
             "color": "#2a3f5f"
            },
            "marker": {
             "line": {
              "color": "#E5ECF6",
              "width": 0.5
             },
             "pattern": {
              "fillmode": "overlay",
              "size": 10,
              "solidity": 0.2
             }
            },
            "type": "bar"
           }
          ],
          "barpolar": [
           {
            "marker": {
             "line": {
              "color": "#E5ECF6",
              "width": 0.5
             },
             "pattern": {
              "fillmode": "overlay",
              "size": 10,
              "solidity": 0.2
             }
            },
            "type": "barpolar"
           }
          ],
          "carpet": [
           {
            "aaxis": {
             "endlinecolor": "#2a3f5f",
             "gridcolor": "white",
             "linecolor": "white",
             "minorgridcolor": "white",
             "startlinecolor": "#2a3f5f"
            },
            "baxis": {
             "endlinecolor": "#2a3f5f",
             "gridcolor": "white",
             "linecolor": "white",
             "minorgridcolor": "white",
             "startlinecolor": "#2a3f5f"
            },
            "type": "carpet"
           }
          ],
          "choropleth": [
           {
            "colorbar": {
             "outlinewidth": 0,
             "ticks": ""
            },
            "type": "choropleth"
           }
          ],
          "contour": [
           {
            "colorbar": {
             "outlinewidth": 0,
             "ticks": ""
            },
            "colorscale": [
             [
              0,
              "#0d0887"
             ],
             [
              0.1111111111111111,
              "#46039f"
             ],
             [
              0.2222222222222222,
              "#7201a8"
             ],
             [
              0.3333333333333333,
              "#9c179e"
             ],
             [
              0.4444444444444444,
              "#bd3786"
             ],
             [
              0.5555555555555556,
              "#d8576b"
             ],
             [
              0.6666666666666666,
              "#ed7953"
             ],
             [
              0.7777777777777778,
              "#fb9f3a"
             ],
             [
              0.8888888888888888,
              "#fdca26"
             ],
             [
              1,
              "#f0f921"
             ]
            ],
            "type": "contour"
           }
          ],
          "contourcarpet": [
           {
            "colorbar": {
             "outlinewidth": 0,
             "ticks": ""
            },
            "type": "contourcarpet"
           }
          ],
          "heatmap": [
           {
            "colorbar": {
             "outlinewidth": 0,
             "ticks": ""
            },
            "colorscale": [
             [
              0,
              "#0d0887"
             ],
             [
              0.1111111111111111,
              "#46039f"
             ],
             [
              0.2222222222222222,
              "#7201a8"
             ],
             [
              0.3333333333333333,
              "#9c179e"
             ],
             [
              0.4444444444444444,
              "#bd3786"
             ],
             [
              0.5555555555555556,
              "#d8576b"
             ],
             [
              0.6666666666666666,
              "#ed7953"
             ],
             [
              0.7777777777777778,
              "#fb9f3a"
             ],
             [
              0.8888888888888888,
              "#fdca26"
             ],
             [
              1,
              "#f0f921"
             ]
            ],
            "type": "heatmap"
           }
          ],
          "heatmapgl": [
           {
            "colorbar": {
             "outlinewidth": 0,
             "ticks": ""
            },
            "colorscale": [
             [
              0,
              "#0d0887"
             ],
             [
              0.1111111111111111,
              "#46039f"
             ],
             [
              0.2222222222222222,
              "#7201a8"
             ],
             [
              0.3333333333333333,
              "#9c179e"
             ],
             [
              0.4444444444444444,
              "#bd3786"
             ],
             [
              0.5555555555555556,
              "#d8576b"
             ],
             [
              0.6666666666666666,
              "#ed7953"
             ],
             [
              0.7777777777777778,
              "#fb9f3a"
             ],
             [
              0.8888888888888888,
              "#fdca26"
             ],
             [
              1,
              "#f0f921"
             ]
            ],
            "type": "heatmapgl"
           }
          ],
          "histogram": [
           {
            "marker": {
             "pattern": {
              "fillmode": "overlay",
              "size": 10,
              "solidity": 0.2
             }
            },
            "type": "histogram"
           }
          ],
          "histogram2d": [
           {
            "colorbar": {
             "outlinewidth": 0,
             "ticks": ""
            },
            "colorscale": [
             [
              0,
              "#0d0887"
             ],
             [
              0.1111111111111111,
              "#46039f"
             ],
             [
              0.2222222222222222,
              "#7201a8"
             ],
             [
              0.3333333333333333,
              "#9c179e"
             ],
             [
              0.4444444444444444,
              "#bd3786"
             ],
             [
              0.5555555555555556,
              "#d8576b"
             ],
             [
              0.6666666666666666,
              "#ed7953"
             ],
             [
              0.7777777777777778,
              "#fb9f3a"
             ],
             [
              0.8888888888888888,
              "#fdca26"
             ],
             [
              1,
              "#f0f921"
             ]
            ],
            "type": "histogram2d"
           }
          ],
          "histogram2dcontour": [
           {
            "colorbar": {
             "outlinewidth": 0,
             "ticks": ""
            },
            "colorscale": [
             [
              0,
              "#0d0887"
             ],
             [
              0.1111111111111111,
              "#46039f"
             ],
             [
              0.2222222222222222,
              "#7201a8"
             ],
             [
              0.3333333333333333,
              "#9c179e"
             ],
             [
              0.4444444444444444,
              "#bd3786"
             ],
             [
              0.5555555555555556,
              "#d8576b"
             ],
             [
              0.6666666666666666,
              "#ed7953"
             ],
             [
              0.7777777777777778,
              "#fb9f3a"
             ],
             [
              0.8888888888888888,
              "#fdca26"
             ],
             [
              1,
              "#f0f921"
             ]
            ],
            "type": "histogram2dcontour"
           }
          ],
          "mesh3d": [
           {
            "colorbar": {
             "outlinewidth": 0,
             "ticks": ""
            },
            "type": "mesh3d"
           }
          ],
          "parcoords": [
           {
            "line": {
             "colorbar": {
              "outlinewidth": 0,
              "ticks": ""
             }
            },
            "type": "parcoords"
           }
          ],
          "pie": [
           {
            "automargin": true,
            "type": "pie"
           }
          ],
          "scatter": [
           {
            "fillpattern": {
             "fillmode": "overlay",
             "size": 10,
             "solidity": 0.2
            },
            "type": "scatter"
           }
          ],
          "scatter3d": [
           {
            "line": {
             "colorbar": {
              "outlinewidth": 0,
              "ticks": ""
             }
            },
            "marker": {
             "colorbar": {
              "outlinewidth": 0,
              "ticks": ""
             }
            },
            "type": "scatter3d"
           }
          ],
          "scattercarpet": [
           {
            "marker": {
             "colorbar": {
              "outlinewidth": 0,
              "ticks": ""
             }
            },
            "type": "scattercarpet"
           }
          ],
          "scattergeo": [
           {
            "marker": {
             "colorbar": {
              "outlinewidth": 0,
              "ticks": ""
             }
            },
            "type": "scattergeo"
           }
          ],
          "scattergl": [
           {
            "marker": {
             "colorbar": {
              "outlinewidth": 0,
              "ticks": ""
             }
            },
            "type": "scattergl"
           }
          ],
          "scattermapbox": [
           {
            "marker": {
             "colorbar": {
              "outlinewidth": 0,
              "ticks": ""
             }
            },
            "type": "scattermapbox"
           }
          ],
          "scatterpolar": [
           {
            "marker": {
             "colorbar": {
              "outlinewidth": 0,
              "ticks": ""
             }
            },
            "type": "scatterpolar"
           }
          ],
          "scatterpolargl": [
           {
            "marker": {
             "colorbar": {
              "outlinewidth": 0,
              "ticks": ""
             }
            },
            "type": "scatterpolargl"
           }
          ],
          "scatterternary": [
           {
            "marker": {
             "colorbar": {
              "outlinewidth": 0,
              "ticks": ""
             }
            },
            "type": "scatterternary"
           }
          ],
          "surface": [
           {
            "colorbar": {
             "outlinewidth": 0,
             "ticks": ""
            },
            "colorscale": [
             [
              0,
              "#0d0887"
             ],
             [
              0.1111111111111111,
              "#46039f"
             ],
             [
              0.2222222222222222,
              "#7201a8"
             ],
             [
              0.3333333333333333,
              "#9c179e"
             ],
             [
              0.4444444444444444,
              "#bd3786"
             ],
             [
              0.5555555555555556,
              "#d8576b"
             ],
             [
              0.6666666666666666,
              "#ed7953"
             ],
             [
              0.7777777777777778,
              "#fb9f3a"
             ],
             [
              0.8888888888888888,
              "#fdca26"
             ],
             [
              1,
              "#f0f921"
             ]
            ],
            "type": "surface"
           }
          ],
          "table": [
           {
            "cells": {
             "fill": {
              "color": "#EBF0F8"
             },
             "line": {
              "color": "white"
             }
            },
            "header": {
             "fill": {
              "color": "#C8D4E3"
             },
             "line": {
              "color": "white"
             }
            },
            "type": "table"
           }
          ]
         },
         "layout": {
          "annotationdefaults": {
           "arrowcolor": "#2a3f5f",
           "arrowhead": 0,
           "arrowwidth": 1
          },
          "autotypenumbers": "strict",
          "coloraxis": {
           "colorbar": {
            "outlinewidth": 0,
            "ticks": ""
           }
          },
          "colorscale": {
           "diverging": [
            [
             0,
             "#8e0152"
            ],
            [
             0.1,
             "#c51b7d"
            ],
            [
             0.2,
             "#de77ae"
            ],
            [
             0.3,
             "#f1b6da"
            ],
            [
             0.4,
             "#fde0ef"
            ],
            [
             0.5,
             "#f7f7f7"
            ],
            [
             0.6,
             "#e6f5d0"
            ],
            [
             0.7,
             "#b8e186"
            ],
            [
             0.8,
             "#7fbc41"
            ],
            [
             0.9,
             "#4d9221"
            ],
            [
             1,
             "#276419"
            ]
           ],
           "sequential": [
            [
             0,
             "#0d0887"
            ],
            [
             0.1111111111111111,
             "#46039f"
            ],
            [
             0.2222222222222222,
             "#7201a8"
            ],
            [
             0.3333333333333333,
             "#9c179e"
            ],
            [
             0.4444444444444444,
             "#bd3786"
            ],
            [
             0.5555555555555556,
             "#d8576b"
            ],
            [
             0.6666666666666666,
             "#ed7953"
            ],
            [
             0.7777777777777778,
             "#fb9f3a"
            ],
            [
             0.8888888888888888,
             "#fdca26"
            ],
            [
             1,
             "#f0f921"
            ]
           ],
           "sequentialminus": [
            [
             0,
             "#0d0887"
            ],
            [
             0.1111111111111111,
             "#46039f"
            ],
            [
             0.2222222222222222,
             "#7201a8"
            ],
            [
             0.3333333333333333,
             "#9c179e"
            ],
            [
             0.4444444444444444,
             "#bd3786"
            ],
            [
             0.5555555555555556,
             "#d8576b"
            ],
            [
             0.6666666666666666,
             "#ed7953"
            ],
            [
             0.7777777777777778,
             "#fb9f3a"
            ],
            [
             0.8888888888888888,
             "#fdca26"
            ],
            [
             1,
             "#f0f921"
            ]
           ]
          },
          "colorway": [
           "#636efa",
           "#EF553B",
           "#00cc96",
           "#ab63fa",
           "#FFA15A",
           "#19d3f3",
           "#FF6692",
           "#B6E880",
           "#FF97FF",
           "#FECB52"
          ],
          "font": {
           "color": "#2a3f5f"
          },
          "geo": {
           "bgcolor": "white",
           "lakecolor": "white",
           "landcolor": "#E5ECF6",
           "showlakes": true,
           "showland": true,
           "subunitcolor": "white"
          },
          "hoverlabel": {
           "align": "left"
          },
          "hovermode": "closest",
          "mapbox": {
           "style": "light"
          },
          "paper_bgcolor": "white",
          "plot_bgcolor": "#E5ECF6",
          "polar": {
           "angularaxis": {
            "gridcolor": "white",
            "linecolor": "white",
            "ticks": ""
           },
           "bgcolor": "#E5ECF6",
           "radialaxis": {
            "gridcolor": "white",
            "linecolor": "white",
            "ticks": ""
           }
          },
          "scene": {
           "xaxis": {
            "backgroundcolor": "#E5ECF6",
            "gridcolor": "white",
            "gridwidth": 2,
            "linecolor": "white",
            "showbackground": true,
            "ticks": "",
            "zerolinecolor": "white"
           },
           "yaxis": {
            "backgroundcolor": "#E5ECF6",
            "gridcolor": "white",
            "gridwidth": 2,
            "linecolor": "white",
            "showbackground": true,
            "ticks": "",
            "zerolinecolor": "white"
           },
           "zaxis": {
            "backgroundcolor": "#E5ECF6",
            "gridcolor": "white",
            "gridwidth": 2,
            "linecolor": "white",
            "showbackground": true,
            "ticks": "",
            "zerolinecolor": "white"
           }
          },
          "shapedefaults": {
           "line": {
            "color": "#2a3f5f"
           }
          },
          "ternary": {
           "aaxis": {
            "gridcolor": "white",
            "linecolor": "white",
            "ticks": ""
           },
           "baxis": {
            "gridcolor": "white",
            "linecolor": "white",
            "ticks": ""
           },
           "bgcolor": "#E5ECF6",
           "caxis": {
            "gridcolor": "white",
            "linecolor": "white",
            "ticks": ""
           }
          },
          "title": {
           "x": 0.05
          },
          "xaxis": {
           "automargin": true,
           "gridcolor": "white",
           "linecolor": "white",
           "ticks": "",
           "title": {
            "standoff": 15
           },
           "zerolinecolor": "white",
           "zerolinewidth": 2
          },
          "yaxis": {
           "automargin": true,
           "gridcolor": "white",
           "linecolor": "white",
           "ticks": "",
           "title": {
            "standoff": 15
           },
           "zerolinecolor": "white",
           "zerolinewidth": 2
          }
         }
        },
        "title": {
         "text": "Predicción vs Real (KNN)"
        }
       }
      }
     },
     "metadata": {},
     "output_type": "display_data"
    }
   ],
   "source": [
    "# Predictions\n",
    "y_pred = grid_knn.predict(X_test)\n",
    "\n",
    "# Metrics\n",
    "mse = mean_squared_error(y_test, y_pred)\n",
    "mape = mean_absolute_percentage_error(y_test, y_pred)\n",
    "r2 = grid_knn.score(X_test, y_test)\n",
    "models_metrics = [{'Model': 'KNN', 'MSE': mse, 'RMSE':mse**0.5, 'MAPE': mape, 'R2': r2}]\n",
    "print(models_metrics)\n",
    "\n",
    "#Plot predictions vs real values but with matplotlib\n",
    "plt.figure(figsize=(15,5))\n",
    "plt.plot(X_test.index, y_test, label='Real')\n",
    "plt.plot(X_test.index, y_pred, label='Predicción')\n",
    "plt.xlabel('Date')\n",
    "plt.ylabel('Available')\n",
    "plt.title('Predicción vs Real (KNN)')\n",
    "plt.legend(loc='best')\n",
    "plt.show()"
   ]
  },
  {
   "cell_type": "markdown",
   "metadata": {},
   "source": [
    "# Ridge"
   ]
  },
  {
   "cell_type": "code",
   "execution_count": 18,
   "metadata": {},
   "outputs": [
    {
     "name": "stdout",
     "output_type": "stream",
     "text": [
      "Best parameters:  {'ridge__alpha': 0.1, 'ridge__solver': 'sag'}\n",
      "Best score:  -2704.997285950826\n"
     ]
    }
   ],
   "source": [
    "# Apply Ridge to forecast my time series (available) tunning hyperparamets without cross validation\n",
    "\n",
    "if (len(glob.glob(\"ridge_model_naugd.pkl\")) != 0):\n",
    "    \n",
    "    grid_rdg = pickle.load(open('ridge_model_naugd.pkl','rb'))\n",
    "        \n",
    "else:\n",
    "\n",
    "    pipe = Pipeline([\n",
    "    ('scaler', MinMaxScaler()), \n",
    "    ('ridge', Ridge())])\n",
    "\n",
    "    param_grid = {'ridge__alpha': [0.1, 0.5, 1, 5, 10, 50, 100],\n",
    "                    'ridge__solver': ['svd', 'cholesky', 'lsqr', 'sparse_cg', 'sag', 'saga']}\n",
    "\n",
    "    grid_rdg = GridSearchCV(pipe, param_grid, cv=TimeSeriesSplit(n_splits=5), scoring='neg_mean_squared_error', n_jobs=-1)\n",
    "    grid_rdg.fit(X_train, y_train)\n",
    "    # Export model to pickle\n",
    "    pickle.dump(grid_rdg, open('ridge_model_naugd.pkl', 'wb'))\n",
    "    \n",
    "print(\"Best parameters: \", grid_rdg.best_params_)\n",
    "print(\"Best score: \", grid_rdg.best_score_)"
   ]
  },
  {
   "cell_type": "code",
   "execution_count": 19,
   "metadata": {},
   "outputs": [
    {
     "name": "stdout",
     "output_type": "stream",
     "text": [
      "[{'Model': 'KNN', 'MSE': 1295.5237527506472, 'RMSE': 35.993384847088876, 'MAPE': 0.40607448792176354}, {'Model': 'Ridge', 'MSE': 1448.867944346486, 'RMSE': 38.063998007914066, 'MAPE': 0.4522864563680011}]\n"
     ]
    },
    {
     "data": {
      "application/vnd.plotly.v1+json": {
       "config": {
        "plotlyServerURL": "https://plot.ly"
       },
       "data": [
        {
         "mode": "lines",
         "name": "Real",
         "type": "scatter",
         "x": [
          "2023-09-06T08:00:00",
          "2023-09-06T16:00:00",
          "2023-09-07T00:00:00",
          "2023-09-07T08:00:00",
          "2023-09-07T16:00:00",
          "2023-09-08T00:00:00",
          "2023-09-08T08:00:00",
          "2023-09-08T16:00:00",
          "2023-09-09T00:00:00",
          "2023-09-09T08:00:00",
          "2023-09-09T16:00:00",
          "2023-09-10T00:00:00",
          "2023-09-10T08:00:00",
          "2023-09-10T16:00:00",
          "2023-09-11T00:00:00",
          "2023-09-11T08:00:00",
          "2023-09-11T16:00:00",
          "2023-09-12T00:00:00",
          "2023-09-12T08:00:00",
          "2023-09-12T16:00:00",
          "2023-09-13T00:00:00",
          "2023-09-13T08:00:00",
          "2023-09-13T16:00:00",
          "2023-09-14T00:00:00",
          "2023-09-14T08:00:00",
          "2023-09-14T16:00:00",
          "2023-09-15T00:00:00",
          "2023-09-15T08:00:00",
          "2023-09-15T16:00:00",
          "2023-09-16T00:00:00",
          "2023-09-16T08:00:00",
          "2023-09-16T16:00:00",
          "2023-09-17T00:00:00",
          "2023-09-17T08:00:00",
          "2023-09-17T16:00:00",
          "2023-09-18T00:00:00",
          "2023-09-18T08:00:00",
          "2023-09-18T16:00:00",
          "2023-09-19T00:00:00",
          "2023-09-19T08:00:00",
          "2023-09-19T16:00:00",
          "2023-09-20T00:00:00",
          "2023-09-20T08:00:00",
          "2023-09-20T16:00:00",
          "2023-09-21T00:00:00",
          "2023-09-21T08:00:00",
          "2023-09-21T16:00:00",
          "2023-09-22T00:00:00",
          "2023-09-22T08:00:00",
          "2023-09-22T16:00:00",
          "2023-09-23T00:00:00",
          "2023-09-23T08:00:00",
          "2023-09-23T16:00:00",
          "2023-09-24T00:00:00",
          "2023-09-24T08:00:00",
          "2023-09-24T16:00:00",
          "2023-09-25T00:00:00",
          "2023-09-25T08:00:00",
          "2023-09-25T16:00:00",
          "2023-09-26T00:00:00",
          "2023-09-26T08:00:00",
          "2023-09-26T16:00:00",
          "2023-09-27T00:00:00",
          "2023-09-27T08:00:00",
          "2023-09-27T16:00:00",
          "2023-09-28T00:00:00",
          "2023-09-28T08:00:00",
          "2023-09-28T16:00:00",
          "2023-09-29T00:00:00",
          "2023-09-29T08:00:00",
          "2023-09-29T16:00:00",
          "2023-09-30T00:00:00",
          "2023-09-30T08:00:00",
          "2023-09-30T16:00:00",
          "2023-10-01T00:00:00",
          "2023-10-01T08:00:00",
          "2023-10-01T16:00:00",
          "2023-10-02T00:00:00",
          "2023-10-02T08:00:00",
          "2023-10-02T16:00:00",
          "2023-10-03T00:00:00",
          "2023-10-03T08:00:00",
          "2023-10-03T16:00:00",
          "2023-10-04T00:00:00",
          "2023-10-04T08:00:00",
          "2023-10-04T16:00:00"
         ],
         "y": [
          121,
          91,
          81,
          110,
          78,
          69,
          100,
          87,
          86,
          107,
          97,
          94,
          85,
          80,
          98,
          107,
          104,
          21,
          106,
          91,
          72,
          129,
          93,
          40,
          42,
          98,
          76,
          144,
          124,
          134,
          130,
          119,
          117,
          127,
          118,
          151,
          137,
          70,
          42,
          48,
          101,
          100,
          123,
          110,
          72,
          126,
          119,
          37,
          120,
          39,
          126,
          129,
          124,
          143,
          141,
          127,
          134,
          161,
          126,
          141,
          106,
          85,
          82,
          99,
          28,
          95,
          130,
          117,
          54,
          128,
          47,
          47,
          140,
          124,
          48,
          140,
          110,
          53,
          229,
          128,
          118,
          127,
          96,
          91,
          103,
          78
         ]
        },
        {
         "mode": "lines",
         "name": "Predicción",
         "type": "scatter",
         "x": [
          "2023-09-06T08:00:00",
          "2023-09-06T16:00:00",
          "2023-09-07T00:00:00",
          "2023-09-07T08:00:00",
          "2023-09-07T16:00:00",
          "2023-09-08T00:00:00",
          "2023-09-08T08:00:00",
          "2023-09-08T16:00:00",
          "2023-09-09T00:00:00",
          "2023-09-09T08:00:00",
          "2023-09-09T16:00:00",
          "2023-09-10T00:00:00",
          "2023-09-10T08:00:00",
          "2023-09-10T16:00:00",
          "2023-09-11T00:00:00",
          "2023-09-11T08:00:00",
          "2023-09-11T16:00:00",
          "2023-09-12T00:00:00",
          "2023-09-12T08:00:00",
          "2023-09-12T16:00:00",
          "2023-09-13T00:00:00",
          "2023-09-13T08:00:00",
          "2023-09-13T16:00:00",
          "2023-09-14T00:00:00",
          "2023-09-14T08:00:00",
          "2023-09-14T16:00:00",
          "2023-09-15T00:00:00",
          "2023-09-15T08:00:00",
          "2023-09-15T16:00:00",
          "2023-09-16T00:00:00",
          "2023-09-16T08:00:00",
          "2023-09-16T16:00:00",
          "2023-09-17T00:00:00",
          "2023-09-17T08:00:00",
          "2023-09-17T16:00:00",
          "2023-09-18T00:00:00",
          "2023-09-18T08:00:00",
          "2023-09-18T16:00:00",
          "2023-09-19T00:00:00",
          "2023-09-19T08:00:00",
          "2023-09-19T16:00:00",
          "2023-09-20T00:00:00",
          "2023-09-20T08:00:00",
          "2023-09-20T16:00:00",
          "2023-09-21T00:00:00",
          "2023-09-21T08:00:00",
          "2023-09-21T16:00:00",
          "2023-09-22T00:00:00",
          "2023-09-22T08:00:00",
          "2023-09-22T16:00:00",
          "2023-09-23T00:00:00",
          "2023-09-23T08:00:00",
          "2023-09-23T16:00:00",
          "2023-09-24T00:00:00",
          "2023-09-24T08:00:00",
          "2023-09-24T16:00:00",
          "2023-09-25T00:00:00",
          "2023-09-25T08:00:00",
          "2023-09-25T16:00:00",
          "2023-09-26T00:00:00",
          "2023-09-26T08:00:00",
          "2023-09-26T16:00:00",
          "2023-09-27T00:00:00",
          "2023-09-27T08:00:00",
          "2023-09-27T16:00:00",
          "2023-09-28T00:00:00",
          "2023-09-28T08:00:00",
          "2023-09-28T16:00:00",
          "2023-09-29T00:00:00",
          "2023-09-29T08:00:00",
          "2023-09-29T16:00:00",
          "2023-09-30T00:00:00",
          "2023-09-30T08:00:00",
          "2023-09-30T16:00:00",
          "2023-10-01T00:00:00",
          "2023-10-01T08:00:00",
          "2023-10-01T16:00:00",
          "2023-10-02T00:00:00",
          "2023-10-02T08:00:00",
          "2023-10-02T16:00:00",
          "2023-10-03T00:00:00",
          "2023-10-03T08:00:00",
          "2023-10-03T16:00:00",
          "2023-10-04T00:00:00",
          "2023-10-04T08:00:00",
          "2023-10-04T16:00:00"
         ],
         "y": [
          144.95523784373188,
          132.80157705800994,
          122.61909566903938,
          110.20468856988961,
          112.23668299361235,
          102.05479183805038,
          100.74554233589413,
          103.20544914868134,
          100.90656399025656,
          106.21927261898688,
          110.8788581523077,
          110.14110613622411,
          112.65516234396539,
          106.20219337996693,
          102.08457311201028,
          105.9530245087191,
          111.04330945900723,
          115.84601450591902,
          85.68244524911199,
          104.35483759535228,
          91.3622182233871,
          102.97734339608196,
          118.10795415840107,
          108.61050515736,
          96.75380168639995,
          80.00644261386847,
          88.57882195016658,
          89.5783564752951,
          126.27727119495455,
          123.94529976022417,
          141.6547460156757,
          136.6977375841758,
          134.3334108947169,
          130.79923925825574,
          131.5673627817078,
          129.20271478003178,
          142.9709268347405,
          140.60735103479877,
          120.86246108207872,
          95.84913264793113,
          76.86447071837186,
          91.195622513219,
          100.80022932649976,
          122.79019298654751,
          121.2180726354349,
          110.28438630592365,
          121.72091198527059,
          118.13609286515813,
          99.00845270363914,
          116.06756264485267,
          77.60635088528403,
          118.94766363416147,
          113.704131116111,
          134.09017339760905,
          141.35450008347658,
          142.37163182206797,
          141.43121412938208,
          141.38220921293367,
          149.3805009442134,
          141.98958000321477,
          148.93440110827748,
          129.08396338743495,
          119.16354956687795,
          105.86528724792504,
          106.6580115607142,
          81.30295407496756,
          99.98753048170494,
          106.36655604279225,
          123.77786476339607,
          106.2342437073868,
          121.3656937563659,
          86.23128944035905,
          91.83334518965992,
          107.2988619517524,
          116.02833194727283,
          107.55492638052296,
          126.77975322645595,
          110.89150779622199,
          107.23808317762959,
          158.31790525137043,
          133.31980068863706,
          157.46579567840988,
          133.98571421612937,
          120.98717985493269,
          116.35896577174893,
          112.3981506101833
         ]
        }
       ],
       "layout": {
        "showlegend": true,
        "template": {
         "data": {
          "bar": [
           {
            "error_x": {
             "color": "#2a3f5f"
            },
            "error_y": {
             "color": "#2a3f5f"
            },
            "marker": {
             "line": {
              "color": "#E5ECF6",
              "width": 0.5
             },
             "pattern": {
              "fillmode": "overlay",
              "size": 10,
              "solidity": 0.2
             }
            },
            "type": "bar"
           }
          ],
          "barpolar": [
           {
            "marker": {
             "line": {
              "color": "#E5ECF6",
              "width": 0.5
             },
             "pattern": {
              "fillmode": "overlay",
              "size": 10,
              "solidity": 0.2
             }
            },
            "type": "barpolar"
           }
          ],
          "carpet": [
           {
            "aaxis": {
             "endlinecolor": "#2a3f5f",
             "gridcolor": "white",
             "linecolor": "white",
             "minorgridcolor": "white",
             "startlinecolor": "#2a3f5f"
            },
            "baxis": {
             "endlinecolor": "#2a3f5f",
             "gridcolor": "white",
             "linecolor": "white",
             "minorgridcolor": "white",
             "startlinecolor": "#2a3f5f"
            },
            "type": "carpet"
           }
          ],
          "choropleth": [
           {
            "colorbar": {
             "outlinewidth": 0,
             "ticks": ""
            },
            "type": "choropleth"
           }
          ],
          "contour": [
           {
            "colorbar": {
             "outlinewidth": 0,
             "ticks": ""
            },
            "colorscale": [
             [
              0,
              "#0d0887"
             ],
             [
              0.1111111111111111,
              "#46039f"
             ],
             [
              0.2222222222222222,
              "#7201a8"
             ],
             [
              0.3333333333333333,
              "#9c179e"
             ],
             [
              0.4444444444444444,
              "#bd3786"
             ],
             [
              0.5555555555555556,
              "#d8576b"
             ],
             [
              0.6666666666666666,
              "#ed7953"
             ],
             [
              0.7777777777777778,
              "#fb9f3a"
             ],
             [
              0.8888888888888888,
              "#fdca26"
             ],
             [
              1,
              "#f0f921"
             ]
            ],
            "type": "contour"
           }
          ],
          "contourcarpet": [
           {
            "colorbar": {
             "outlinewidth": 0,
             "ticks": ""
            },
            "type": "contourcarpet"
           }
          ],
          "heatmap": [
           {
            "colorbar": {
             "outlinewidth": 0,
             "ticks": ""
            },
            "colorscale": [
             [
              0,
              "#0d0887"
             ],
             [
              0.1111111111111111,
              "#46039f"
             ],
             [
              0.2222222222222222,
              "#7201a8"
             ],
             [
              0.3333333333333333,
              "#9c179e"
             ],
             [
              0.4444444444444444,
              "#bd3786"
             ],
             [
              0.5555555555555556,
              "#d8576b"
             ],
             [
              0.6666666666666666,
              "#ed7953"
             ],
             [
              0.7777777777777778,
              "#fb9f3a"
             ],
             [
              0.8888888888888888,
              "#fdca26"
             ],
             [
              1,
              "#f0f921"
             ]
            ],
            "type": "heatmap"
           }
          ],
          "heatmapgl": [
           {
            "colorbar": {
             "outlinewidth": 0,
             "ticks": ""
            },
            "colorscale": [
             [
              0,
              "#0d0887"
             ],
             [
              0.1111111111111111,
              "#46039f"
             ],
             [
              0.2222222222222222,
              "#7201a8"
             ],
             [
              0.3333333333333333,
              "#9c179e"
             ],
             [
              0.4444444444444444,
              "#bd3786"
             ],
             [
              0.5555555555555556,
              "#d8576b"
             ],
             [
              0.6666666666666666,
              "#ed7953"
             ],
             [
              0.7777777777777778,
              "#fb9f3a"
             ],
             [
              0.8888888888888888,
              "#fdca26"
             ],
             [
              1,
              "#f0f921"
             ]
            ],
            "type": "heatmapgl"
           }
          ],
          "histogram": [
           {
            "marker": {
             "pattern": {
              "fillmode": "overlay",
              "size": 10,
              "solidity": 0.2
             }
            },
            "type": "histogram"
           }
          ],
          "histogram2d": [
           {
            "colorbar": {
             "outlinewidth": 0,
             "ticks": ""
            },
            "colorscale": [
             [
              0,
              "#0d0887"
             ],
             [
              0.1111111111111111,
              "#46039f"
             ],
             [
              0.2222222222222222,
              "#7201a8"
             ],
             [
              0.3333333333333333,
              "#9c179e"
             ],
             [
              0.4444444444444444,
              "#bd3786"
             ],
             [
              0.5555555555555556,
              "#d8576b"
             ],
             [
              0.6666666666666666,
              "#ed7953"
             ],
             [
              0.7777777777777778,
              "#fb9f3a"
             ],
             [
              0.8888888888888888,
              "#fdca26"
             ],
             [
              1,
              "#f0f921"
             ]
            ],
            "type": "histogram2d"
           }
          ],
          "histogram2dcontour": [
           {
            "colorbar": {
             "outlinewidth": 0,
             "ticks": ""
            },
            "colorscale": [
             [
              0,
              "#0d0887"
             ],
             [
              0.1111111111111111,
              "#46039f"
             ],
             [
              0.2222222222222222,
              "#7201a8"
             ],
             [
              0.3333333333333333,
              "#9c179e"
             ],
             [
              0.4444444444444444,
              "#bd3786"
             ],
             [
              0.5555555555555556,
              "#d8576b"
             ],
             [
              0.6666666666666666,
              "#ed7953"
             ],
             [
              0.7777777777777778,
              "#fb9f3a"
             ],
             [
              0.8888888888888888,
              "#fdca26"
             ],
             [
              1,
              "#f0f921"
             ]
            ],
            "type": "histogram2dcontour"
           }
          ],
          "mesh3d": [
           {
            "colorbar": {
             "outlinewidth": 0,
             "ticks": ""
            },
            "type": "mesh3d"
           }
          ],
          "parcoords": [
           {
            "line": {
             "colorbar": {
              "outlinewidth": 0,
              "ticks": ""
             }
            },
            "type": "parcoords"
           }
          ],
          "pie": [
           {
            "automargin": true,
            "type": "pie"
           }
          ],
          "scatter": [
           {
            "fillpattern": {
             "fillmode": "overlay",
             "size": 10,
             "solidity": 0.2
            },
            "type": "scatter"
           }
          ],
          "scatter3d": [
           {
            "line": {
             "colorbar": {
              "outlinewidth": 0,
              "ticks": ""
             }
            },
            "marker": {
             "colorbar": {
              "outlinewidth": 0,
              "ticks": ""
             }
            },
            "type": "scatter3d"
           }
          ],
          "scattercarpet": [
           {
            "marker": {
             "colorbar": {
              "outlinewidth": 0,
              "ticks": ""
             }
            },
            "type": "scattercarpet"
           }
          ],
          "scattergeo": [
           {
            "marker": {
             "colorbar": {
              "outlinewidth": 0,
              "ticks": ""
             }
            },
            "type": "scattergeo"
           }
          ],
          "scattergl": [
           {
            "marker": {
             "colorbar": {
              "outlinewidth": 0,
              "ticks": ""
             }
            },
            "type": "scattergl"
           }
          ],
          "scattermapbox": [
           {
            "marker": {
             "colorbar": {
              "outlinewidth": 0,
              "ticks": ""
             }
            },
            "type": "scattermapbox"
           }
          ],
          "scatterpolar": [
           {
            "marker": {
             "colorbar": {
              "outlinewidth": 0,
              "ticks": ""
             }
            },
            "type": "scatterpolar"
           }
          ],
          "scatterpolargl": [
           {
            "marker": {
             "colorbar": {
              "outlinewidth": 0,
              "ticks": ""
             }
            },
            "type": "scatterpolargl"
           }
          ],
          "scatterternary": [
           {
            "marker": {
             "colorbar": {
              "outlinewidth": 0,
              "ticks": ""
             }
            },
            "type": "scatterternary"
           }
          ],
          "surface": [
           {
            "colorbar": {
             "outlinewidth": 0,
             "ticks": ""
            },
            "colorscale": [
             [
              0,
              "#0d0887"
             ],
             [
              0.1111111111111111,
              "#46039f"
             ],
             [
              0.2222222222222222,
              "#7201a8"
             ],
             [
              0.3333333333333333,
              "#9c179e"
             ],
             [
              0.4444444444444444,
              "#bd3786"
             ],
             [
              0.5555555555555556,
              "#d8576b"
             ],
             [
              0.6666666666666666,
              "#ed7953"
             ],
             [
              0.7777777777777778,
              "#fb9f3a"
             ],
             [
              0.8888888888888888,
              "#fdca26"
             ],
             [
              1,
              "#f0f921"
             ]
            ],
            "type": "surface"
           }
          ],
          "table": [
           {
            "cells": {
             "fill": {
              "color": "#EBF0F8"
             },
             "line": {
              "color": "white"
             }
            },
            "header": {
             "fill": {
              "color": "#C8D4E3"
             },
             "line": {
              "color": "white"
             }
            },
            "type": "table"
           }
          ]
         },
         "layout": {
          "annotationdefaults": {
           "arrowcolor": "#2a3f5f",
           "arrowhead": 0,
           "arrowwidth": 1
          },
          "autotypenumbers": "strict",
          "coloraxis": {
           "colorbar": {
            "outlinewidth": 0,
            "ticks": ""
           }
          },
          "colorscale": {
           "diverging": [
            [
             0,
             "#8e0152"
            ],
            [
             0.1,
             "#c51b7d"
            ],
            [
             0.2,
             "#de77ae"
            ],
            [
             0.3,
             "#f1b6da"
            ],
            [
             0.4,
             "#fde0ef"
            ],
            [
             0.5,
             "#f7f7f7"
            ],
            [
             0.6,
             "#e6f5d0"
            ],
            [
             0.7,
             "#b8e186"
            ],
            [
             0.8,
             "#7fbc41"
            ],
            [
             0.9,
             "#4d9221"
            ],
            [
             1,
             "#276419"
            ]
           ],
           "sequential": [
            [
             0,
             "#0d0887"
            ],
            [
             0.1111111111111111,
             "#46039f"
            ],
            [
             0.2222222222222222,
             "#7201a8"
            ],
            [
             0.3333333333333333,
             "#9c179e"
            ],
            [
             0.4444444444444444,
             "#bd3786"
            ],
            [
             0.5555555555555556,
             "#d8576b"
            ],
            [
             0.6666666666666666,
             "#ed7953"
            ],
            [
             0.7777777777777778,
             "#fb9f3a"
            ],
            [
             0.8888888888888888,
             "#fdca26"
            ],
            [
             1,
             "#f0f921"
            ]
           ],
           "sequentialminus": [
            [
             0,
             "#0d0887"
            ],
            [
             0.1111111111111111,
             "#46039f"
            ],
            [
             0.2222222222222222,
             "#7201a8"
            ],
            [
             0.3333333333333333,
             "#9c179e"
            ],
            [
             0.4444444444444444,
             "#bd3786"
            ],
            [
             0.5555555555555556,
             "#d8576b"
            ],
            [
             0.6666666666666666,
             "#ed7953"
            ],
            [
             0.7777777777777778,
             "#fb9f3a"
            ],
            [
             0.8888888888888888,
             "#fdca26"
            ],
            [
             1,
             "#f0f921"
            ]
           ]
          },
          "colorway": [
           "#636efa",
           "#EF553B",
           "#00cc96",
           "#ab63fa",
           "#FFA15A",
           "#19d3f3",
           "#FF6692",
           "#B6E880",
           "#FF97FF",
           "#FECB52"
          ],
          "font": {
           "color": "#2a3f5f"
          },
          "geo": {
           "bgcolor": "white",
           "lakecolor": "white",
           "landcolor": "#E5ECF6",
           "showlakes": true,
           "showland": true,
           "subunitcolor": "white"
          },
          "hoverlabel": {
           "align": "left"
          },
          "hovermode": "closest",
          "mapbox": {
           "style": "light"
          },
          "paper_bgcolor": "white",
          "plot_bgcolor": "#E5ECF6",
          "polar": {
           "angularaxis": {
            "gridcolor": "white",
            "linecolor": "white",
            "ticks": ""
           },
           "bgcolor": "#E5ECF6",
           "radialaxis": {
            "gridcolor": "white",
            "linecolor": "white",
            "ticks": ""
           }
          },
          "scene": {
           "xaxis": {
            "backgroundcolor": "#E5ECF6",
            "gridcolor": "white",
            "gridwidth": 2,
            "linecolor": "white",
            "showbackground": true,
            "ticks": "",
            "zerolinecolor": "white"
           },
           "yaxis": {
            "backgroundcolor": "#E5ECF6",
            "gridcolor": "white",
            "gridwidth": 2,
            "linecolor": "white",
            "showbackground": true,
            "ticks": "",
            "zerolinecolor": "white"
           },
           "zaxis": {
            "backgroundcolor": "#E5ECF6",
            "gridcolor": "white",
            "gridwidth": 2,
            "linecolor": "white",
            "showbackground": true,
            "ticks": "",
            "zerolinecolor": "white"
           }
          },
          "shapedefaults": {
           "line": {
            "color": "#2a3f5f"
           }
          },
          "ternary": {
           "aaxis": {
            "gridcolor": "white",
            "linecolor": "white",
            "ticks": ""
           },
           "baxis": {
            "gridcolor": "white",
            "linecolor": "white",
            "ticks": ""
           },
           "bgcolor": "#E5ECF6",
           "caxis": {
            "gridcolor": "white",
            "linecolor": "white",
            "ticks": ""
           }
          },
          "title": {
           "x": 0.05
          },
          "xaxis": {
           "automargin": true,
           "gridcolor": "white",
           "linecolor": "white",
           "ticks": "",
           "title": {
            "standoff": 15
           },
           "zerolinecolor": "white",
           "zerolinewidth": 2
          },
          "yaxis": {
           "automargin": true,
           "gridcolor": "white",
           "linecolor": "white",
           "ticks": "",
           "title": {
            "standoff": 15
           },
           "zerolinecolor": "white",
           "zerolinewidth": 2
          }
         }
        },
        "title": {
         "text": "Predicción vs Real (Ridge)"
        }
       }
      }
     },
     "metadata": {},
     "output_type": "display_data"
    }
   ],
   "source": [
    "# Calculate metrics\n",
    "y_pred = grid_rdg.predict(X_test)\n",
    "\n",
    "# Metrics\n",
    "mse = mean_squared_error(y_test, y_pred)\n",
    "mape = mean_absolute_percentage_error(y_test, y_pred)\n",
    "r2 = grid_rdg.score(X_test, y_test)\n",
    "models_metrics.append({'Model': 'Ridge', 'MSE': mse, 'RMSE':mse**0.5, 'MAPE': mape, 'R2': r2})\n",
    "print(models_metrics)\n",
    "\n",
    "#Plot predictions vs real values but with matplotlib\n",
    "plt.figure(figsize=(15,5))\n",
    "plt.plot(X_test.index, y_test, label='Real')\n",
    "plt.plot(X_test.index, y_pred, label='Predicción')\n",
    "plt.xlabel('Date')\n",
    "plt.ylabel('Available')\n",
    "plt.title('Predicción vs Real (Ridge)')\n",
    "plt.legend(loc='best')\n",
    "plt.show()"
   ]
  },
  {
   "cell_type": "markdown",
   "metadata": {},
   "source": [
    "# Lasso"
   ]
  },
  {
   "cell_type": "code",
   "execution_count": 20,
   "metadata": {},
   "outputs": [
    {
     "name": "stdout",
     "output_type": "stream",
     "text": [
      "Best parameters:  {'lasso__alpha': 0.1, 'lasso__selection': 'random'}\n",
      "Best score:  -2717.625599038759\n"
     ]
    }
   ],
   "source": [
    "# Apply Lasso to forecast my time series (available) tunning hyperparamets without cross validation\n",
    "\n",
    "if (len(glob.glob(\"lasso_model_naugd.pkl\")) != 0):\n",
    "        \n",
    "    grid_lss = pickle.load(open('lasso_model_naugd.pkl','rb'))\n",
    "        \n",
    "else:\n",
    "        \n",
    "    pipe = Pipeline([\n",
    "    ('scaler', MinMaxScaler()), \n",
    "    ('lasso', Lasso())])\n",
    "\n",
    "    param_grid = {'lasso__alpha': [0.1, 0.5, 1, 5, 10, 50, 100],\n",
    "                    'lasso__selection': ['cyclic', 'random']}\n",
    "    \n",
    "    grid_lss = GridSearchCV(pipe, param_grid, cv=TimeSeriesSplit(n_splits=5), scoring='neg_mean_squared_error', n_jobs=-1)\n",
    "    grid_lss.fit(X_train, y_train)\n",
    "    \n",
    "    # Export model to pickle\n",
    "    pickle.dump(grid_lss, open('lasso_model_naugd.pkl', 'wb'))\n",
    "        \n",
    "print(\"Best parameters: \", grid_lss.best_params_)\n",
    "print(\"Best score: \", grid_lss.best_score_)"
   ]
  },
  {
   "cell_type": "code",
   "execution_count": 21,
   "metadata": {},
   "outputs": [
    {
     "name": "stdout",
     "output_type": "stream",
     "text": [
      "[{'Model': 'KNN', 'MSE': 1295.5237527506472, 'RMSE': 35.993384847088876, 'MAPE': 0.40607448792176354}, {'Model': 'Ridge', 'MSE': 1448.867944346486, 'RMSE': 38.063998007914066, 'MAPE': 0.4522864563680011}, {'Model': 'Lasso', 'MSE': 1457.7905125089944, 'RMSE': 38.18102293691192, 'MAPE': 0.45454360898826485}]\n"
     ]
    },
    {
     "data": {
      "application/vnd.plotly.v1+json": {
       "config": {
        "plotlyServerURL": "https://plot.ly"
       },
       "data": [
        {
         "mode": "lines",
         "name": "Real",
         "type": "scatter",
         "x": [
          "2023-09-06T08:00:00",
          "2023-09-06T16:00:00",
          "2023-09-07T00:00:00",
          "2023-09-07T08:00:00",
          "2023-09-07T16:00:00",
          "2023-09-08T00:00:00",
          "2023-09-08T08:00:00",
          "2023-09-08T16:00:00",
          "2023-09-09T00:00:00",
          "2023-09-09T08:00:00",
          "2023-09-09T16:00:00",
          "2023-09-10T00:00:00",
          "2023-09-10T08:00:00",
          "2023-09-10T16:00:00",
          "2023-09-11T00:00:00",
          "2023-09-11T08:00:00",
          "2023-09-11T16:00:00",
          "2023-09-12T00:00:00",
          "2023-09-12T08:00:00",
          "2023-09-12T16:00:00",
          "2023-09-13T00:00:00",
          "2023-09-13T08:00:00",
          "2023-09-13T16:00:00",
          "2023-09-14T00:00:00",
          "2023-09-14T08:00:00",
          "2023-09-14T16:00:00",
          "2023-09-15T00:00:00",
          "2023-09-15T08:00:00",
          "2023-09-15T16:00:00",
          "2023-09-16T00:00:00",
          "2023-09-16T08:00:00",
          "2023-09-16T16:00:00",
          "2023-09-17T00:00:00",
          "2023-09-17T08:00:00",
          "2023-09-17T16:00:00",
          "2023-09-18T00:00:00",
          "2023-09-18T08:00:00",
          "2023-09-18T16:00:00",
          "2023-09-19T00:00:00",
          "2023-09-19T08:00:00",
          "2023-09-19T16:00:00",
          "2023-09-20T00:00:00",
          "2023-09-20T08:00:00",
          "2023-09-20T16:00:00",
          "2023-09-21T00:00:00",
          "2023-09-21T08:00:00",
          "2023-09-21T16:00:00",
          "2023-09-22T00:00:00",
          "2023-09-22T08:00:00",
          "2023-09-22T16:00:00",
          "2023-09-23T00:00:00",
          "2023-09-23T08:00:00",
          "2023-09-23T16:00:00",
          "2023-09-24T00:00:00",
          "2023-09-24T08:00:00",
          "2023-09-24T16:00:00",
          "2023-09-25T00:00:00",
          "2023-09-25T08:00:00",
          "2023-09-25T16:00:00",
          "2023-09-26T00:00:00",
          "2023-09-26T08:00:00",
          "2023-09-26T16:00:00",
          "2023-09-27T00:00:00",
          "2023-09-27T08:00:00",
          "2023-09-27T16:00:00",
          "2023-09-28T00:00:00",
          "2023-09-28T08:00:00",
          "2023-09-28T16:00:00",
          "2023-09-29T00:00:00",
          "2023-09-29T08:00:00",
          "2023-09-29T16:00:00",
          "2023-09-30T00:00:00",
          "2023-09-30T08:00:00",
          "2023-09-30T16:00:00",
          "2023-10-01T00:00:00",
          "2023-10-01T08:00:00",
          "2023-10-01T16:00:00",
          "2023-10-02T00:00:00",
          "2023-10-02T08:00:00",
          "2023-10-02T16:00:00",
          "2023-10-03T00:00:00",
          "2023-10-03T08:00:00",
          "2023-10-03T16:00:00",
          "2023-10-04T00:00:00",
          "2023-10-04T08:00:00",
          "2023-10-04T16:00:00"
         ],
         "y": [
          121,
          91,
          81,
          110,
          78,
          69,
          100,
          87,
          86,
          107,
          97,
          94,
          85,
          80,
          98,
          107,
          104,
          21,
          106,
          91,
          72,
          129,
          93,
          40,
          42,
          98,
          76,
          144,
          124,
          134,
          130,
          119,
          117,
          127,
          118,
          151,
          137,
          70,
          42,
          48,
          101,
          100,
          123,
          110,
          72,
          126,
          119,
          37,
          120,
          39,
          126,
          129,
          124,
          143,
          141,
          127,
          134,
          161,
          126,
          141,
          106,
          85,
          82,
          99,
          28,
          95,
          130,
          117,
          54,
          128,
          47,
          47,
          140,
          124,
          48,
          140,
          110,
          53,
          229,
          128,
          118,
          127,
          96,
          91,
          103,
          78
         ]
        },
        {
         "mode": "lines",
         "name": "Predicción",
         "type": "scatter",
         "x": [
          "2023-09-06T08:00:00",
          "2023-09-06T16:00:00",
          "2023-09-07T00:00:00",
          "2023-09-07T08:00:00",
          "2023-09-07T16:00:00",
          "2023-09-08T00:00:00",
          "2023-09-08T08:00:00",
          "2023-09-08T16:00:00",
          "2023-09-09T00:00:00",
          "2023-09-09T08:00:00",
          "2023-09-09T16:00:00",
          "2023-09-10T00:00:00",
          "2023-09-10T08:00:00",
          "2023-09-10T16:00:00",
          "2023-09-11T00:00:00",
          "2023-09-11T08:00:00",
          "2023-09-11T16:00:00",
          "2023-09-12T00:00:00",
          "2023-09-12T08:00:00",
          "2023-09-12T16:00:00",
          "2023-09-13T00:00:00",
          "2023-09-13T08:00:00",
          "2023-09-13T16:00:00",
          "2023-09-14T00:00:00",
          "2023-09-14T08:00:00",
          "2023-09-14T16:00:00",
          "2023-09-15T00:00:00",
          "2023-09-15T08:00:00",
          "2023-09-15T16:00:00",
          "2023-09-16T00:00:00",
          "2023-09-16T08:00:00",
          "2023-09-16T16:00:00",
          "2023-09-17T00:00:00",
          "2023-09-17T08:00:00",
          "2023-09-17T16:00:00",
          "2023-09-18T00:00:00",
          "2023-09-18T08:00:00",
          "2023-09-18T16:00:00",
          "2023-09-19T00:00:00",
          "2023-09-19T08:00:00",
          "2023-09-19T16:00:00",
          "2023-09-20T00:00:00",
          "2023-09-20T08:00:00",
          "2023-09-20T16:00:00",
          "2023-09-21T00:00:00",
          "2023-09-21T08:00:00",
          "2023-09-21T16:00:00",
          "2023-09-22T00:00:00",
          "2023-09-22T08:00:00",
          "2023-09-22T16:00:00",
          "2023-09-23T00:00:00",
          "2023-09-23T08:00:00",
          "2023-09-23T16:00:00",
          "2023-09-24T00:00:00",
          "2023-09-24T08:00:00",
          "2023-09-24T16:00:00",
          "2023-09-25T00:00:00",
          "2023-09-25T08:00:00",
          "2023-09-25T16:00:00",
          "2023-09-26T00:00:00",
          "2023-09-26T08:00:00",
          "2023-09-26T16:00:00",
          "2023-09-27T00:00:00",
          "2023-09-27T08:00:00",
          "2023-09-27T16:00:00",
          "2023-09-28T00:00:00",
          "2023-09-28T08:00:00",
          "2023-09-28T16:00:00",
          "2023-09-29T00:00:00",
          "2023-09-29T08:00:00",
          "2023-09-29T16:00:00",
          "2023-09-30T00:00:00",
          "2023-09-30T08:00:00",
          "2023-09-30T16:00:00",
          "2023-10-01T00:00:00",
          "2023-10-01T08:00:00",
          "2023-10-01T16:00:00",
          "2023-10-02T00:00:00",
          "2023-10-02T08:00:00",
          "2023-10-02T16:00:00",
          "2023-10-03T00:00:00",
          "2023-10-03T08:00:00",
          "2023-10-03T16:00:00",
          "2023-10-04T00:00:00",
          "2023-10-04T08:00:00",
          "2023-10-04T16:00:00"
         ],
         "y": [
          145.15389263471502,
          132.9856601809136,
          122.81049595075997,
          110.55819066771497,
          112.7310786750505,
          102.3981764877634,
          101.17031844330819,
          103.77270485125862,
          101.33185522419404,
          106.64064934320393,
          111.35466312808322,
          110.50887932455001,
          113.02341106541463,
          106.59561649084108,
          102.52135021441849,
          106.45159565526211,
          111.47690175595733,
          116.19648219890175,
          85.93854936756114,
          105.10158911777786,
          91.863019843242,
          103.35220663557504,
          118.66547220603954,
          108.89897625348704,
          97.03685898964108,
          80.61687833342664,
          89.35035829993934,
          90.05718380210078,
          126.81760632703687,
          124.18813398695349,
          141.861938493779,
          136.8948003367023,
          134.5167332266303,
          131.04069303960858,
          131.8519126126634,
          129.43439153669777,
          143.26014847685528,
          140.74407039259657,
          120.92437367572342,
          96.22649660892631,
          77.51964690174677,
          91.93789523195406,
          101.27842120310888,
          123.18810667368378,
          121.49525089935432,
          110.53417296556196,
          122.23577868214811,
          118.46690198090434,
          99.17156896994194,
          116.72272833077858,
          77.95147568916086,
          119.59779805258727,
          114.11420546286823,
          134.3002283096693,
          141.60254608405825,
          142.5380595097452,
          141.55253336143517,
          141.58144079900336,
          149.6049124417214,
          142.03393166814521,
          149.10446407471446,
          129.21779648489172,
          119.40899506987836,
          106.27934430476489,
          107.14821071167012,
          81.64212138126736,
          100.69964693461364,
          106.94707638041291,
          124.03990033860927,
          106.41692906153456,
          121.95330366905533,
          86.51200292571818,
          92.3435195148937,
          108.07772650436891,
          116.3502168272743,
          107.67728388330599,
          127.3942060216148,
          111.19615811345473,
          107.43203957006278,
          159.03413328639195,
          133.21283097535925,
          157.46047690278112,
          134.24687219502508,
          121.1929587684697,
          116.6872167731151,
          112.8273222824545
         ]
        }
       ],
       "layout": {
        "showlegend": true,
        "template": {
         "data": {
          "bar": [
           {
            "error_x": {
             "color": "#2a3f5f"
            },
            "error_y": {
             "color": "#2a3f5f"
            },
            "marker": {
             "line": {
              "color": "#E5ECF6",
              "width": 0.5
             },
             "pattern": {
              "fillmode": "overlay",
              "size": 10,
              "solidity": 0.2
             }
            },
            "type": "bar"
           }
          ],
          "barpolar": [
           {
            "marker": {
             "line": {
              "color": "#E5ECF6",
              "width": 0.5
             },
             "pattern": {
              "fillmode": "overlay",
              "size": 10,
              "solidity": 0.2
             }
            },
            "type": "barpolar"
           }
          ],
          "carpet": [
           {
            "aaxis": {
             "endlinecolor": "#2a3f5f",
             "gridcolor": "white",
             "linecolor": "white",
             "minorgridcolor": "white",
             "startlinecolor": "#2a3f5f"
            },
            "baxis": {
             "endlinecolor": "#2a3f5f",
             "gridcolor": "white",
             "linecolor": "white",
             "minorgridcolor": "white",
             "startlinecolor": "#2a3f5f"
            },
            "type": "carpet"
           }
          ],
          "choropleth": [
           {
            "colorbar": {
             "outlinewidth": 0,
             "ticks": ""
            },
            "type": "choropleth"
           }
          ],
          "contour": [
           {
            "colorbar": {
             "outlinewidth": 0,
             "ticks": ""
            },
            "colorscale": [
             [
              0,
              "#0d0887"
             ],
             [
              0.1111111111111111,
              "#46039f"
             ],
             [
              0.2222222222222222,
              "#7201a8"
             ],
             [
              0.3333333333333333,
              "#9c179e"
             ],
             [
              0.4444444444444444,
              "#bd3786"
             ],
             [
              0.5555555555555556,
              "#d8576b"
             ],
             [
              0.6666666666666666,
              "#ed7953"
             ],
             [
              0.7777777777777778,
              "#fb9f3a"
             ],
             [
              0.8888888888888888,
              "#fdca26"
             ],
             [
              1,
              "#f0f921"
             ]
            ],
            "type": "contour"
           }
          ],
          "contourcarpet": [
           {
            "colorbar": {
             "outlinewidth": 0,
             "ticks": ""
            },
            "type": "contourcarpet"
           }
          ],
          "heatmap": [
           {
            "colorbar": {
             "outlinewidth": 0,
             "ticks": ""
            },
            "colorscale": [
             [
              0,
              "#0d0887"
             ],
             [
              0.1111111111111111,
              "#46039f"
             ],
             [
              0.2222222222222222,
              "#7201a8"
             ],
             [
              0.3333333333333333,
              "#9c179e"
             ],
             [
              0.4444444444444444,
              "#bd3786"
             ],
             [
              0.5555555555555556,
              "#d8576b"
             ],
             [
              0.6666666666666666,
              "#ed7953"
             ],
             [
              0.7777777777777778,
              "#fb9f3a"
             ],
             [
              0.8888888888888888,
              "#fdca26"
             ],
             [
              1,
              "#f0f921"
             ]
            ],
            "type": "heatmap"
           }
          ],
          "heatmapgl": [
           {
            "colorbar": {
             "outlinewidth": 0,
             "ticks": ""
            },
            "colorscale": [
             [
              0,
              "#0d0887"
             ],
             [
              0.1111111111111111,
              "#46039f"
             ],
             [
              0.2222222222222222,
              "#7201a8"
             ],
             [
              0.3333333333333333,
              "#9c179e"
             ],
             [
              0.4444444444444444,
              "#bd3786"
             ],
             [
              0.5555555555555556,
              "#d8576b"
             ],
             [
              0.6666666666666666,
              "#ed7953"
             ],
             [
              0.7777777777777778,
              "#fb9f3a"
             ],
             [
              0.8888888888888888,
              "#fdca26"
             ],
             [
              1,
              "#f0f921"
             ]
            ],
            "type": "heatmapgl"
           }
          ],
          "histogram": [
           {
            "marker": {
             "pattern": {
              "fillmode": "overlay",
              "size": 10,
              "solidity": 0.2
             }
            },
            "type": "histogram"
           }
          ],
          "histogram2d": [
           {
            "colorbar": {
             "outlinewidth": 0,
             "ticks": ""
            },
            "colorscale": [
             [
              0,
              "#0d0887"
             ],
             [
              0.1111111111111111,
              "#46039f"
             ],
             [
              0.2222222222222222,
              "#7201a8"
             ],
             [
              0.3333333333333333,
              "#9c179e"
             ],
             [
              0.4444444444444444,
              "#bd3786"
             ],
             [
              0.5555555555555556,
              "#d8576b"
             ],
             [
              0.6666666666666666,
              "#ed7953"
             ],
             [
              0.7777777777777778,
              "#fb9f3a"
             ],
             [
              0.8888888888888888,
              "#fdca26"
             ],
             [
              1,
              "#f0f921"
             ]
            ],
            "type": "histogram2d"
           }
          ],
          "histogram2dcontour": [
           {
            "colorbar": {
             "outlinewidth": 0,
             "ticks": ""
            },
            "colorscale": [
             [
              0,
              "#0d0887"
             ],
             [
              0.1111111111111111,
              "#46039f"
             ],
             [
              0.2222222222222222,
              "#7201a8"
             ],
             [
              0.3333333333333333,
              "#9c179e"
             ],
             [
              0.4444444444444444,
              "#bd3786"
             ],
             [
              0.5555555555555556,
              "#d8576b"
             ],
             [
              0.6666666666666666,
              "#ed7953"
             ],
             [
              0.7777777777777778,
              "#fb9f3a"
             ],
             [
              0.8888888888888888,
              "#fdca26"
             ],
             [
              1,
              "#f0f921"
             ]
            ],
            "type": "histogram2dcontour"
           }
          ],
          "mesh3d": [
           {
            "colorbar": {
             "outlinewidth": 0,
             "ticks": ""
            },
            "type": "mesh3d"
           }
          ],
          "parcoords": [
           {
            "line": {
             "colorbar": {
              "outlinewidth": 0,
              "ticks": ""
             }
            },
            "type": "parcoords"
           }
          ],
          "pie": [
           {
            "automargin": true,
            "type": "pie"
           }
          ],
          "scatter": [
           {
            "fillpattern": {
             "fillmode": "overlay",
             "size": 10,
             "solidity": 0.2
            },
            "type": "scatter"
           }
          ],
          "scatter3d": [
           {
            "line": {
             "colorbar": {
              "outlinewidth": 0,
              "ticks": ""
             }
            },
            "marker": {
             "colorbar": {
              "outlinewidth": 0,
              "ticks": ""
             }
            },
            "type": "scatter3d"
           }
          ],
          "scattercarpet": [
           {
            "marker": {
             "colorbar": {
              "outlinewidth": 0,
              "ticks": ""
             }
            },
            "type": "scattercarpet"
           }
          ],
          "scattergeo": [
           {
            "marker": {
             "colorbar": {
              "outlinewidth": 0,
              "ticks": ""
             }
            },
            "type": "scattergeo"
           }
          ],
          "scattergl": [
           {
            "marker": {
             "colorbar": {
              "outlinewidth": 0,
              "ticks": ""
             }
            },
            "type": "scattergl"
           }
          ],
          "scattermapbox": [
           {
            "marker": {
             "colorbar": {
              "outlinewidth": 0,
              "ticks": ""
             }
            },
            "type": "scattermapbox"
           }
          ],
          "scatterpolar": [
           {
            "marker": {
             "colorbar": {
              "outlinewidth": 0,
              "ticks": ""
             }
            },
            "type": "scatterpolar"
           }
          ],
          "scatterpolargl": [
           {
            "marker": {
             "colorbar": {
              "outlinewidth": 0,
              "ticks": ""
             }
            },
            "type": "scatterpolargl"
           }
          ],
          "scatterternary": [
           {
            "marker": {
             "colorbar": {
              "outlinewidth": 0,
              "ticks": ""
             }
            },
            "type": "scatterternary"
           }
          ],
          "surface": [
           {
            "colorbar": {
             "outlinewidth": 0,
             "ticks": ""
            },
            "colorscale": [
             [
              0,
              "#0d0887"
             ],
             [
              0.1111111111111111,
              "#46039f"
             ],
             [
              0.2222222222222222,
              "#7201a8"
             ],
             [
              0.3333333333333333,
              "#9c179e"
             ],
             [
              0.4444444444444444,
              "#bd3786"
             ],
             [
              0.5555555555555556,
              "#d8576b"
             ],
             [
              0.6666666666666666,
              "#ed7953"
             ],
             [
              0.7777777777777778,
              "#fb9f3a"
             ],
             [
              0.8888888888888888,
              "#fdca26"
             ],
             [
              1,
              "#f0f921"
             ]
            ],
            "type": "surface"
           }
          ],
          "table": [
           {
            "cells": {
             "fill": {
              "color": "#EBF0F8"
             },
             "line": {
              "color": "white"
             }
            },
            "header": {
             "fill": {
              "color": "#C8D4E3"
             },
             "line": {
              "color": "white"
             }
            },
            "type": "table"
           }
          ]
         },
         "layout": {
          "annotationdefaults": {
           "arrowcolor": "#2a3f5f",
           "arrowhead": 0,
           "arrowwidth": 1
          },
          "autotypenumbers": "strict",
          "coloraxis": {
           "colorbar": {
            "outlinewidth": 0,
            "ticks": ""
           }
          },
          "colorscale": {
           "diverging": [
            [
             0,
             "#8e0152"
            ],
            [
             0.1,
             "#c51b7d"
            ],
            [
             0.2,
             "#de77ae"
            ],
            [
             0.3,
             "#f1b6da"
            ],
            [
             0.4,
             "#fde0ef"
            ],
            [
             0.5,
             "#f7f7f7"
            ],
            [
             0.6,
             "#e6f5d0"
            ],
            [
             0.7,
             "#b8e186"
            ],
            [
             0.8,
             "#7fbc41"
            ],
            [
             0.9,
             "#4d9221"
            ],
            [
             1,
             "#276419"
            ]
           ],
           "sequential": [
            [
             0,
             "#0d0887"
            ],
            [
             0.1111111111111111,
             "#46039f"
            ],
            [
             0.2222222222222222,
             "#7201a8"
            ],
            [
             0.3333333333333333,
             "#9c179e"
            ],
            [
             0.4444444444444444,
             "#bd3786"
            ],
            [
             0.5555555555555556,
             "#d8576b"
            ],
            [
             0.6666666666666666,
             "#ed7953"
            ],
            [
             0.7777777777777778,
             "#fb9f3a"
            ],
            [
             0.8888888888888888,
             "#fdca26"
            ],
            [
             1,
             "#f0f921"
            ]
           ],
           "sequentialminus": [
            [
             0,
             "#0d0887"
            ],
            [
             0.1111111111111111,
             "#46039f"
            ],
            [
             0.2222222222222222,
             "#7201a8"
            ],
            [
             0.3333333333333333,
             "#9c179e"
            ],
            [
             0.4444444444444444,
             "#bd3786"
            ],
            [
             0.5555555555555556,
             "#d8576b"
            ],
            [
             0.6666666666666666,
             "#ed7953"
            ],
            [
             0.7777777777777778,
             "#fb9f3a"
            ],
            [
             0.8888888888888888,
             "#fdca26"
            ],
            [
             1,
             "#f0f921"
            ]
           ]
          },
          "colorway": [
           "#636efa",
           "#EF553B",
           "#00cc96",
           "#ab63fa",
           "#FFA15A",
           "#19d3f3",
           "#FF6692",
           "#B6E880",
           "#FF97FF",
           "#FECB52"
          ],
          "font": {
           "color": "#2a3f5f"
          },
          "geo": {
           "bgcolor": "white",
           "lakecolor": "white",
           "landcolor": "#E5ECF6",
           "showlakes": true,
           "showland": true,
           "subunitcolor": "white"
          },
          "hoverlabel": {
           "align": "left"
          },
          "hovermode": "closest",
          "mapbox": {
           "style": "light"
          },
          "paper_bgcolor": "white",
          "plot_bgcolor": "#E5ECF6",
          "polar": {
           "angularaxis": {
            "gridcolor": "white",
            "linecolor": "white",
            "ticks": ""
           },
           "bgcolor": "#E5ECF6",
           "radialaxis": {
            "gridcolor": "white",
            "linecolor": "white",
            "ticks": ""
           }
          },
          "scene": {
           "xaxis": {
            "backgroundcolor": "#E5ECF6",
            "gridcolor": "white",
            "gridwidth": 2,
            "linecolor": "white",
            "showbackground": true,
            "ticks": "",
            "zerolinecolor": "white"
           },
           "yaxis": {
            "backgroundcolor": "#E5ECF6",
            "gridcolor": "white",
            "gridwidth": 2,
            "linecolor": "white",
            "showbackground": true,
            "ticks": "",
            "zerolinecolor": "white"
           },
           "zaxis": {
            "backgroundcolor": "#E5ECF6",
            "gridcolor": "white",
            "gridwidth": 2,
            "linecolor": "white",
            "showbackground": true,
            "ticks": "",
            "zerolinecolor": "white"
           }
          },
          "shapedefaults": {
           "line": {
            "color": "#2a3f5f"
           }
          },
          "ternary": {
           "aaxis": {
            "gridcolor": "white",
            "linecolor": "white",
            "ticks": ""
           },
           "baxis": {
            "gridcolor": "white",
            "linecolor": "white",
            "ticks": ""
           },
           "bgcolor": "#E5ECF6",
           "caxis": {
            "gridcolor": "white",
            "linecolor": "white",
            "ticks": ""
           }
          },
          "title": {
           "x": 0.05
          },
          "xaxis": {
           "automargin": true,
           "gridcolor": "white",
           "linecolor": "white",
           "ticks": "",
           "title": {
            "standoff": 15
           },
           "zerolinecolor": "white",
           "zerolinewidth": 2
          },
          "yaxis": {
           "automargin": true,
           "gridcolor": "white",
           "linecolor": "white",
           "ticks": "",
           "title": {
            "standoff": 15
           },
           "zerolinecolor": "white",
           "zerolinewidth": 2
          }
         }
        },
        "title": {
         "text": "Predicción vs Real (Lasso)"
        }
       }
      }
     },
     "metadata": {},
     "output_type": "display_data"
    }
   ],
   "source": [
    "# Calculate metrics\n",
    "y_pred = grid_lss.predict(X_test)\n",
    "\n",
    "# Metrics\n",
    "mse = mean_squared_error(y_test, y_pred)\n",
    "mape = mean_absolute_percentage_error(y_test, y_pred)\n",
    "r2 = grid_lss.score(X_test, y_test)\n",
    "models_metrics.append({'Model': 'Lasso', 'MSE': mse, 'RMSE':mse**0.5, 'MAPE': mape, 'R2': r2})\n",
    "print(models_metrics)\n",
    "\n",
    "#Plot predictions vs real values but with matplotlib\n",
    "plt.figure(figsize=(15,5))\n",
    "plt.plot(X_test.index, y_test, label='Real')\n",
    "plt.plot(X_test.index, y_pred, label='Predicción')\n",
    "plt.xlabel('Date')\n",
    "plt.ylabel('Available')\n",
    "plt.title('Predicción vs Real (Lasso)')\n",
    "plt.legend(loc='best')\n",
    "plt.show()"
   ]
  },
  {
   "cell_type": "markdown",
   "metadata": {},
   "source": [
    "# Naive Bayes"
   ]
  },
  {
   "cell_type": "code",
   "execution_count": 22,
   "metadata": {},
   "outputs": [
    {
     "name": "stdout",
     "output_type": "stream",
     "text": [
      "Best parameters:  {'var_smoothing': 1e-05}\n",
      "Best score:  -6869.128571428571\n"
     ]
    }
   ],
   "source": [
    "# Apply Naive Bayes to forecast my time series (available) tunning hyperparamets without cross validation\n",
    "if (len(glob.glob(\"naive_model_naugd.pkl\")) != 0):\n",
    "    \n",
    "    grid_nb = pickle.load(open('naive_model_naugd.pkl','rb'))\n",
    "    \n",
    "else:\n",
    "    \n",
    "    nb = GaussianNB()\n",
    "    param_grid = {'var_smoothing': [1e-09, 1e-08, 1e-07, 1e-06, 1e-05]}\n",
    "    \n",
    "    grid_nb = GridSearchCV(nb, param_grid, cv=TimeSeriesSplit(n_splits=5), scoring='neg_mean_squared_error', n_jobs=-1)\n",
    "    grid_nb.fit(X_train, y_train)\n",
    "    \n",
    "    # Export model to pickle\n",
    "    pickle.dump(grid_nb, open('naive_model_naugd.pkl', 'wb'))\n",
    "    \n",
    "print(\"Best parameters: \", grid_nb.best_params_)\n",
    "print(\"Best score: \", grid_nb.best_score_)"
   ]
  },
  {
   "cell_type": "code",
   "execution_count": 23,
   "metadata": {},
   "outputs": [
    {
     "name": "stdout",
     "output_type": "stream",
     "text": [
      "[{'Model': 'KNN', 'MSE': 1295.5237527506472, 'RMSE': 35.993384847088876, 'MAPE': 0.40607448792176354}, {'Model': 'Ridge', 'MSE': 1448.867944346486, 'RMSE': 38.063998007914066, 'MAPE': 0.4522864563680011}, {'Model': 'Lasso', 'MSE': 1457.7905125089944, 'RMSE': 38.18102293691192, 'MAPE': 0.45454360898826485}, {'Model': 'Naive Bayes', 'MSE': 1646.1860465116279, 'RMSE': 40.57321834057076, 'MAPE': 0.4209167208472928}]\n"
     ]
    },
    {
     "data": {
      "application/vnd.plotly.v1+json": {
       "config": {
        "plotlyServerURL": "https://plot.ly"
       },
       "data": [
        {
         "mode": "lines",
         "name": "Real",
         "type": "scatter",
         "x": [
          "2023-09-06T08:00:00",
          "2023-09-06T16:00:00",
          "2023-09-07T00:00:00",
          "2023-09-07T08:00:00",
          "2023-09-07T16:00:00",
          "2023-09-08T00:00:00",
          "2023-09-08T08:00:00",
          "2023-09-08T16:00:00",
          "2023-09-09T00:00:00",
          "2023-09-09T08:00:00",
          "2023-09-09T16:00:00",
          "2023-09-10T00:00:00",
          "2023-09-10T08:00:00",
          "2023-09-10T16:00:00",
          "2023-09-11T00:00:00",
          "2023-09-11T08:00:00",
          "2023-09-11T16:00:00",
          "2023-09-12T00:00:00",
          "2023-09-12T08:00:00",
          "2023-09-12T16:00:00",
          "2023-09-13T00:00:00",
          "2023-09-13T08:00:00",
          "2023-09-13T16:00:00",
          "2023-09-14T00:00:00",
          "2023-09-14T08:00:00",
          "2023-09-14T16:00:00",
          "2023-09-15T00:00:00",
          "2023-09-15T08:00:00",
          "2023-09-15T16:00:00",
          "2023-09-16T00:00:00",
          "2023-09-16T08:00:00",
          "2023-09-16T16:00:00",
          "2023-09-17T00:00:00",
          "2023-09-17T08:00:00",
          "2023-09-17T16:00:00",
          "2023-09-18T00:00:00",
          "2023-09-18T08:00:00",
          "2023-09-18T16:00:00",
          "2023-09-19T00:00:00",
          "2023-09-19T08:00:00",
          "2023-09-19T16:00:00",
          "2023-09-20T00:00:00",
          "2023-09-20T08:00:00",
          "2023-09-20T16:00:00",
          "2023-09-21T00:00:00",
          "2023-09-21T08:00:00",
          "2023-09-21T16:00:00",
          "2023-09-22T00:00:00",
          "2023-09-22T08:00:00",
          "2023-09-22T16:00:00",
          "2023-09-23T00:00:00",
          "2023-09-23T08:00:00",
          "2023-09-23T16:00:00",
          "2023-09-24T00:00:00",
          "2023-09-24T08:00:00",
          "2023-09-24T16:00:00",
          "2023-09-25T00:00:00",
          "2023-09-25T08:00:00",
          "2023-09-25T16:00:00",
          "2023-09-26T00:00:00",
          "2023-09-26T08:00:00",
          "2023-09-26T16:00:00",
          "2023-09-27T00:00:00",
          "2023-09-27T08:00:00",
          "2023-09-27T16:00:00",
          "2023-09-28T00:00:00",
          "2023-09-28T08:00:00",
          "2023-09-28T16:00:00",
          "2023-09-29T00:00:00",
          "2023-09-29T08:00:00",
          "2023-09-29T16:00:00",
          "2023-09-30T00:00:00",
          "2023-09-30T08:00:00",
          "2023-09-30T16:00:00",
          "2023-10-01T00:00:00",
          "2023-10-01T08:00:00",
          "2023-10-01T16:00:00",
          "2023-10-02T00:00:00",
          "2023-10-02T08:00:00",
          "2023-10-02T16:00:00",
          "2023-10-03T00:00:00",
          "2023-10-03T08:00:00",
          "2023-10-03T16:00:00",
          "2023-10-04T00:00:00",
          "2023-10-04T08:00:00",
          "2023-10-04T16:00:00"
         ],
         "y": [
          121,
          91,
          81,
          110,
          78,
          69,
          100,
          87,
          86,
          107,
          97,
          94,
          85,
          80,
          98,
          107,
          104,
          21,
          106,
          91,
          72,
          129,
          93,
          40,
          42,
          98,
          76,
          144,
          124,
          134,
          130,
          119,
          117,
          127,
          118,
          151,
          137,
          70,
          42,
          48,
          101,
          100,
          123,
          110,
          72,
          126,
          119,
          37,
          120,
          39,
          126,
          129,
          124,
          143,
          141,
          127,
          134,
          161,
          126,
          141,
          106,
          85,
          82,
          99,
          28,
          95,
          130,
          117,
          54,
          128,
          47,
          47,
          140,
          124,
          48,
          140,
          110,
          53,
          229,
          128,
          118,
          127,
          96,
          91,
          103,
          78
         ]
        },
        {
         "mode": "lines",
         "name": "Predicción",
         "type": "scatter",
         "x": [
          "2023-09-06T08:00:00",
          "2023-09-06T16:00:00",
          "2023-09-07T00:00:00",
          "2023-09-07T08:00:00",
          "2023-09-07T16:00:00",
          "2023-09-08T00:00:00",
          "2023-09-08T08:00:00",
          "2023-09-08T16:00:00",
          "2023-09-09T00:00:00",
          "2023-09-09T08:00:00",
          "2023-09-09T16:00:00",
          "2023-09-10T00:00:00",
          "2023-09-10T08:00:00",
          "2023-09-10T16:00:00",
          "2023-09-11T00:00:00",
          "2023-09-11T08:00:00",
          "2023-09-11T16:00:00",
          "2023-09-12T00:00:00",
          "2023-09-12T08:00:00",
          "2023-09-12T16:00:00",
          "2023-09-13T00:00:00",
          "2023-09-13T08:00:00",
          "2023-09-13T16:00:00",
          "2023-09-14T00:00:00",
          "2023-09-14T08:00:00",
          "2023-09-14T16:00:00",
          "2023-09-15T00:00:00",
          "2023-09-15T08:00:00",
          "2023-09-15T16:00:00",
          "2023-09-16T00:00:00",
          "2023-09-16T08:00:00",
          "2023-09-16T16:00:00",
          "2023-09-17T00:00:00",
          "2023-09-17T08:00:00",
          "2023-09-17T16:00:00",
          "2023-09-18T00:00:00",
          "2023-09-18T08:00:00",
          "2023-09-18T16:00:00",
          "2023-09-19T00:00:00",
          "2023-09-19T08:00:00",
          "2023-09-19T16:00:00",
          "2023-09-20T00:00:00",
          "2023-09-20T08:00:00",
          "2023-09-20T16:00:00",
          "2023-09-21T00:00:00",
          "2023-09-21T08:00:00",
          "2023-09-21T16:00:00",
          "2023-09-22T00:00:00",
          "2023-09-22T08:00:00",
          "2023-09-22T16:00:00",
          "2023-09-23T00:00:00",
          "2023-09-23T08:00:00",
          "2023-09-23T16:00:00",
          "2023-09-24T00:00:00",
          "2023-09-24T08:00:00",
          "2023-09-24T16:00:00",
          "2023-09-25T00:00:00",
          "2023-09-25T08:00:00",
          "2023-09-25T16:00:00",
          "2023-09-26T00:00:00",
          "2023-09-26T08:00:00",
          "2023-09-26T16:00:00",
          "2023-09-27T00:00:00",
          "2023-09-27T08:00:00",
          "2023-09-27T16:00:00",
          "2023-09-28T00:00:00",
          "2023-09-28T08:00:00",
          "2023-09-28T16:00:00",
          "2023-09-29T00:00:00",
          "2023-09-29T08:00:00",
          "2023-09-29T16:00:00",
          "2023-09-30T00:00:00",
          "2023-09-30T08:00:00",
          "2023-09-30T16:00:00",
          "2023-10-01T00:00:00",
          "2023-10-01T08:00:00",
          "2023-10-01T16:00:00",
          "2023-10-02T00:00:00",
          "2023-10-02T08:00:00",
          "2023-10-02T16:00:00",
          "2023-10-03T00:00:00",
          "2023-10-03T08:00:00",
          "2023-10-03T16:00:00",
          "2023-10-04T00:00:00",
          "2023-10-04T08:00:00",
          "2023-10-04T16:00:00"
         ],
         "y": [
          122,
          110,
          125,
          136,
          82,
          96,
          136,
          82,
          82,
          80,
          82,
          90,
          90,
          80,
          82,
          82,
          96,
          90,
          22,
          117,
          145,
          101,
          117,
          96,
          47,
          47,
          65,
          145,
          80,
          118,
          110,
          110,
          110,
          110,
          118,
          146,
          151,
          139,
          125,
          47,
          65,
          106,
          145,
          146,
          146,
          136,
          117,
          118,
          22,
          117,
          145,
          117,
          118,
          110,
          136,
          139,
          110,
          110,
          130,
          148,
          133,
          99,
          125,
          82,
          82,
          96,
          71,
          145,
          118,
          46,
          117,
          22,
          47,
          145,
          118,
          125,
          136,
          118,
          125,
          150,
          97,
          102,
          110,
          99,
          90,
          90
         ]
        }
       ],
       "layout": {
        "showlegend": true,
        "template": {
         "data": {
          "bar": [
           {
            "error_x": {
             "color": "#2a3f5f"
            },
            "error_y": {
             "color": "#2a3f5f"
            },
            "marker": {
             "line": {
              "color": "#E5ECF6",
              "width": 0.5
             },
             "pattern": {
              "fillmode": "overlay",
              "size": 10,
              "solidity": 0.2
             }
            },
            "type": "bar"
           }
          ],
          "barpolar": [
           {
            "marker": {
             "line": {
              "color": "#E5ECF6",
              "width": 0.5
             },
             "pattern": {
              "fillmode": "overlay",
              "size": 10,
              "solidity": 0.2
             }
            },
            "type": "barpolar"
           }
          ],
          "carpet": [
           {
            "aaxis": {
             "endlinecolor": "#2a3f5f",
             "gridcolor": "white",
             "linecolor": "white",
             "minorgridcolor": "white",
             "startlinecolor": "#2a3f5f"
            },
            "baxis": {
             "endlinecolor": "#2a3f5f",
             "gridcolor": "white",
             "linecolor": "white",
             "minorgridcolor": "white",
             "startlinecolor": "#2a3f5f"
            },
            "type": "carpet"
           }
          ],
          "choropleth": [
           {
            "colorbar": {
             "outlinewidth": 0,
             "ticks": ""
            },
            "type": "choropleth"
           }
          ],
          "contour": [
           {
            "colorbar": {
             "outlinewidth": 0,
             "ticks": ""
            },
            "colorscale": [
             [
              0,
              "#0d0887"
             ],
             [
              0.1111111111111111,
              "#46039f"
             ],
             [
              0.2222222222222222,
              "#7201a8"
             ],
             [
              0.3333333333333333,
              "#9c179e"
             ],
             [
              0.4444444444444444,
              "#bd3786"
             ],
             [
              0.5555555555555556,
              "#d8576b"
             ],
             [
              0.6666666666666666,
              "#ed7953"
             ],
             [
              0.7777777777777778,
              "#fb9f3a"
             ],
             [
              0.8888888888888888,
              "#fdca26"
             ],
             [
              1,
              "#f0f921"
             ]
            ],
            "type": "contour"
           }
          ],
          "contourcarpet": [
           {
            "colorbar": {
             "outlinewidth": 0,
             "ticks": ""
            },
            "type": "contourcarpet"
           }
          ],
          "heatmap": [
           {
            "colorbar": {
             "outlinewidth": 0,
             "ticks": ""
            },
            "colorscale": [
             [
              0,
              "#0d0887"
             ],
             [
              0.1111111111111111,
              "#46039f"
             ],
             [
              0.2222222222222222,
              "#7201a8"
             ],
             [
              0.3333333333333333,
              "#9c179e"
             ],
             [
              0.4444444444444444,
              "#bd3786"
             ],
             [
              0.5555555555555556,
              "#d8576b"
             ],
             [
              0.6666666666666666,
              "#ed7953"
             ],
             [
              0.7777777777777778,
              "#fb9f3a"
             ],
             [
              0.8888888888888888,
              "#fdca26"
             ],
             [
              1,
              "#f0f921"
             ]
            ],
            "type": "heatmap"
           }
          ],
          "heatmapgl": [
           {
            "colorbar": {
             "outlinewidth": 0,
             "ticks": ""
            },
            "colorscale": [
             [
              0,
              "#0d0887"
             ],
             [
              0.1111111111111111,
              "#46039f"
             ],
             [
              0.2222222222222222,
              "#7201a8"
             ],
             [
              0.3333333333333333,
              "#9c179e"
             ],
             [
              0.4444444444444444,
              "#bd3786"
             ],
             [
              0.5555555555555556,
              "#d8576b"
             ],
             [
              0.6666666666666666,
              "#ed7953"
             ],
             [
              0.7777777777777778,
              "#fb9f3a"
             ],
             [
              0.8888888888888888,
              "#fdca26"
             ],
             [
              1,
              "#f0f921"
             ]
            ],
            "type": "heatmapgl"
           }
          ],
          "histogram": [
           {
            "marker": {
             "pattern": {
              "fillmode": "overlay",
              "size": 10,
              "solidity": 0.2
             }
            },
            "type": "histogram"
           }
          ],
          "histogram2d": [
           {
            "colorbar": {
             "outlinewidth": 0,
             "ticks": ""
            },
            "colorscale": [
             [
              0,
              "#0d0887"
             ],
             [
              0.1111111111111111,
              "#46039f"
             ],
             [
              0.2222222222222222,
              "#7201a8"
             ],
             [
              0.3333333333333333,
              "#9c179e"
             ],
             [
              0.4444444444444444,
              "#bd3786"
             ],
             [
              0.5555555555555556,
              "#d8576b"
             ],
             [
              0.6666666666666666,
              "#ed7953"
             ],
             [
              0.7777777777777778,
              "#fb9f3a"
             ],
             [
              0.8888888888888888,
              "#fdca26"
             ],
             [
              1,
              "#f0f921"
             ]
            ],
            "type": "histogram2d"
           }
          ],
          "histogram2dcontour": [
           {
            "colorbar": {
             "outlinewidth": 0,
             "ticks": ""
            },
            "colorscale": [
             [
              0,
              "#0d0887"
             ],
             [
              0.1111111111111111,
              "#46039f"
             ],
             [
              0.2222222222222222,
              "#7201a8"
             ],
             [
              0.3333333333333333,
              "#9c179e"
             ],
             [
              0.4444444444444444,
              "#bd3786"
             ],
             [
              0.5555555555555556,
              "#d8576b"
             ],
             [
              0.6666666666666666,
              "#ed7953"
             ],
             [
              0.7777777777777778,
              "#fb9f3a"
             ],
             [
              0.8888888888888888,
              "#fdca26"
             ],
             [
              1,
              "#f0f921"
             ]
            ],
            "type": "histogram2dcontour"
           }
          ],
          "mesh3d": [
           {
            "colorbar": {
             "outlinewidth": 0,
             "ticks": ""
            },
            "type": "mesh3d"
           }
          ],
          "parcoords": [
           {
            "line": {
             "colorbar": {
              "outlinewidth": 0,
              "ticks": ""
             }
            },
            "type": "parcoords"
           }
          ],
          "pie": [
           {
            "automargin": true,
            "type": "pie"
           }
          ],
          "scatter": [
           {
            "fillpattern": {
             "fillmode": "overlay",
             "size": 10,
             "solidity": 0.2
            },
            "type": "scatter"
           }
          ],
          "scatter3d": [
           {
            "line": {
             "colorbar": {
              "outlinewidth": 0,
              "ticks": ""
             }
            },
            "marker": {
             "colorbar": {
              "outlinewidth": 0,
              "ticks": ""
             }
            },
            "type": "scatter3d"
           }
          ],
          "scattercarpet": [
           {
            "marker": {
             "colorbar": {
              "outlinewidth": 0,
              "ticks": ""
             }
            },
            "type": "scattercarpet"
           }
          ],
          "scattergeo": [
           {
            "marker": {
             "colorbar": {
              "outlinewidth": 0,
              "ticks": ""
             }
            },
            "type": "scattergeo"
           }
          ],
          "scattergl": [
           {
            "marker": {
             "colorbar": {
              "outlinewidth": 0,
              "ticks": ""
             }
            },
            "type": "scattergl"
           }
          ],
          "scattermapbox": [
           {
            "marker": {
             "colorbar": {
              "outlinewidth": 0,
              "ticks": ""
             }
            },
            "type": "scattermapbox"
           }
          ],
          "scatterpolar": [
           {
            "marker": {
             "colorbar": {
              "outlinewidth": 0,
              "ticks": ""
             }
            },
            "type": "scatterpolar"
           }
          ],
          "scatterpolargl": [
           {
            "marker": {
             "colorbar": {
              "outlinewidth": 0,
              "ticks": ""
             }
            },
            "type": "scatterpolargl"
           }
          ],
          "scatterternary": [
           {
            "marker": {
             "colorbar": {
              "outlinewidth": 0,
              "ticks": ""
             }
            },
            "type": "scatterternary"
           }
          ],
          "surface": [
           {
            "colorbar": {
             "outlinewidth": 0,
             "ticks": ""
            },
            "colorscale": [
             [
              0,
              "#0d0887"
             ],
             [
              0.1111111111111111,
              "#46039f"
             ],
             [
              0.2222222222222222,
              "#7201a8"
             ],
             [
              0.3333333333333333,
              "#9c179e"
             ],
             [
              0.4444444444444444,
              "#bd3786"
             ],
             [
              0.5555555555555556,
              "#d8576b"
             ],
             [
              0.6666666666666666,
              "#ed7953"
             ],
             [
              0.7777777777777778,
              "#fb9f3a"
             ],
             [
              0.8888888888888888,
              "#fdca26"
             ],
             [
              1,
              "#f0f921"
             ]
            ],
            "type": "surface"
           }
          ],
          "table": [
           {
            "cells": {
             "fill": {
              "color": "#EBF0F8"
             },
             "line": {
              "color": "white"
             }
            },
            "header": {
             "fill": {
              "color": "#C8D4E3"
             },
             "line": {
              "color": "white"
             }
            },
            "type": "table"
           }
          ]
         },
         "layout": {
          "annotationdefaults": {
           "arrowcolor": "#2a3f5f",
           "arrowhead": 0,
           "arrowwidth": 1
          },
          "autotypenumbers": "strict",
          "coloraxis": {
           "colorbar": {
            "outlinewidth": 0,
            "ticks": ""
           }
          },
          "colorscale": {
           "diverging": [
            [
             0,
             "#8e0152"
            ],
            [
             0.1,
             "#c51b7d"
            ],
            [
             0.2,
             "#de77ae"
            ],
            [
             0.3,
             "#f1b6da"
            ],
            [
             0.4,
             "#fde0ef"
            ],
            [
             0.5,
             "#f7f7f7"
            ],
            [
             0.6,
             "#e6f5d0"
            ],
            [
             0.7,
             "#b8e186"
            ],
            [
             0.8,
             "#7fbc41"
            ],
            [
             0.9,
             "#4d9221"
            ],
            [
             1,
             "#276419"
            ]
           ],
           "sequential": [
            [
             0,
             "#0d0887"
            ],
            [
             0.1111111111111111,
             "#46039f"
            ],
            [
             0.2222222222222222,
             "#7201a8"
            ],
            [
             0.3333333333333333,
             "#9c179e"
            ],
            [
             0.4444444444444444,
             "#bd3786"
            ],
            [
             0.5555555555555556,
             "#d8576b"
            ],
            [
             0.6666666666666666,
             "#ed7953"
            ],
            [
             0.7777777777777778,
             "#fb9f3a"
            ],
            [
             0.8888888888888888,
             "#fdca26"
            ],
            [
             1,
             "#f0f921"
            ]
           ],
           "sequentialminus": [
            [
             0,
             "#0d0887"
            ],
            [
             0.1111111111111111,
             "#46039f"
            ],
            [
             0.2222222222222222,
             "#7201a8"
            ],
            [
             0.3333333333333333,
             "#9c179e"
            ],
            [
             0.4444444444444444,
             "#bd3786"
            ],
            [
             0.5555555555555556,
             "#d8576b"
            ],
            [
             0.6666666666666666,
             "#ed7953"
            ],
            [
             0.7777777777777778,
             "#fb9f3a"
            ],
            [
             0.8888888888888888,
             "#fdca26"
            ],
            [
             1,
             "#f0f921"
            ]
           ]
          },
          "colorway": [
           "#636efa",
           "#EF553B",
           "#00cc96",
           "#ab63fa",
           "#FFA15A",
           "#19d3f3",
           "#FF6692",
           "#B6E880",
           "#FF97FF",
           "#FECB52"
          ],
          "font": {
           "color": "#2a3f5f"
          },
          "geo": {
           "bgcolor": "white",
           "lakecolor": "white",
           "landcolor": "#E5ECF6",
           "showlakes": true,
           "showland": true,
           "subunitcolor": "white"
          },
          "hoverlabel": {
           "align": "left"
          },
          "hovermode": "closest",
          "mapbox": {
           "style": "light"
          },
          "paper_bgcolor": "white",
          "plot_bgcolor": "#E5ECF6",
          "polar": {
           "angularaxis": {
            "gridcolor": "white",
            "linecolor": "white",
            "ticks": ""
           },
           "bgcolor": "#E5ECF6",
           "radialaxis": {
            "gridcolor": "white",
            "linecolor": "white",
            "ticks": ""
           }
          },
          "scene": {
           "xaxis": {
            "backgroundcolor": "#E5ECF6",
            "gridcolor": "white",
            "gridwidth": 2,
            "linecolor": "white",
            "showbackground": true,
            "ticks": "",
            "zerolinecolor": "white"
           },
           "yaxis": {
            "backgroundcolor": "#E5ECF6",
            "gridcolor": "white",
            "gridwidth": 2,
            "linecolor": "white",
            "showbackground": true,
            "ticks": "",
            "zerolinecolor": "white"
           },
           "zaxis": {
            "backgroundcolor": "#E5ECF6",
            "gridcolor": "white",
            "gridwidth": 2,
            "linecolor": "white",
            "showbackground": true,
            "ticks": "",
            "zerolinecolor": "white"
           }
          },
          "shapedefaults": {
           "line": {
            "color": "#2a3f5f"
           }
          },
          "ternary": {
           "aaxis": {
            "gridcolor": "white",
            "linecolor": "white",
            "ticks": ""
           },
           "baxis": {
            "gridcolor": "white",
            "linecolor": "white",
            "ticks": ""
           },
           "bgcolor": "#E5ECF6",
           "caxis": {
            "gridcolor": "white",
            "linecolor": "white",
            "ticks": ""
           }
          },
          "title": {
           "x": 0.05
          },
          "xaxis": {
           "automargin": true,
           "gridcolor": "white",
           "linecolor": "white",
           "ticks": "",
           "title": {
            "standoff": 15
           },
           "zerolinecolor": "white",
           "zerolinewidth": 2
          },
          "yaxis": {
           "automargin": true,
           "gridcolor": "white",
           "linecolor": "white",
           "ticks": "",
           "title": {
            "standoff": 15
           },
           "zerolinecolor": "white",
           "zerolinewidth": 2
          }
         }
        },
        "title": {
         "text": "Predicción vs Real (Naive Bayes)"
        }
       }
      }
     },
     "metadata": {},
     "output_type": "display_data"
    }
   ],
   "source": [
    "# Calculate metrics\n",
    "y_pred = grid_nb.predict(X_test)\n",
    "\n",
    "# Metrics\n",
    "mse = mean_squared_error(y_test, y_pred)\n",
    "mape = mean_absolute_percentage_error(y_test, y_pred)\n",
    "r2 = grid_nb.score(X_test, y_test)\n",
    "models_metrics.append({'Model': 'Naive Bayes', 'MSE': mse, 'RMSE':mse**0.5, 'MAPE': mape, 'R2': r2})\n",
    "print(models_metrics)\n",
    "\n",
    "#Plot predictions vs real values but with matplotlib\n",
    "plt.figure(figsize=(15,5))\n",
    "plt.plot(X_test.index, y_test, label='Real')\n",
    "plt.plot(X_test.index, y_pred, label='Predicción')\n",
    "plt.xlabel('Date')\n",
    "plt.ylabel('Available')\n",
    "plt.title('Predicción vs Real (Naive Bayes)')\n",
    "plt.legend(loc='best')\n",
    "plt.show()"
   ]
  },
  {
   "cell_type": "markdown",
   "metadata": {},
   "source": [
    "# XGBoost"
   ]
  },
  {
   "cell_type": "code",
   "execution_count": 24,
   "metadata": {},
   "outputs": [
    {
     "name": "stdout",
     "output_type": "stream",
     "text": [
      "Best parameters:  {'learning_rate': 0.01, 'max_depth': 3, 'n_estimators': 500}\n",
      "Best score:  -4063.5291337231256\n"
     ]
    }
   ],
   "source": [
    "# Apply XGBoost to forecast my time series (available) tunning hyperparamets without cross validation\n",
    "from xgboost import XGBRegressor\n",
    "\n",
    "if (len(glob.glob(\"xgb_model_naugd.pkl\")) != 0):\n",
    "    \n",
    "    grid_xgb = pickle.load(open('xgb_model_naugd.pkl','rb'))\n",
    "    \n",
    "else:\n",
    "    \n",
    "    xgb = XGBRegressor()\n",
    "    param_grid = {'n_estimators': [100, 500, 1000],\n",
    "                    'max_depth': [3, 5, 10],\n",
    "                    'learning_rate': [0.001, 0.01, 0.1, 0.2, 0.3]}\n",
    "    \n",
    "    grid_xgb = GridSearchCV(xgb, param_grid, cv=TimeSeriesSplit(n_splits=5), scoring='neg_mean_squared_error', n_jobs=-1)\n",
    "    grid_xgb.fit(X_train, y_train)\n",
    "    \n",
    "    # Export model to pickle\n",
    "    pickle.dump(grid_xgb, open('xgb_model_naugd.pkl', 'wb'))\n",
    "\n",
    "print(\"Best parameters: \", grid_xgb.best_params_)\n",
    "print(\"Best score: \", grid_xgb.best_score_)"
   ]
  },
  {
   "cell_type": "code",
   "execution_count": 25,
   "metadata": {},
   "outputs": [
    {
     "name": "stdout",
     "output_type": "stream",
     "text": [
      "[{'Model': 'KNN', 'MSE': 1295.5237527506472, 'RMSE': 35.993384847088876, 'MAPE': 0.40607448792176354}, {'Model': 'Ridge', 'MSE': 1448.867944346486, 'RMSE': 38.063998007914066, 'MAPE': 0.4522864563680011}, {'Model': 'Lasso', 'MSE': 1457.7905125089944, 'RMSE': 38.18102293691192, 'MAPE': 0.45454360898826485}, {'Model': 'Naive Bayes', 'MSE': 1646.1860465116279, 'RMSE': 40.57321834057076, 'MAPE': 0.4209167208472928}, {'Model': 'XGBoost', 'MSE': 1502.7373898429344, 'RMSE': 38.76515690466033, 'MAPE': 0.43473268232847584}]\n"
     ]
    },
    {
     "data": {
      "application/vnd.plotly.v1+json": {
       "config": {
        "plotlyServerURL": "https://plot.ly"
       },
       "data": [
        {
         "mode": "lines",
         "name": "Real",
         "type": "scatter",
         "x": [
          "2023-09-06T08:00:00",
          "2023-09-06T16:00:00",
          "2023-09-07T00:00:00",
          "2023-09-07T08:00:00",
          "2023-09-07T16:00:00",
          "2023-09-08T00:00:00",
          "2023-09-08T08:00:00",
          "2023-09-08T16:00:00",
          "2023-09-09T00:00:00",
          "2023-09-09T08:00:00",
          "2023-09-09T16:00:00",
          "2023-09-10T00:00:00",
          "2023-09-10T08:00:00",
          "2023-09-10T16:00:00",
          "2023-09-11T00:00:00",
          "2023-09-11T08:00:00",
          "2023-09-11T16:00:00",
          "2023-09-12T00:00:00",
          "2023-09-12T08:00:00",
          "2023-09-12T16:00:00",
          "2023-09-13T00:00:00",
          "2023-09-13T08:00:00",
          "2023-09-13T16:00:00",
          "2023-09-14T00:00:00",
          "2023-09-14T08:00:00",
          "2023-09-14T16:00:00",
          "2023-09-15T00:00:00",
          "2023-09-15T08:00:00",
          "2023-09-15T16:00:00",
          "2023-09-16T00:00:00",
          "2023-09-16T08:00:00",
          "2023-09-16T16:00:00",
          "2023-09-17T00:00:00",
          "2023-09-17T08:00:00",
          "2023-09-17T16:00:00",
          "2023-09-18T00:00:00",
          "2023-09-18T08:00:00",
          "2023-09-18T16:00:00",
          "2023-09-19T00:00:00",
          "2023-09-19T08:00:00",
          "2023-09-19T16:00:00",
          "2023-09-20T00:00:00",
          "2023-09-20T08:00:00",
          "2023-09-20T16:00:00",
          "2023-09-21T00:00:00",
          "2023-09-21T08:00:00",
          "2023-09-21T16:00:00",
          "2023-09-22T00:00:00",
          "2023-09-22T08:00:00",
          "2023-09-22T16:00:00",
          "2023-09-23T00:00:00",
          "2023-09-23T08:00:00",
          "2023-09-23T16:00:00",
          "2023-09-24T00:00:00",
          "2023-09-24T08:00:00",
          "2023-09-24T16:00:00",
          "2023-09-25T00:00:00",
          "2023-09-25T08:00:00",
          "2023-09-25T16:00:00",
          "2023-09-26T00:00:00",
          "2023-09-26T08:00:00",
          "2023-09-26T16:00:00",
          "2023-09-27T00:00:00",
          "2023-09-27T08:00:00",
          "2023-09-27T16:00:00",
          "2023-09-28T00:00:00",
          "2023-09-28T08:00:00",
          "2023-09-28T16:00:00",
          "2023-09-29T00:00:00",
          "2023-09-29T08:00:00",
          "2023-09-29T16:00:00",
          "2023-09-30T00:00:00",
          "2023-09-30T08:00:00",
          "2023-09-30T16:00:00",
          "2023-10-01T00:00:00",
          "2023-10-01T08:00:00",
          "2023-10-01T16:00:00",
          "2023-10-02T00:00:00",
          "2023-10-02T08:00:00",
          "2023-10-02T16:00:00",
          "2023-10-03T00:00:00",
          "2023-10-03T08:00:00",
          "2023-10-03T16:00:00",
          "2023-10-04T00:00:00",
          "2023-10-04T08:00:00",
          "2023-10-04T16:00:00"
         ],
         "y": [
          121,
          91,
          81,
          110,
          78,
          69,
          100,
          87,
          86,
          107,
          97,
          94,
          85,
          80,
          98,
          107,
          104,
          21,
          106,
          91,
          72,
          129,
          93,
          40,
          42,
          98,
          76,
          144,
          124,
          134,
          130,
          119,
          117,
          127,
          118,
          151,
          137,
          70,
          42,
          48,
          101,
          100,
          123,
          110,
          72,
          126,
          119,
          37,
          120,
          39,
          126,
          129,
          124,
          143,
          141,
          127,
          134,
          161,
          126,
          141,
          106,
          85,
          82,
          99,
          28,
          95,
          130,
          117,
          54,
          128,
          47,
          47,
          140,
          124,
          48,
          140,
          110,
          53,
          229,
          128,
          118,
          127,
          96,
          91,
          103,
          78
         ]
        },
        {
         "mode": "lines",
         "name": "Predicción",
         "type": "scatter",
         "x": [
          "2023-09-06T08:00:00",
          "2023-09-06T16:00:00",
          "2023-09-07T00:00:00",
          "2023-09-07T08:00:00",
          "2023-09-07T16:00:00",
          "2023-09-08T00:00:00",
          "2023-09-08T08:00:00",
          "2023-09-08T16:00:00",
          "2023-09-09T00:00:00",
          "2023-09-09T08:00:00",
          "2023-09-09T16:00:00",
          "2023-09-10T00:00:00",
          "2023-09-10T08:00:00",
          "2023-09-10T16:00:00",
          "2023-09-11T00:00:00",
          "2023-09-11T08:00:00",
          "2023-09-11T16:00:00",
          "2023-09-12T00:00:00",
          "2023-09-12T08:00:00",
          "2023-09-12T16:00:00",
          "2023-09-13T00:00:00",
          "2023-09-13T08:00:00",
          "2023-09-13T16:00:00",
          "2023-09-14T00:00:00",
          "2023-09-14T08:00:00",
          "2023-09-14T16:00:00",
          "2023-09-15T00:00:00",
          "2023-09-15T08:00:00",
          "2023-09-15T16:00:00",
          "2023-09-16T00:00:00",
          "2023-09-16T08:00:00",
          "2023-09-16T16:00:00",
          "2023-09-17T00:00:00",
          "2023-09-17T08:00:00",
          "2023-09-17T16:00:00",
          "2023-09-18T00:00:00",
          "2023-09-18T08:00:00",
          "2023-09-18T16:00:00",
          "2023-09-19T00:00:00",
          "2023-09-19T08:00:00",
          "2023-09-19T16:00:00",
          "2023-09-20T00:00:00",
          "2023-09-20T08:00:00",
          "2023-09-20T16:00:00",
          "2023-09-21T00:00:00",
          "2023-09-21T08:00:00",
          "2023-09-21T16:00:00",
          "2023-09-22T00:00:00",
          "2023-09-22T08:00:00",
          "2023-09-22T16:00:00",
          "2023-09-23T00:00:00",
          "2023-09-23T08:00:00",
          "2023-09-23T16:00:00",
          "2023-09-24T00:00:00",
          "2023-09-24T08:00:00",
          "2023-09-24T16:00:00",
          "2023-09-25T00:00:00",
          "2023-09-25T08:00:00",
          "2023-09-25T16:00:00",
          "2023-09-26T00:00:00",
          "2023-09-26T08:00:00",
          "2023-09-26T16:00:00",
          "2023-09-27T00:00:00",
          "2023-09-27T08:00:00",
          "2023-09-27T16:00:00",
          "2023-09-28T00:00:00",
          "2023-09-28T08:00:00",
          "2023-09-28T16:00:00",
          "2023-09-29T00:00:00",
          "2023-09-29T08:00:00",
          "2023-09-29T16:00:00",
          "2023-09-30T00:00:00",
          "2023-09-30T08:00:00",
          "2023-09-30T16:00:00",
          "2023-10-01T00:00:00",
          "2023-10-01T08:00:00",
          "2023-10-01T16:00:00",
          "2023-10-02T00:00:00",
          "2023-10-02T08:00:00",
          "2023-10-02T16:00:00",
          "2023-10-03T00:00:00",
          "2023-10-03T08:00:00",
          "2023-10-03T16:00:00",
          "2023-10-04T00:00:00",
          "2023-10-04T08:00:00",
          "2023-10-04T16:00:00"
         ],
         "y": [
          134.38494873046875,
          125.92829132080078,
          103.3126220703125,
          103.3126220703125,
          109.03706359863281,
          100.48637390136719,
          97.44361877441406,
          100.48637390136719,
          104.65402221679688,
          102.2863998413086,
          107.2370376586914,
          100.48637390136719,
          102.2863998413086,
          102.2863998413086,
          102.2863998413086,
          100.48637390136719,
          107.2370376586914,
          102.2863998413086,
          78.3035659790039,
          87.18152618408203,
          95.12618255615234,
          102.2863998413086,
          126.989990234375,
          100.48637390136719,
          101.8913803100586,
          86.30569458007812,
          82.28524780273438,
          95.12618255615234,
          142.7231903076172,
          123.10204315185547,
          143.2277069091797,
          128.01622009277344,
          121.23982238769531,
          110.06328582763672,
          125.92829132080078,
          121.23982238769531,
          143.74942016601562,
          129.4296417236328,
          99.96841430664062,
          101.8913803100586,
          85.69751739501953,
          116.53487396240234,
          100.18878936767578,
          124.90206909179688,
          109.03706359863281,
          103.3126220703125,
          124.90206909179688,
          118.41357421875,
          101.8913803100586,
          111.27507781982422,
          98.64285278320312,
          115.96354675292969,
          119.58956909179688,
          125.92829132080078,
          143.74942016601562,
          143.74942016601562,
          125.92829132080078,
          143.2277069091797,
          143.74942016601562,
          115.40077209472656,
          143.74942016601562,
          110.06328582763672,
          103.3126220703125,
          102.2863998413086,
          100.48637390136719,
          104.24840545654297,
          79.42179870605469,
          119.58956909179688,
          109.03706359863281,
          101.8913803100586,
          140.48944091796875,
          102.82096862792969,
          113.11663818359375,
          161.95004272460938,
          122.56425476074219,
          101.8913803100586,
          162.00912475585938,
          106.69924926757812,
          101.8913803100586,
          245.3623809814453,
          152.26577758789062,
          152.04400634765625,
          125.92829132080078,
          103.3126220703125,
          103.3126220703125,
          102.2863998413086
         ]
        }
       ],
       "layout": {
        "showlegend": true,
        "template": {
         "data": {
          "bar": [
           {
            "error_x": {
             "color": "#2a3f5f"
            },
            "error_y": {
             "color": "#2a3f5f"
            },
            "marker": {
             "line": {
              "color": "#E5ECF6",
              "width": 0.5
             },
             "pattern": {
              "fillmode": "overlay",
              "size": 10,
              "solidity": 0.2
             }
            },
            "type": "bar"
           }
          ],
          "barpolar": [
           {
            "marker": {
             "line": {
              "color": "#E5ECF6",
              "width": 0.5
             },
             "pattern": {
              "fillmode": "overlay",
              "size": 10,
              "solidity": 0.2
             }
            },
            "type": "barpolar"
           }
          ],
          "carpet": [
           {
            "aaxis": {
             "endlinecolor": "#2a3f5f",
             "gridcolor": "white",
             "linecolor": "white",
             "minorgridcolor": "white",
             "startlinecolor": "#2a3f5f"
            },
            "baxis": {
             "endlinecolor": "#2a3f5f",
             "gridcolor": "white",
             "linecolor": "white",
             "minorgridcolor": "white",
             "startlinecolor": "#2a3f5f"
            },
            "type": "carpet"
           }
          ],
          "choropleth": [
           {
            "colorbar": {
             "outlinewidth": 0,
             "ticks": ""
            },
            "type": "choropleth"
           }
          ],
          "contour": [
           {
            "colorbar": {
             "outlinewidth": 0,
             "ticks": ""
            },
            "colorscale": [
             [
              0,
              "#0d0887"
             ],
             [
              0.1111111111111111,
              "#46039f"
             ],
             [
              0.2222222222222222,
              "#7201a8"
             ],
             [
              0.3333333333333333,
              "#9c179e"
             ],
             [
              0.4444444444444444,
              "#bd3786"
             ],
             [
              0.5555555555555556,
              "#d8576b"
             ],
             [
              0.6666666666666666,
              "#ed7953"
             ],
             [
              0.7777777777777778,
              "#fb9f3a"
             ],
             [
              0.8888888888888888,
              "#fdca26"
             ],
             [
              1,
              "#f0f921"
             ]
            ],
            "type": "contour"
           }
          ],
          "contourcarpet": [
           {
            "colorbar": {
             "outlinewidth": 0,
             "ticks": ""
            },
            "type": "contourcarpet"
           }
          ],
          "heatmap": [
           {
            "colorbar": {
             "outlinewidth": 0,
             "ticks": ""
            },
            "colorscale": [
             [
              0,
              "#0d0887"
             ],
             [
              0.1111111111111111,
              "#46039f"
             ],
             [
              0.2222222222222222,
              "#7201a8"
             ],
             [
              0.3333333333333333,
              "#9c179e"
             ],
             [
              0.4444444444444444,
              "#bd3786"
             ],
             [
              0.5555555555555556,
              "#d8576b"
             ],
             [
              0.6666666666666666,
              "#ed7953"
             ],
             [
              0.7777777777777778,
              "#fb9f3a"
             ],
             [
              0.8888888888888888,
              "#fdca26"
             ],
             [
              1,
              "#f0f921"
             ]
            ],
            "type": "heatmap"
           }
          ],
          "heatmapgl": [
           {
            "colorbar": {
             "outlinewidth": 0,
             "ticks": ""
            },
            "colorscale": [
             [
              0,
              "#0d0887"
             ],
             [
              0.1111111111111111,
              "#46039f"
             ],
             [
              0.2222222222222222,
              "#7201a8"
             ],
             [
              0.3333333333333333,
              "#9c179e"
             ],
             [
              0.4444444444444444,
              "#bd3786"
             ],
             [
              0.5555555555555556,
              "#d8576b"
             ],
             [
              0.6666666666666666,
              "#ed7953"
             ],
             [
              0.7777777777777778,
              "#fb9f3a"
             ],
             [
              0.8888888888888888,
              "#fdca26"
             ],
             [
              1,
              "#f0f921"
             ]
            ],
            "type": "heatmapgl"
           }
          ],
          "histogram": [
           {
            "marker": {
             "pattern": {
              "fillmode": "overlay",
              "size": 10,
              "solidity": 0.2
             }
            },
            "type": "histogram"
           }
          ],
          "histogram2d": [
           {
            "colorbar": {
             "outlinewidth": 0,
             "ticks": ""
            },
            "colorscale": [
             [
              0,
              "#0d0887"
             ],
             [
              0.1111111111111111,
              "#46039f"
             ],
             [
              0.2222222222222222,
              "#7201a8"
             ],
             [
              0.3333333333333333,
              "#9c179e"
             ],
             [
              0.4444444444444444,
              "#bd3786"
             ],
             [
              0.5555555555555556,
              "#d8576b"
             ],
             [
              0.6666666666666666,
              "#ed7953"
             ],
             [
              0.7777777777777778,
              "#fb9f3a"
             ],
             [
              0.8888888888888888,
              "#fdca26"
             ],
             [
              1,
              "#f0f921"
             ]
            ],
            "type": "histogram2d"
           }
          ],
          "histogram2dcontour": [
           {
            "colorbar": {
             "outlinewidth": 0,
             "ticks": ""
            },
            "colorscale": [
             [
              0,
              "#0d0887"
             ],
             [
              0.1111111111111111,
              "#46039f"
             ],
             [
              0.2222222222222222,
              "#7201a8"
             ],
             [
              0.3333333333333333,
              "#9c179e"
             ],
             [
              0.4444444444444444,
              "#bd3786"
             ],
             [
              0.5555555555555556,
              "#d8576b"
             ],
             [
              0.6666666666666666,
              "#ed7953"
             ],
             [
              0.7777777777777778,
              "#fb9f3a"
             ],
             [
              0.8888888888888888,
              "#fdca26"
             ],
             [
              1,
              "#f0f921"
             ]
            ],
            "type": "histogram2dcontour"
           }
          ],
          "mesh3d": [
           {
            "colorbar": {
             "outlinewidth": 0,
             "ticks": ""
            },
            "type": "mesh3d"
           }
          ],
          "parcoords": [
           {
            "line": {
             "colorbar": {
              "outlinewidth": 0,
              "ticks": ""
             }
            },
            "type": "parcoords"
           }
          ],
          "pie": [
           {
            "automargin": true,
            "type": "pie"
           }
          ],
          "scatter": [
           {
            "fillpattern": {
             "fillmode": "overlay",
             "size": 10,
             "solidity": 0.2
            },
            "type": "scatter"
           }
          ],
          "scatter3d": [
           {
            "line": {
             "colorbar": {
              "outlinewidth": 0,
              "ticks": ""
             }
            },
            "marker": {
             "colorbar": {
              "outlinewidth": 0,
              "ticks": ""
             }
            },
            "type": "scatter3d"
           }
          ],
          "scattercarpet": [
           {
            "marker": {
             "colorbar": {
              "outlinewidth": 0,
              "ticks": ""
             }
            },
            "type": "scattercarpet"
           }
          ],
          "scattergeo": [
           {
            "marker": {
             "colorbar": {
              "outlinewidth": 0,
              "ticks": ""
             }
            },
            "type": "scattergeo"
           }
          ],
          "scattergl": [
           {
            "marker": {
             "colorbar": {
              "outlinewidth": 0,
              "ticks": ""
             }
            },
            "type": "scattergl"
           }
          ],
          "scattermapbox": [
           {
            "marker": {
             "colorbar": {
              "outlinewidth": 0,
              "ticks": ""
             }
            },
            "type": "scattermapbox"
           }
          ],
          "scatterpolar": [
           {
            "marker": {
             "colorbar": {
              "outlinewidth": 0,
              "ticks": ""
             }
            },
            "type": "scatterpolar"
           }
          ],
          "scatterpolargl": [
           {
            "marker": {
             "colorbar": {
              "outlinewidth": 0,
              "ticks": ""
             }
            },
            "type": "scatterpolargl"
           }
          ],
          "scatterternary": [
           {
            "marker": {
             "colorbar": {
              "outlinewidth": 0,
              "ticks": ""
             }
            },
            "type": "scatterternary"
           }
          ],
          "surface": [
           {
            "colorbar": {
             "outlinewidth": 0,
             "ticks": ""
            },
            "colorscale": [
             [
              0,
              "#0d0887"
             ],
             [
              0.1111111111111111,
              "#46039f"
             ],
             [
              0.2222222222222222,
              "#7201a8"
             ],
             [
              0.3333333333333333,
              "#9c179e"
             ],
             [
              0.4444444444444444,
              "#bd3786"
             ],
             [
              0.5555555555555556,
              "#d8576b"
             ],
             [
              0.6666666666666666,
              "#ed7953"
             ],
             [
              0.7777777777777778,
              "#fb9f3a"
             ],
             [
              0.8888888888888888,
              "#fdca26"
             ],
             [
              1,
              "#f0f921"
             ]
            ],
            "type": "surface"
           }
          ],
          "table": [
           {
            "cells": {
             "fill": {
              "color": "#EBF0F8"
             },
             "line": {
              "color": "white"
             }
            },
            "header": {
             "fill": {
              "color": "#C8D4E3"
             },
             "line": {
              "color": "white"
             }
            },
            "type": "table"
           }
          ]
         },
         "layout": {
          "annotationdefaults": {
           "arrowcolor": "#2a3f5f",
           "arrowhead": 0,
           "arrowwidth": 1
          },
          "autotypenumbers": "strict",
          "coloraxis": {
           "colorbar": {
            "outlinewidth": 0,
            "ticks": ""
           }
          },
          "colorscale": {
           "diverging": [
            [
             0,
             "#8e0152"
            ],
            [
             0.1,
             "#c51b7d"
            ],
            [
             0.2,
             "#de77ae"
            ],
            [
             0.3,
             "#f1b6da"
            ],
            [
             0.4,
             "#fde0ef"
            ],
            [
             0.5,
             "#f7f7f7"
            ],
            [
             0.6,
             "#e6f5d0"
            ],
            [
             0.7,
             "#b8e186"
            ],
            [
             0.8,
             "#7fbc41"
            ],
            [
             0.9,
             "#4d9221"
            ],
            [
             1,
             "#276419"
            ]
           ],
           "sequential": [
            [
             0,
             "#0d0887"
            ],
            [
             0.1111111111111111,
             "#46039f"
            ],
            [
             0.2222222222222222,
             "#7201a8"
            ],
            [
             0.3333333333333333,
             "#9c179e"
            ],
            [
             0.4444444444444444,
             "#bd3786"
            ],
            [
             0.5555555555555556,
             "#d8576b"
            ],
            [
             0.6666666666666666,
             "#ed7953"
            ],
            [
             0.7777777777777778,
             "#fb9f3a"
            ],
            [
             0.8888888888888888,
             "#fdca26"
            ],
            [
             1,
             "#f0f921"
            ]
           ],
           "sequentialminus": [
            [
             0,
             "#0d0887"
            ],
            [
             0.1111111111111111,
             "#46039f"
            ],
            [
             0.2222222222222222,
             "#7201a8"
            ],
            [
             0.3333333333333333,
             "#9c179e"
            ],
            [
             0.4444444444444444,
             "#bd3786"
            ],
            [
             0.5555555555555556,
             "#d8576b"
            ],
            [
             0.6666666666666666,
             "#ed7953"
            ],
            [
             0.7777777777777778,
             "#fb9f3a"
            ],
            [
             0.8888888888888888,
             "#fdca26"
            ],
            [
             1,
             "#f0f921"
            ]
           ]
          },
          "colorway": [
           "#636efa",
           "#EF553B",
           "#00cc96",
           "#ab63fa",
           "#FFA15A",
           "#19d3f3",
           "#FF6692",
           "#B6E880",
           "#FF97FF",
           "#FECB52"
          ],
          "font": {
           "color": "#2a3f5f"
          },
          "geo": {
           "bgcolor": "white",
           "lakecolor": "white",
           "landcolor": "#E5ECF6",
           "showlakes": true,
           "showland": true,
           "subunitcolor": "white"
          },
          "hoverlabel": {
           "align": "left"
          },
          "hovermode": "closest",
          "mapbox": {
           "style": "light"
          },
          "paper_bgcolor": "white",
          "plot_bgcolor": "#E5ECF6",
          "polar": {
           "angularaxis": {
            "gridcolor": "white",
            "linecolor": "white",
            "ticks": ""
           },
           "bgcolor": "#E5ECF6",
           "radialaxis": {
            "gridcolor": "white",
            "linecolor": "white",
            "ticks": ""
           }
          },
          "scene": {
           "xaxis": {
            "backgroundcolor": "#E5ECF6",
            "gridcolor": "white",
            "gridwidth": 2,
            "linecolor": "white",
            "showbackground": true,
            "ticks": "",
            "zerolinecolor": "white"
           },
           "yaxis": {
            "backgroundcolor": "#E5ECF6",
            "gridcolor": "white",
            "gridwidth": 2,
            "linecolor": "white",
            "showbackground": true,
            "ticks": "",
            "zerolinecolor": "white"
           },
           "zaxis": {
            "backgroundcolor": "#E5ECF6",
            "gridcolor": "white",
            "gridwidth": 2,
            "linecolor": "white",
            "showbackground": true,
            "ticks": "",
            "zerolinecolor": "white"
           }
          },
          "shapedefaults": {
           "line": {
            "color": "#2a3f5f"
           }
          },
          "ternary": {
           "aaxis": {
            "gridcolor": "white",
            "linecolor": "white",
            "ticks": ""
           },
           "baxis": {
            "gridcolor": "white",
            "linecolor": "white",
            "ticks": ""
           },
           "bgcolor": "#E5ECF6",
           "caxis": {
            "gridcolor": "white",
            "linecolor": "white",
            "ticks": ""
           }
          },
          "title": {
           "x": 0.05
          },
          "xaxis": {
           "automargin": true,
           "gridcolor": "white",
           "linecolor": "white",
           "ticks": "",
           "title": {
            "standoff": 15
           },
           "zerolinecolor": "white",
           "zerolinewidth": 2
          },
          "yaxis": {
           "automargin": true,
           "gridcolor": "white",
           "linecolor": "white",
           "ticks": "",
           "title": {
            "standoff": 15
           },
           "zerolinecolor": "white",
           "zerolinewidth": 2
          }
         }
        },
        "title": {
         "text": "Predicción vs Real (XGBoost)"
        }
       }
      }
     },
     "metadata": {},
     "output_type": "display_data"
    }
   ],
   "source": [
    "# Calculate metrics\n",
    "y_pred = grid_xgb.predict(X_test)\n",
    "\n",
    "# Metrics\n",
    "mse = mean_squared_error(y_test, y_pred)\n",
    "mape = mean_absolute_percentage_error(y_test, y_pred)\n",
    "r2 = grid_xgb.score(X_test, y_test)\n",
    "models_metrics.append({'Model': 'XGBoost', 'MSE': mse, 'RMSE':mse**0.5, 'MAPE': mape, 'R2': r2})\n",
    "print(models_metrics)\n",
    "\n",
    "#Plot predictions vs real values but with matplotlib\n",
    "plt.figure(figsize=(15,5))\n",
    "plt.plot(X_test.index, y_test, label='Real')\n",
    "plt.plot(X_test.index, y_pred, label='Predicción')\n",
    "plt.xlabel('Date')\n",
    "plt.ylabel('Available')\n",
    "plt.title('Predicción vs Real (XGBoost)')\n",
    "plt.legend(loc='best')\n",
    "plt.show()"
   ]
  },
  {
   "cell_type": "markdown",
   "metadata": {},
   "source": [
    "# SVM"
   ]
  },
  {
   "cell_type": "code",
   "execution_count": 26,
   "metadata": {},
   "outputs": [
    {
     "name": "stdout",
     "output_type": "stream",
     "text": [
      "Best parameters:  {'svm__degree': 2, 'svm__gamma': 'scale', 'svm__kernel': 'poly'}\n",
      "Best score:  -2875.0486343630682\n"
     ]
    }
   ],
   "source": [
    "# Apply SVM to forecast my time series (available) tunning hyperparamets without cross validation\n",
    "if (len(glob.glob(\"svm_model_naugd.pkl\")) != 0):\n",
    "    \n",
    "    grid_svm = pickle.load(open('svm_model_naugd.pkl','rb'))\n",
    "    \n",
    "else:\n",
    "\n",
    "    pipe = Pipeline([\n",
    "    ('scaler', MinMaxScaler()), \n",
    "    ('svm', SVR())])\n",
    "    \n",
    "    param_grid = {'svm__kernel': ['linear', 'poly', 'rbf', 'sigmoid'],\n",
    "                    'svm__degree': [1, 2, 3, 4, 5],\n",
    "                    'svm__gamma': ['scale', 'auto']}\n",
    "    \n",
    "    grid_svm = GridSearchCV(pipe, param_grid, cv=TimeSeriesSplit(n_splits=5), scoring='neg_mean_squared_error', n_jobs=-1)\n",
    "    grid_svm.fit(X_train, y_train)\n",
    "    \n",
    "    # Export model to pickle\n",
    "    pickle.dump(grid_svm, open('svm_model_naugd.pkl', 'wb'))\n",
    "    \n",
    "print(\"Best parameters: \", grid_svm.best_params_)\n",
    "print(\"Best score: \", grid_svm.best_score_)"
   ]
  },
  {
   "cell_type": "code",
   "execution_count": 27,
   "metadata": {},
   "outputs": [
    {
     "name": "stdout",
     "output_type": "stream",
     "text": [
      "[{'Model': 'KNN', 'MSE': 1295.5237527506472, 'RMSE': 35.993384847088876, 'MAPE': 0.40607448792176354}, {'Model': 'Ridge', 'MSE': 1448.867944346486, 'RMSE': 38.063998007914066, 'MAPE': 0.4522864563680011}, {'Model': 'Lasso', 'MSE': 1457.7905125089944, 'RMSE': 38.18102293691192, 'MAPE': 0.45454360898826485}, {'Model': 'Naive Bayes', 'MSE': 1646.1860465116279, 'RMSE': 40.57321834057076, 'MAPE': 0.4209167208472928}, {'Model': 'XGBoost', 'MSE': 1502.7373898429344, 'RMSE': 38.76515690466033, 'MAPE': 0.43473268232847584}, {'Model': 'SVM', 'MSE': 1567.699634688578, 'RMSE': 39.5941868800027, 'MAPE': 0.48970962923289785}]\n"
     ]
    },
    {
     "data": {
      "application/vnd.plotly.v1+json": {
       "config": {
        "plotlyServerURL": "https://plot.ly"
       },
       "data": [
        {
         "mode": "lines",
         "name": "Real",
         "type": "scatter",
         "x": [
          "2023-09-06T08:00:00",
          "2023-09-06T16:00:00",
          "2023-09-07T00:00:00",
          "2023-09-07T08:00:00",
          "2023-09-07T16:00:00",
          "2023-09-08T00:00:00",
          "2023-09-08T08:00:00",
          "2023-09-08T16:00:00",
          "2023-09-09T00:00:00",
          "2023-09-09T08:00:00",
          "2023-09-09T16:00:00",
          "2023-09-10T00:00:00",
          "2023-09-10T08:00:00",
          "2023-09-10T16:00:00",
          "2023-09-11T00:00:00",
          "2023-09-11T08:00:00",
          "2023-09-11T16:00:00",
          "2023-09-12T00:00:00",
          "2023-09-12T08:00:00",
          "2023-09-12T16:00:00",
          "2023-09-13T00:00:00",
          "2023-09-13T08:00:00",
          "2023-09-13T16:00:00",
          "2023-09-14T00:00:00",
          "2023-09-14T08:00:00",
          "2023-09-14T16:00:00",
          "2023-09-15T00:00:00",
          "2023-09-15T08:00:00",
          "2023-09-15T16:00:00",
          "2023-09-16T00:00:00",
          "2023-09-16T08:00:00",
          "2023-09-16T16:00:00",
          "2023-09-17T00:00:00",
          "2023-09-17T08:00:00",
          "2023-09-17T16:00:00",
          "2023-09-18T00:00:00",
          "2023-09-18T08:00:00",
          "2023-09-18T16:00:00",
          "2023-09-19T00:00:00",
          "2023-09-19T08:00:00",
          "2023-09-19T16:00:00",
          "2023-09-20T00:00:00",
          "2023-09-20T08:00:00",
          "2023-09-20T16:00:00",
          "2023-09-21T00:00:00",
          "2023-09-21T08:00:00",
          "2023-09-21T16:00:00",
          "2023-09-22T00:00:00",
          "2023-09-22T08:00:00",
          "2023-09-22T16:00:00",
          "2023-09-23T00:00:00",
          "2023-09-23T08:00:00",
          "2023-09-23T16:00:00",
          "2023-09-24T00:00:00",
          "2023-09-24T08:00:00",
          "2023-09-24T16:00:00",
          "2023-09-25T00:00:00",
          "2023-09-25T08:00:00",
          "2023-09-25T16:00:00",
          "2023-09-26T00:00:00",
          "2023-09-26T08:00:00",
          "2023-09-26T16:00:00",
          "2023-09-27T00:00:00",
          "2023-09-27T08:00:00",
          "2023-09-27T16:00:00",
          "2023-09-28T00:00:00",
          "2023-09-28T08:00:00",
          "2023-09-28T16:00:00",
          "2023-09-29T00:00:00",
          "2023-09-29T08:00:00",
          "2023-09-29T16:00:00",
          "2023-09-30T00:00:00",
          "2023-09-30T08:00:00",
          "2023-09-30T16:00:00",
          "2023-10-01T00:00:00",
          "2023-10-01T08:00:00",
          "2023-10-01T16:00:00",
          "2023-10-02T00:00:00",
          "2023-10-02T08:00:00",
          "2023-10-02T16:00:00",
          "2023-10-03T00:00:00",
          "2023-10-03T08:00:00",
          "2023-10-03T16:00:00",
          "2023-10-04T00:00:00",
          "2023-10-04T08:00:00",
          "2023-10-04T16:00:00"
         ],
         "y": [
          121,
          91,
          81,
          110,
          78,
          69,
          100,
          87,
          86,
          107,
          97,
          94,
          85,
          80,
          98,
          107,
          104,
          21,
          106,
          91,
          72,
          129,
          93,
          40,
          42,
          98,
          76,
          144,
          124,
          134,
          130,
          119,
          117,
          127,
          118,
          151,
          137,
          70,
          42,
          48,
          101,
          100,
          123,
          110,
          72,
          126,
          119,
          37,
          120,
          39,
          126,
          129,
          124,
          143,
          141,
          127,
          134,
          161,
          126,
          141,
          106,
          85,
          82,
          99,
          28,
          95,
          130,
          117,
          54,
          128,
          47,
          47,
          140,
          124,
          48,
          140,
          110,
          53,
          229,
          128,
          118,
          127,
          96,
          91,
          103,
          78
         ]
        },
        {
         "mode": "lines",
         "name": "Predicción",
         "type": "scatter",
         "x": [
          "2023-09-06T08:00:00",
          "2023-09-06T16:00:00",
          "2023-09-07T00:00:00",
          "2023-09-07T08:00:00",
          "2023-09-07T16:00:00",
          "2023-09-08T00:00:00",
          "2023-09-08T08:00:00",
          "2023-09-08T16:00:00",
          "2023-09-09T00:00:00",
          "2023-09-09T08:00:00",
          "2023-09-09T16:00:00",
          "2023-09-10T00:00:00",
          "2023-09-10T08:00:00",
          "2023-09-10T16:00:00",
          "2023-09-11T00:00:00",
          "2023-09-11T08:00:00",
          "2023-09-11T16:00:00",
          "2023-09-12T00:00:00",
          "2023-09-12T08:00:00",
          "2023-09-12T16:00:00",
          "2023-09-13T00:00:00",
          "2023-09-13T08:00:00",
          "2023-09-13T16:00:00",
          "2023-09-14T00:00:00",
          "2023-09-14T08:00:00",
          "2023-09-14T16:00:00",
          "2023-09-15T00:00:00",
          "2023-09-15T08:00:00",
          "2023-09-15T16:00:00",
          "2023-09-16T00:00:00",
          "2023-09-16T08:00:00",
          "2023-09-16T16:00:00",
          "2023-09-17T00:00:00",
          "2023-09-17T08:00:00",
          "2023-09-17T16:00:00",
          "2023-09-18T00:00:00",
          "2023-09-18T08:00:00",
          "2023-09-18T16:00:00",
          "2023-09-19T00:00:00",
          "2023-09-19T08:00:00",
          "2023-09-19T16:00:00",
          "2023-09-20T00:00:00",
          "2023-09-20T08:00:00",
          "2023-09-20T16:00:00",
          "2023-09-21T00:00:00",
          "2023-09-21T08:00:00",
          "2023-09-21T16:00:00",
          "2023-09-22T00:00:00",
          "2023-09-22T08:00:00",
          "2023-09-22T16:00:00",
          "2023-09-23T00:00:00",
          "2023-09-23T08:00:00",
          "2023-09-23T16:00:00",
          "2023-09-24T00:00:00",
          "2023-09-24T08:00:00",
          "2023-09-24T16:00:00",
          "2023-09-25T00:00:00",
          "2023-09-25T08:00:00",
          "2023-09-25T16:00:00",
          "2023-09-26T00:00:00",
          "2023-09-26T08:00:00",
          "2023-09-26T16:00:00",
          "2023-09-27T00:00:00",
          "2023-09-27T08:00:00",
          "2023-09-27T16:00:00",
          "2023-09-28T00:00:00",
          "2023-09-28T08:00:00",
          "2023-09-28T16:00:00",
          "2023-09-29T00:00:00",
          "2023-09-29T08:00:00",
          "2023-09-29T16:00:00",
          "2023-09-30T00:00:00",
          "2023-09-30T08:00:00",
          "2023-09-30T16:00:00",
          "2023-10-01T00:00:00",
          "2023-10-01T08:00:00",
          "2023-10-01T16:00:00",
          "2023-10-02T00:00:00",
          "2023-10-02T08:00:00",
          "2023-10-02T16:00:00",
          "2023-10-03T00:00:00",
          "2023-10-03T08:00:00",
          "2023-10-03T16:00:00",
          "2023-10-04T00:00:00",
          "2023-10-04T08:00:00",
          "2023-10-04T16:00:00"
         ],
         "y": [
          138.76506745713877,
          131.5022295765391,
          126.63648316759848,
          119.59167457523552,
          118.98133282851809,
          115.82234787468427,
          115.51161422880264,
          115.083326754306,
          115.0443099051166,
          117.1723407026515,
          118.60500579431702,
          118.95886415621227,
          120.14096078051465,
          117.32608507004787,
          115.54082563005454,
          116.49753622410753,
          119.02740823045578,
          121.57441682872037,
          112.60032356449459,
          113.1179592227477,
          112.1457676706699,
          116.49738910679179,
          121.0205176673872,
          118.52738727684218,
          116.41752596364837,
          108.86006463842773,
          110.20143429905009,
          111.13707479699707,
          124.95977575642335,
          126.28332340230014,
          136.57611024529677,
          133.64486434502004,
          132.53422577031216,
          130.0052222111677,
          129.93804932452477,
          129.11626893787937,
          136.48392583165514,
          136.49868216626317,
          127.79085619862298,
          115.8319452259939,
          107.63697818955588,
          111.05137125297038,
          115.12358928289433,
          124.48451070358097,
          124.58742103672185,
          120.560272244279,
          122.65705550369114,
          122.95903700398989,
          117.62131609952803,
          118.21856002299234,
          107.41515642210123,
          119.43099838143479,
          121.47002498882547,
          132.04730314830152,
          135.92036776486393,
          137.37143109757642,
          137.38510000023254,
          136.4840503152346,
          141.37451879100075,
          138.24795606491335,
          141.6465591980985,
          129.9632623438649,
          124.80048865161018,
          117.18619821864912,
          116.82541666867498,
          109.96433362797082,
          112.32245171029476,
          118.21617626527765,
          125.97537750654357,
          119.98593589451684,
          121.43150290252808,
          110.01643426047045,
          113.08879813387648,
          116.58010157778307,
          122.43347894513107,
          121.52695049892182,
          123.33303558495544,
          119.74145118622438,
          120.85698364001044,
          141.74837213969002,
          131.86815232448575,
          152.45327470949945,
          131.50388905536954,
          125.20981621629643,
          122.36369044024127,
          119.51584356651657
         ]
        }
       ],
       "layout": {
        "showlegend": true,
        "template": {
         "data": {
          "bar": [
           {
            "error_x": {
             "color": "#2a3f5f"
            },
            "error_y": {
             "color": "#2a3f5f"
            },
            "marker": {
             "line": {
              "color": "#E5ECF6",
              "width": 0.5
             },
             "pattern": {
              "fillmode": "overlay",
              "size": 10,
              "solidity": 0.2
             }
            },
            "type": "bar"
           }
          ],
          "barpolar": [
           {
            "marker": {
             "line": {
              "color": "#E5ECF6",
              "width": 0.5
             },
             "pattern": {
              "fillmode": "overlay",
              "size": 10,
              "solidity": 0.2
             }
            },
            "type": "barpolar"
           }
          ],
          "carpet": [
           {
            "aaxis": {
             "endlinecolor": "#2a3f5f",
             "gridcolor": "white",
             "linecolor": "white",
             "minorgridcolor": "white",
             "startlinecolor": "#2a3f5f"
            },
            "baxis": {
             "endlinecolor": "#2a3f5f",
             "gridcolor": "white",
             "linecolor": "white",
             "minorgridcolor": "white",
             "startlinecolor": "#2a3f5f"
            },
            "type": "carpet"
           }
          ],
          "choropleth": [
           {
            "colorbar": {
             "outlinewidth": 0,
             "ticks": ""
            },
            "type": "choropleth"
           }
          ],
          "contour": [
           {
            "colorbar": {
             "outlinewidth": 0,
             "ticks": ""
            },
            "colorscale": [
             [
              0,
              "#0d0887"
             ],
             [
              0.1111111111111111,
              "#46039f"
             ],
             [
              0.2222222222222222,
              "#7201a8"
             ],
             [
              0.3333333333333333,
              "#9c179e"
             ],
             [
              0.4444444444444444,
              "#bd3786"
             ],
             [
              0.5555555555555556,
              "#d8576b"
             ],
             [
              0.6666666666666666,
              "#ed7953"
             ],
             [
              0.7777777777777778,
              "#fb9f3a"
             ],
             [
              0.8888888888888888,
              "#fdca26"
             ],
             [
              1,
              "#f0f921"
             ]
            ],
            "type": "contour"
           }
          ],
          "contourcarpet": [
           {
            "colorbar": {
             "outlinewidth": 0,
             "ticks": ""
            },
            "type": "contourcarpet"
           }
          ],
          "heatmap": [
           {
            "colorbar": {
             "outlinewidth": 0,
             "ticks": ""
            },
            "colorscale": [
             [
              0,
              "#0d0887"
             ],
             [
              0.1111111111111111,
              "#46039f"
             ],
             [
              0.2222222222222222,
              "#7201a8"
             ],
             [
              0.3333333333333333,
              "#9c179e"
             ],
             [
              0.4444444444444444,
              "#bd3786"
             ],
             [
              0.5555555555555556,
              "#d8576b"
             ],
             [
              0.6666666666666666,
              "#ed7953"
             ],
             [
              0.7777777777777778,
              "#fb9f3a"
             ],
             [
              0.8888888888888888,
              "#fdca26"
             ],
             [
              1,
              "#f0f921"
             ]
            ],
            "type": "heatmap"
           }
          ],
          "heatmapgl": [
           {
            "colorbar": {
             "outlinewidth": 0,
             "ticks": ""
            },
            "colorscale": [
             [
              0,
              "#0d0887"
             ],
             [
              0.1111111111111111,
              "#46039f"
             ],
             [
              0.2222222222222222,
              "#7201a8"
             ],
             [
              0.3333333333333333,
              "#9c179e"
             ],
             [
              0.4444444444444444,
              "#bd3786"
             ],
             [
              0.5555555555555556,
              "#d8576b"
             ],
             [
              0.6666666666666666,
              "#ed7953"
             ],
             [
              0.7777777777777778,
              "#fb9f3a"
             ],
             [
              0.8888888888888888,
              "#fdca26"
             ],
             [
              1,
              "#f0f921"
             ]
            ],
            "type": "heatmapgl"
           }
          ],
          "histogram": [
           {
            "marker": {
             "pattern": {
              "fillmode": "overlay",
              "size": 10,
              "solidity": 0.2
             }
            },
            "type": "histogram"
           }
          ],
          "histogram2d": [
           {
            "colorbar": {
             "outlinewidth": 0,
             "ticks": ""
            },
            "colorscale": [
             [
              0,
              "#0d0887"
             ],
             [
              0.1111111111111111,
              "#46039f"
             ],
             [
              0.2222222222222222,
              "#7201a8"
             ],
             [
              0.3333333333333333,
              "#9c179e"
             ],
             [
              0.4444444444444444,
              "#bd3786"
             ],
             [
              0.5555555555555556,
              "#d8576b"
             ],
             [
              0.6666666666666666,
              "#ed7953"
             ],
             [
              0.7777777777777778,
              "#fb9f3a"
             ],
             [
              0.8888888888888888,
              "#fdca26"
             ],
             [
              1,
              "#f0f921"
             ]
            ],
            "type": "histogram2d"
           }
          ],
          "histogram2dcontour": [
           {
            "colorbar": {
             "outlinewidth": 0,
             "ticks": ""
            },
            "colorscale": [
             [
              0,
              "#0d0887"
             ],
             [
              0.1111111111111111,
              "#46039f"
             ],
             [
              0.2222222222222222,
              "#7201a8"
             ],
             [
              0.3333333333333333,
              "#9c179e"
             ],
             [
              0.4444444444444444,
              "#bd3786"
             ],
             [
              0.5555555555555556,
              "#d8576b"
             ],
             [
              0.6666666666666666,
              "#ed7953"
             ],
             [
              0.7777777777777778,
              "#fb9f3a"
             ],
             [
              0.8888888888888888,
              "#fdca26"
             ],
             [
              1,
              "#f0f921"
             ]
            ],
            "type": "histogram2dcontour"
           }
          ],
          "mesh3d": [
           {
            "colorbar": {
             "outlinewidth": 0,
             "ticks": ""
            },
            "type": "mesh3d"
           }
          ],
          "parcoords": [
           {
            "line": {
             "colorbar": {
              "outlinewidth": 0,
              "ticks": ""
             }
            },
            "type": "parcoords"
           }
          ],
          "pie": [
           {
            "automargin": true,
            "type": "pie"
           }
          ],
          "scatter": [
           {
            "fillpattern": {
             "fillmode": "overlay",
             "size": 10,
             "solidity": 0.2
            },
            "type": "scatter"
           }
          ],
          "scatter3d": [
           {
            "line": {
             "colorbar": {
              "outlinewidth": 0,
              "ticks": ""
             }
            },
            "marker": {
             "colorbar": {
              "outlinewidth": 0,
              "ticks": ""
             }
            },
            "type": "scatter3d"
           }
          ],
          "scattercarpet": [
           {
            "marker": {
             "colorbar": {
              "outlinewidth": 0,
              "ticks": ""
             }
            },
            "type": "scattercarpet"
           }
          ],
          "scattergeo": [
           {
            "marker": {
             "colorbar": {
              "outlinewidth": 0,
              "ticks": ""
             }
            },
            "type": "scattergeo"
           }
          ],
          "scattergl": [
           {
            "marker": {
             "colorbar": {
              "outlinewidth": 0,
              "ticks": ""
             }
            },
            "type": "scattergl"
           }
          ],
          "scattermapbox": [
           {
            "marker": {
             "colorbar": {
              "outlinewidth": 0,
              "ticks": ""
             }
            },
            "type": "scattermapbox"
           }
          ],
          "scatterpolar": [
           {
            "marker": {
             "colorbar": {
              "outlinewidth": 0,
              "ticks": ""
             }
            },
            "type": "scatterpolar"
           }
          ],
          "scatterpolargl": [
           {
            "marker": {
             "colorbar": {
              "outlinewidth": 0,
              "ticks": ""
             }
            },
            "type": "scatterpolargl"
           }
          ],
          "scatterternary": [
           {
            "marker": {
             "colorbar": {
              "outlinewidth": 0,
              "ticks": ""
             }
            },
            "type": "scatterternary"
           }
          ],
          "surface": [
           {
            "colorbar": {
             "outlinewidth": 0,
             "ticks": ""
            },
            "colorscale": [
             [
              0,
              "#0d0887"
             ],
             [
              0.1111111111111111,
              "#46039f"
             ],
             [
              0.2222222222222222,
              "#7201a8"
             ],
             [
              0.3333333333333333,
              "#9c179e"
             ],
             [
              0.4444444444444444,
              "#bd3786"
             ],
             [
              0.5555555555555556,
              "#d8576b"
             ],
             [
              0.6666666666666666,
              "#ed7953"
             ],
             [
              0.7777777777777778,
              "#fb9f3a"
             ],
             [
              0.8888888888888888,
              "#fdca26"
             ],
             [
              1,
              "#f0f921"
             ]
            ],
            "type": "surface"
           }
          ],
          "table": [
           {
            "cells": {
             "fill": {
              "color": "#EBF0F8"
             },
             "line": {
              "color": "white"
             }
            },
            "header": {
             "fill": {
              "color": "#C8D4E3"
             },
             "line": {
              "color": "white"
             }
            },
            "type": "table"
           }
          ]
         },
         "layout": {
          "annotationdefaults": {
           "arrowcolor": "#2a3f5f",
           "arrowhead": 0,
           "arrowwidth": 1
          },
          "autotypenumbers": "strict",
          "coloraxis": {
           "colorbar": {
            "outlinewidth": 0,
            "ticks": ""
           }
          },
          "colorscale": {
           "diverging": [
            [
             0,
             "#8e0152"
            ],
            [
             0.1,
             "#c51b7d"
            ],
            [
             0.2,
             "#de77ae"
            ],
            [
             0.3,
             "#f1b6da"
            ],
            [
             0.4,
             "#fde0ef"
            ],
            [
             0.5,
             "#f7f7f7"
            ],
            [
             0.6,
             "#e6f5d0"
            ],
            [
             0.7,
             "#b8e186"
            ],
            [
             0.8,
             "#7fbc41"
            ],
            [
             0.9,
             "#4d9221"
            ],
            [
             1,
             "#276419"
            ]
           ],
           "sequential": [
            [
             0,
             "#0d0887"
            ],
            [
             0.1111111111111111,
             "#46039f"
            ],
            [
             0.2222222222222222,
             "#7201a8"
            ],
            [
             0.3333333333333333,
             "#9c179e"
            ],
            [
             0.4444444444444444,
             "#bd3786"
            ],
            [
             0.5555555555555556,
             "#d8576b"
            ],
            [
             0.6666666666666666,
             "#ed7953"
            ],
            [
             0.7777777777777778,
             "#fb9f3a"
            ],
            [
             0.8888888888888888,
             "#fdca26"
            ],
            [
             1,
             "#f0f921"
            ]
           ],
           "sequentialminus": [
            [
             0,
             "#0d0887"
            ],
            [
             0.1111111111111111,
             "#46039f"
            ],
            [
             0.2222222222222222,
             "#7201a8"
            ],
            [
             0.3333333333333333,
             "#9c179e"
            ],
            [
             0.4444444444444444,
             "#bd3786"
            ],
            [
             0.5555555555555556,
             "#d8576b"
            ],
            [
             0.6666666666666666,
             "#ed7953"
            ],
            [
             0.7777777777777778,
             "#fb9f3a"
            ],
            [
             0.8888888888888888,
             "#fdca26"
            ],
            [
             1,
             "#f0f921"
            ]
           ]
          },
          "colorway": [
           "#636efa",
           "#EF553B",
           "#00cc96",
           "#ab63fa",
           "#FFA15A",
           "#19d3f3",
           "#FF6692",
           "#B6E880",
           "#FF97FF",
           "#FECB52"
          ],
          "font": {
           "color": "#2a3f5f"
          },
          "geo": {
           "bgcolor": "white",
           "lakecolor": "white",
           "landcolor": "#E5ECF6",
           "showlakes": true,
           "showland": true,
           "subunitcolor": "white"
          },
          "hoverlabel": {
           "align": "left"
          },
          "hovermode": "closest",
          "mapbox": {
           "style": "light"
          },
          "paper_bgcolor": "white",
          "plot_bgcolor": "#E5ECF6",
          "polar": {
           "angularaxis": {
            "gridcolor": "white",
            "linecolor": "white",
            "ticks": ""
           },
           "bgcolor": "#E5ECF6",
           "radialaxis": {
            "gridcolor": "white",
            "linecolor": "white",
            "ticks": ""
           }
          },
          "scene": {
           "xaxis": {
            "backgroundcolor": "#E5ECF6",
            "gridcolor": "white",
            "gridwidth": 2,
            "linecolor": "white",
            "showbackground": true,
            "ticks": "",
            "zerolinecolor": "white"
           },
           "yaxis": {
            "backgroundcolor": "#E5ECF6",
            "gridcolor": "white",
            "gridwidth": 2,
            "linecolor": "white",
            "showbackground": true,
            "ticks": "",
            "zerolinecolor": "white"
           },
           "zaxis": {
            "backgroundcolor": "#E5ECF6",
            "gridcolor": "white",
            "gridwidth": 2,
            "linecolor": "white",
            "showbackground": true,
            "ticks": "",
            "zerolinecolor": "white"
           }
          },
          "shapedefaults": {
           "line": {
            "color": "#2a3f5f"
           }
          },
          "ternary": {
           "aaxis": {
            "gridcolor": "white",
            "linecolor": "white",
            "ticks": ""
           },
           "baxis": {
            "gridcolor": "white",
            "linecolor": "white",
            "ticks": ""
           },
           "bgcolor": "#E5ECF6",
           "caxis": {
            "gridcolor": "white",
            "linecolor": "white",
            "ticks": ""
           }
          },
          "title": {
           "x": 0.05
          },
          "xaxis": {
           "automargin": true,
           "gridcolor": "white",
           "linecolor": "white",
           "ticks": "",
           "title": {
            "standoff": 15
           },
           "zerolinecolor": "white",
           "zerolinewidth": 2
          },
          "yaxis": {
           "automargin": true,
           "gridcolor": "white",
           "linecolor": "white",
           "ticks": "",
           "title": {
            "standoff": 15
           },
           "zerolinecolor": "white",
           "zerolinewidth": 2
          }
         }
        },
        "title": {
         "text": "Predicción vs Real (SVM)"
        }
       }
      }
     },
     "metadata": {},
     "output_type": "display_data"
    }
   ],
   "source": [
    "# Calculate metrics\n",
    "y_pred = grid_svm.predict(X_test)\n",
    "\n",
    "# Metrics\n",
    "mse = mean_squared_error(y_test, y_pred)\n",
    "mape = mean_absolute_percentage_error(y_test, y_pred)\n",
    "r2 = grid_svm.score(X_test, y_test)\n",
    "models_metrics.append({'Model': 'SVM', 'MSE': mse, 'RMSE':mse**0.5, 'MAPE': mape, 'R2': r2})\n",
    "print(models_metrics)\n",
    "\n",
    "#Plot predictions vs real values but with matplotlib\n",
    "plt.figure(figsize=(15,5))\n",
    "plt.plot(X_test.index, y_test, label='Real')\n",
    "plt.plot(X_test.index, y_pred, label='Predicción')\n",
    "plt.xlabel('Date')\n",
    "plt.ylabel('Available')\n",
    "plt.title('Predicción vs Real (SVM)')\n",
    "plt.legend(loc='best')\n",
    "plt.show()"
   ]
  },
  {
   "cell_type": "markdown",
   "metadata": {},
   "source": [
    "# MLP"
   ]
  },
  {
   "cell_type": "code",
   "execution_count": 28,
   "metadata": {},
   "outputs": [
    {
     "name": "stdout",
     "output_type": "stream",
     "text": [
      "Best parameters:  {'mlp__activation': 'relu', 'mlp__hidden_layer_sizes': (10,), 'mlp__learning_rate': 'constant', 'mlp__solver': 'sgd'}\n",
      "Best score:  -2579.6601437229\n"
     ]
    }
   ],
   "source": [
    "# Apply MLP to forecast my time series (available) tunning hyperparamets without cross validation, do the required steps\n",
    "# to apply the model\n",
    "\n",
    "if (len(glob.glob(\"mlp_model_naugd.pkl\")) != 0):\n",
    "    \n",
    "    grid_mlp = pickle.load(open('mlp_model_naugd.pkl','rb'))\n",
    "    \n",
    "else:\n",
    "\n",
    "    pipe = Pipeline([\n",
    "    ('scaler', MinMaxScaler()), \n",
    "    ('mlp', MLPRegressor())])\n",
    "\n",
    "    param_grid = {'mlp__hidden_layer_sizes': [(10,), (50,), (100,)],\n",
    "                    'mlp__activation': ['identity', 'logistic', 'tanh', 'relu'],\n",
    "                    'mlp__solver': ['lbfgs', 'sgd', 'adam'],\n",
    "                    'mlp__learning_rate': ['constant', 'invscaling', 'adaptive']}\n",
    "    \n",
    "    grid_mlp = GridSearchCV(pipe, param_grid, cv=TimeSeriesSplit(n_splits=5), scoring='neg_mean_squared_error', n_jobs=-1)\n",
    "    grid_mlp.fit(X_train, y_train)\n",
    "    \n",
    "    # Export model to pickle\n",
    "    pickle.dump(grid_mlp, open('mlp_model_naugd.pkl', 'wb'))\n",
    "    \n",
    "print(\"Best parameters: \", grid_mlp.best_params_)\n",
    "print(\"Best score: \", grid_mlp.best_score_)"
   ]
  },
  {
   "cell_type": "code",
   "execution_count": 29,
   "metadata": {},
   "outputs": [
    {
     "name": "stdout",
     "output_type": "stream",
     "text": [
      "[{'Model': 'KNN', 'MSE': 1295.5237527506472, 'RMSE': 35.993384847088876, 'MAPE': 0.40607448792176354}, {'Model': 'Ridge', 'MSE': 1448.867944346486, 'RMSE': 38.063998007914066, 'MAPE': 0.4522864563680011}, {'Model': 'Lasso', 'MSE': 1457.7905125089944, 'RMSE': 38.18102293691192, 'MAPE': 0.45454360898826485}, {'Model': 'Naive Bayes', 'MSE': 1646.1860465116279, 'RMSE': 40.57321834057076, 'MAPE': 0.4209167208472928}, {'Model': 'XGBoost', 'MSE': 1502.7373898429344, 'RMSE': 38.76515690466033, 'MAPE': 0.43473268232847584}, {'Model': 'SVM', 'MSE': 1567.699634688578, 'RMSE': 39.5941868800027, 'MAPE': 0.48970962923289785}, {'Model': 'MLP', 'MSE': 1448.0437828010265, 'RMSE': 38.05317046976541, 'MAPE': 0.45151003886932595}]\n"
     ]
    },
    {
     "data": {
      "application/vnd.plotly.v1+json": {
       "config": {
        "plotlyServerURL": "https://plot.ly"
       },
       "data": [
        {
         "mode": "lines",
         "name": "Real",
         "type": "scatter",
         "x": [
          "2023-09-06T08:00:00",
          "2023-09-06T16:00:00",
          "2023-09-07T00:00:00",
          "2023-09-07T08:00:00",
          "2023-09-07T16:00:00",
          "2023-09-08T00:00:00",
          "2023-09-08T08:00:00",
          "2023-09-08T16:00:00",
          "2023-09-09T00:00:00",
          "2023-09-09T08:00:00",
          "2023-09-09T16:00:00",
          "2023-09-10T00:00:00",
          "2023-09-10T08:00:00",
          "2023-09-10T16:00:00",
          "2023-09-11T00:00:00",
          "2023-09-11T08:00:00",
          "2023-09-11T16:00:00",
          "2023-09-12T00:00:00",
          "2023-09-12T08:00:00",
          "2023-09-12T16:00:00",
          "2023-09-13T00:00:00",
          "2023-09-13T08:00:00",
          "2023-09-13T16:00:00",
          "2023-09-14T00:00:00",
          "2023-09-14T08:00:00",
          "2023-09-14T16:00:00",
          "2023-09-15T00:00:00",
          "2023-09-15T08:00:00",
          "2023-09-15T16:00:00",
          "2023-09-16T00:00:00",
          "2023-09-16T08:00:00",
          "2023-09-16T16:00:00",
          "2023-09-17T00:00:00",
          "2023-09-17T08:00:00",
          "2023-09-17T16:00:00",
          "2023-09-18T00:00:00",
          "2023-09-18T08:00:00",
          "2023-09-18T16:00:00",
          "2023-09-19T00:00:00",
          "2023-09-19T08:00:00",
          "2023-09-19T16:00:00",
          "2023-09-20T00:00:00",
          "2023-09-20T08:00:00",
          "2023-09-20T16:00:00",
          "2023-09-21T00:00:00",
          "2023-09-21T08:00:00",
          "2023-09-21T16:00:00",
          "2023-09-22T00:00:00",
          "2023-09-22T08:00:00",
          "2023-09-22T16:00:00",
          "2023-09-23T00:00:00",
          "2023-09-23T08:00:00",
          "2023-09-23T16:00:00",
          "2023-09-24T00:00:00",
          "2023-09-24T08:00:00",
          "2023-09-24T16:00:00",
          "2023-09-25T00:00:00",
          "2023-09-25T08:00:00",
          "2023-09-25T16:00:00",
          "2023-09-26T00:00:00",
          "2023-09-26T08:00:00",
          "2023-09-26T16:00:00",
          "2023-09-27T00:00:00",
          "2023-09-27T08:00:00",
          "2023-09-27T16:00:00",
          "2023-09-28T00:00:00",
          "2023-09-28T08:00:00",
          "2023-09-28T16:00:00",
          "2023-09-29T00:00:00",
          "2023-09-29T08:00:00",
          "2023-09-29T16:00:00",
          "2023-09-30T00:00:00",
          "2023-09-30T08:00:00",
          "2023-09-30T16:00:00",
          "2023-10-01T00:00:00",
          "2023-10-01T08:00:00",
          "2023-10-01T16:00:00",
          "2023-10-02T00:00:00",
          "2023-10-02T08:00:00",
          "2023-10-02T16:00:00",
          "2023-10-03T00:00:00",
          "2023-10-03T08:00:00",
          "2023-10-03T16:00:00",
          "2023-10-04T00:00:00",
          "2023-10-04T08:00:00",
          "2023-10-04T16:00:00"
         ],
         "y": [
          121,
          91,
          81,
          110,
          78,
          69,
          100,
          87,
          86,
          107,
          97,
          94,
          85,
          80,
          98,
          107,
          104,
          21,
          106,
          91,
          72,
          129,
          93,
          40,
          42,
          98,
          76,
          144,
          124,
          134,
          130,
          119,
          117,
          127,
          118,
          151,
          137,
          70,
          42,
          48,
          101,
          100,
          123,
          110,
          72,
          126,
          119,
          37,
          120,
          39,
          126,
          129,
          124,
          143,
          141,
          127,
          134,
          161,
          126,
          141,
          106,
          85,
          82,
          99,
          28,
          95,
          130,
          117,
          54,
          128,
          47,
          47,
          140,
          124,
          48,
          140,
          110,
          53,
          229,
          128,
          118,
          127,
          96,
          91,
          103,
          78
         ]
        },
        {
         "mode": "lines",
         "name": "Predicción",
         "type": "scatter",
         "x": [
          "2023-09-06T08:00:00",
          "2023-09-06T16:00:00",
          "2023-09-07T00:00:00",
          "2023-09-07T08:00:00",
          "2023-09-07T16:00:00",
          "2023-09-08T00:00:00",
          "2023-09-08T08:00:00",
          "2023-09-08T16:00:00",
          "2023-09-09T00:00:00",
          "2023-09-09T08:00:00",
          "2023-09-09T16:00:00",
          "2023-09-10T00:00:00",
          "2023-09-10T08:00:00",
          "2023-09-10T16:00:00",
          "2023-09-11T00:00:00",
          "2023-09-11T08:00:00",
          "2023-09-11T16:00:00",
          "2023-09-12T00:00:00",
          "2023-09-12T08:00:00",
          "2023-09-12T16:00:00",
          "2023-09-13T00:00:00",
          "2023-09-13T08:00:00",
          "2023-09-13T16:00:00",
          "2023-09-14T00:00:00",
          "2023-09-14T08:00:00",
          "2023-09-14T16:00:00",
          "2023-09-15T00:00:00",
          "2023-09-15T08:00:00",
          "2023-09-15T16:00:00",
          "2023-09-16T00:00:00",
          "2023-09-16T08:00:00",
          "2023-09-16T16:00:00",
          "2023-09-17T00:00:00",
          "2023-09-17T08:00:00",
          "2023-09-17T16:00:00",
          "2023-09-18T00:00:00",
          "2023-09-18T08:00:00",
          "2023-09-18T16:00:00",
          "2023-09-19T00:00:00",
          "2023-09-19T08:00:00",
          "2023-09-19T16:00:00",
          "2023-09-20T00:00:00",
          "2023-09-20T08:00:00",
          "2023-09-20T16:00:00",
          "2023-09-21T00:00:00",
          "2023-09-21T08:00:00",
          "2023-09-21T16:00:00",
          "2023-09-22T00:00:00",
          "2023-09-22T08:00:00",
          "2023-09-22T16:00:00",
          "2023-09-23T00:00:00",
          "2023-09-23T08:00:00",
          "2023-09-23T16:00:00",
          "2023-09-24T00:00:00",
          "2023-09-24T08:00:00",
          "2023-09-24T16:00:00",
          "2023-09-25T00:00:00",
          "2023-09-25T08:00:00",
          "2023-09-25T16:00:00",
          "2023-09-26T00:00:00",
          "2023-09-26T08:00:00",
          "2023-09-26T16:00:00",
          "2023-09-27T00:00:00",
          "2023-09-27T08:00:00",
          "2023-09-27T16:00:00",
          "2023-09-28T00:00:00",
          "2023-09-28T08:00:00",
          "2023-09-28T16:00:00",
          "2023-09-29T00:00:00",
          "2023-09-29T08:00:00",
          "2023-09-29T16:00:00",
          "2023-09-30T00:00:00",
          "2023-09-30T08:00:00",
          "2023-09-30T16:00:00",
          "2023-10-01T00:00:00",
          "2023-10-01T08:00:00",
          "2023-10-01T16:00:00",
          "2023-10-02T00:00:00",
          "2023-10-02T08:00:00",
          "2023-10-02T16:00:00",
          "2023-10-03T00:00:00",
          "2023-10-03T08:00:00",
          "2023-10-03T16:00:00",
          "2023-10-04T00:00:00",
          "2023-10-04T08:00:00",
          "2023-10-04T16:00:00"
         ],
         "y": [
          144.83712059015573,
          132.827581618483,
          122.40088258131945,
          109.81291331763053,
          111.97825034036521,
          101.88957603161859,
          100.26481355179058,
          102.8773737266569,
          100.74874153009799,
          105.88453317555201,
          110.65238094328572,
          110.0102584963135,
          112.3888816779193,
          105.91574130475058,
          101.7343663381146,
          105.66380943689185,
          110.9113584015012,
          115.70380767113329,
          85.19826308842063,
          103.6761417489144,
          91.40075877824171,
          102.59887442872476,
          117.86237808134535,
          108.64220664043079,
          96.20360535746055,
          79.24862728329772,
          88.19376129319703,
          89.45083382777564,
          126.08849021572951,
          124.1672275823577,
          141.58417189228228,
          136.73457105702042,
          134.27622963794673,
          130.67982555265314,
          131.50476303453834,
          129.17513589788263,
          142.97590035032607,
          140.79122651846032,
          120.62157539424048,
          95.14131312511087,
          76.20998072736992,
          90.85187471044631,
          100.75855895575543,
          122.66397380936849,
          121.18899036404122,
          109.97050285700291,
          121.40706126001231,
          118.24230629073142,
          98.61549056267498,
          115.49117341517885,
          77.49627353471104,
          118.40188966755329,
          113.9460292445568,
          134.06897308635783,
          141.36150727081028,
          142.50273376176318,
          141.44254239744782,
          141.33905361057043,
          149.5189415353052,
          142.14680212498308,
          148.84953969838236,
          129.0718070962277,
          118.81711473060832,
          105.48586710531393,
          106.3845871646332,
          80.8889578182313,
          99.32747282884684,
          106.45594292257468,
          123.83169571140739,
          105.87764757041775,
          120.92779902619323,
          86.14715516098697,
          91.03011794811943,
          107.07311885184046,
          116.31367809655796,
          107.18937881315954,
          126.32684188491876,
          111.12383267223318,
          106.80485089725914,
          158.2557620179303,
          134.14503558139845,
          157.1050130264017,
          133.90195811076032,
          120.87801302136508,
          116.01527095049023,
          112.16067338584584
         ]
        }
       ],
       "layout": {
        "showlegend": true,
        "template": {
         "data": {
          "bar": [
           {
            "error_x": {
             "color": "#2a3f5f"
            },
            "error_y": {
             "color": "#2a3f5f"
            },
            "marker": {
             "line": {
              "color": "#E5ECF6",
              "width": 0.5
             },
             "pattern": {
              "fillmode": "overlay",
              "size": 10,
              "solidity": 0.2
             }
            },
            "type": "bar"
           }
          ],
          "barpolar": [
           {
            "marker": {
             "line": {
              "color": "#E5ECF6",
              "width": 0.5
             },
             "pattern": {
              "fillmode": "overlay",
              "size": 10,
              "solidity": 0.2
             }
            },
            "type": "barpolar"
           }
          ],
          "carpet": [
           {
            "aaxis": {
             "endlinecolor": "#2a3f5f",
             "gridcolor": "white",
             "linecolor": "white",
             "minorgridcolor": "white",
             "startlinecolor": "#2a3f5f"
            },
            "baxis": {
             "endlinecolor": "#2a3f5f",
             "gridcolor": "white",
             "linecolor": "white",
             "minorgridcolor": "white",
             "startlinecolor": "#2a3f5f"
            },
            "type": "carpet"
           }
          ],
          "choropleth": [
           {
            "colorbar": {
             "outlinewidth": 0,
             "ticks": ""
            },
            "type": "choropleth"
           }
          ],
          "contour": [
           {
            "colorbar": {
             "outlinewidth": 0,
             "ticks": ""
            },
            "colorscale": [
             [
              0,
              "#0d0887"
             ],
             [
              0.1111111111111111,
              "#46039f"
             ],
             [
              0.2222222222222222,
              "#7201a8"
             ],
             [
              0.3333333333333333,
              "#9c179e"
             ],
             [
              0.4444444444444444,
              "#bd3786"
             ],
             [
              0.5555555555555556,
              "#d8576b"
             ],
             [
              0.6666666666666666,
              "#ed7953"
             ],
             [
              0.7777777777777778,
              "#fb9f3a"
             ],
             [
              0.8888888888888888,
              "#fdca26"
             ],
             [
              1,
              "#f0f921"
             ]
            ],
            "type": "contour"
           }
          ],
          "contourcarpet": [
           {
            "colorbar": {
             "outlinewidth": 0,
             "ticks": ""
            },
            "type": "contourcarpet"
           }
          ],
          "heatmap": [
           {
            "colorbar": {
             "outlinewidth": 0,
             "ticks": ""
            },
            "colorscale": [
             [
              0,
              "#0d0887"
             ],
             [
              0.1111111111111111,
              "#46039f"
             ],
             [
              0.2222222222222222,
              "#7201a8"
             ],
             [
              0.3333333333333333,
              "#9c179e"
             ],
             [
              0.4444444444444444,
              "#bd3786"
             ],
             [
              0.5555555555555556,
              "#d8576b"
             ],
             [
              0.6666666666666666,
              "#ed7953"
             ],
             [
              0.7777777777777778,
              "#fb9f3a"
             ],
             [
              0.8888888888888888,
              "#fdca26"
             ],
             [
              1,
              "#f0f921"
             ]
            ],
            "type": "heatmap"
           }
          ],
          "heatmapgl": [
           {
            "colorbar": {
             "outlinewidth": 0,
             "ticks": ""
            },
            "colorscale": [
             [
              0,
              "#0d0887"
             ],
             [
              0.1111111111111111,
              "#46039f"
             ],
             [
              0.2222222222222222,
              "#7201a8"
             ],
             [
              0.3333333333333333,
              "#9c179e"
             ],
             [
              0.4444444444444444,
              "#bd3786"
             ],
             [
              0.5555555555555556,
              "#d8576b"
             ],
             [
              0.6666666666666666,
              "#ed7953"
             ],
             [
              0.7777777777777778,
              "#fb9f3a"
             ],
             [
              0.8888888888888888,
              "#fdca26"
             ],
             [
              1,
              "#f0f921"
             ]
            ],
            "type": "heatmapgl"
           }
          ],
          "histogram": [
           {
            "marker": {
             "pattern": {
              "fillmode": "overlay",
              "size": 10,
              "solidity": 0.2
             }
            },
            "type": "histogram"
           }
          ],
          "histogram2d": [
           {
            "colorbar": {
             "outlinewidth": 0,
             "ticks": ""
            },
            "colorscale": [
             [
              0,
              "#0d0887"
             ],
             [
              0.1111111111111111,
              "#46039f"
             ],
             [
              0.2222222222222222,
              "#7201a8"
             ],
             [
              0.3333333333333333,
              "#9c179e"
             ],
             [
              0.4444444444444444,
              "#bd3786"
             ],
             [
              0.5555555555555556,
              "#d8576b"
             ],
             [
              0.6666666666666666,
              "#ed7953"
             ],
             [
              0.7777777777777778,
              "#fb9f3a"
             ],
             [
              0.8888888888888888,
              "#fdca26"
             ],
             [
              1,
              "#f0f921"
             ]
            ],
            "type": "histogram2d"
           }
          ],
          "histogram2dcontour": [
           {
            "colorbar": {
             "outlinewidth": 0,
             "ticks": ""
            },
            "colorscale": [
             [
              0,
              "#0d0887"
             ],
             [
              0.1111111111111111,
              "#46039f"
             ],
             [
              0.2222222222222222,
              "#7201a8"
             ],
             [
              0.3333333333333333,
              "#9c179e"
             ],
             [
              0.4444444444444444,
              "#bd3786"
             ],
             [
              0.5555555555555556,
              "#d8576b"
             ],
             [
              0.6666666666666666,
              "#ed7953"
             ],
             [
              0.7777777777777778,
              "#fb9f3a"
             ],
             [
              0.8888888888888888,
              "#fdca26"
             ],
             [
              1,
              "#f0f921"
             ]
            ],
            "type": "histogram2dcontour"
           }
          ],
          "mesh3d": [
           {
            "colorbar": {
             "outlinewidth": 0,
             "ticks": ""
            },
            "type": "mesh3d"
           }
          ],
          "parcoords": [
           {
            "line": {
             "colorbar": {
              "outlinewidth": 0,
              "ticks": ""
             }
            },
            "type": "parcoords"
           }
          ],
          "pie": [
           {
            "automargin": true,
            "type": "pie"
           }
          ],
          "scatter": [
           {
            "fillpattern": {
             "fillmode": "overlay",
             "size": 10,
             "solidity": 0.2
            },
            "type": "scatter"
           }
          ],
          "scatter3d": [
           {
            "line": {
             "colorbar": {
              "outlinewidth": 0,
              "ticks": ""
             }
            },
            "marker": {
             "colorbar": {
              "outlinewidth": 0,
              "ticks": ""
             }
            },
            "type": "scatter3d"
           }
          ],
          "scattercarpet": [
           {
            "marker": {
             "colorbar": {
              "outlinewidth": 0,
              "ticks": ""
             }
            },
            "type": "scattercarpet"
           }
          ],
          "scattergeo": [
           {
            "marker": {
             "colorbar": {
              "outlinewidth": 0,
              "ticks": ""
             }
            },
            "type": "scattergeo"
           }
          ],
          "scattergl": [
           {
            "marker": {
             "colorbar": {
              "outlinewidth": 0,
              "ticks": ""
             }
            },
            "type": "scattergl"
           }
          ],
          "scattermapbox": [
           {
            "marker": {
             "colorbar": {
              "outlinewidth": 0,
              "ticks": ""
             }
            },
            "type": "scattermapbox"
           }
          ],
          "scatterpolar": [
           {
            "marker": {
             "colorbar": {
              "outlinewidth": 0,
              "ticks": ""
             }
            },
            "type": "scatterpolar"
           }
          ],
          "scatterpolargl": [
           {
            "marker": {
             "colorbar": {
              "outlinewidth": 0,
              "ticks": ""
             }
            },
            "type": "scatterpolargl"
           }
          ],
          "scatterternary": [
           {
            "marker": {
             "colorbar": {
              "outlinewidth": 0,
              "ticks": ""
             }
            },
            "type": "scatterternary"
           }
          ],
          "surface": [
           {
            "colorbar": {
             "outlinewidth": 0,
             "ticks": ""
            },
            "colorscale": [
             [
              0,
              "#0d0887"
             ],
             [
              0.1111111111111111,
              "#46039f"
             ],
             [
              0.2222222222222222,
              "#7201a8"
             ],
             [
              0.3333333333333333,
              "#9c179e"
             ],
             [
              0.4444444444444444,
              "#bd3786"
             ],
             [
              0.5555555555555556,
              "#d8576b"
             ],
             [
              0.6666666666666666,
              "#ed7953"
             ],
             [
              0.7777777777777778,
              "#fb9f3a"
             ],
             [
              0.8888888888888888,
              "#fdca26"
             ],
             [
              1,
              "#f0f921"
             ]
            ],
            "type": "surface"
           }
          ],
          "table": [
           {
            "cells": {
             "fill": {
              "color": "#EBF0F8"
             },
             "line": {
              "color": "white"
             }
            },
            "header": {
             "fill": {
              "color": "#C8D4E3"
             },
             "line": {
              "color": "white"
             }
            },
            "type": "table"
           }
          ]
         },
         "layout": {
          "annotationdefaults": {
           "arrowcolor": "#2a3f5f",
           "arrowhead": 0,
           "arrowwidth": 1
          },
          "autotypenumbers": "strict",
          "coloraxis": {
           "colorbar": {
            "outlinewidth": 0,
            "ticks": ""
           }
          },
          "colorscale": {
           "diverging": [
            [
             0,
             "#8e0152"
            ],
            [
             0.1,
             "#c51b7d"
            ],
            [
             0.2,
             "#de77ae"
            ],
            [
             0.3,
             "#f1b6da"
            ],
            [
             0.4,
             "#fde0ef"
            ],
            [
             0.5,
             "#f7f7f7"
            ],
            [
             0.6,
             "#e6f5d0"
            ],
            [
             0.7,
             "#b8e186"
            ],
            [
             0.8,
             "#7fbc41"
            ],
            [
             0.9,
             "#4d9221"
            ],
            [
             1,
             "#276419"
            ]
           ],
           "sequential": [
            [
             0,
             "#0d0887"
            ],
            [
             0.1111111111111111,
             "#46039f"
            ],
            [
             0.2222222222222222,
             "#7201a8"
            ],
            [
             0.3333333333333333,
             "#9c179e"
            ],
            [
             0.4444444444444444,
             "#bd3786"
            ],
            [
             0.5555555555555556,
             "#d8576b"
            ],
            [
             0.6666666666666666,
             "#ed7953"
            ],
            [
             0.7777777777777778,
             "#fb9f3a"
            ],
            [
             0.8888888888888888,
             "#fdca26"
            ],
            [
             1,
             "#f0f921"
            ]
           ],
           "sequentialminus": [
            [
             0,
             "#0d0887"
            ],
            [
             0.1111111111111111,
             "#46039f"
            ],
            [
             0.2222222222222222,
             "#7201a8"
            ],
            [
             0.3333333333333333,
             "#9c179e"
            ],
            [
             0.4444444444444444,
             "#bd3786"
            ],
            [
             0.5555555555555556,
             "#d8576b"
            ],
            [
             0.6666666666666666,
             "#ed7953"
            ],
            [
             0.7777777777777778,
             "#fb9f3a"
            ],
            [
             0.8888888888888888,
             "#fdca26"
            ],
            [
             1,
             "#f0f921"
            ]
           ]
          },
          "colorway": [
           "#636efa",
           "#EF553B",
           "#00cc96",
           "#ab63fa",
           "#FFA15A",
           "#19d3f3",
           "#FF6692",
           "#B6E880",
           "#FF97FF",
           "#FECB52"
          ],
          "font": {
           "color": "#2a3f5f"
          },
          "geo": {
           "bgcolor": "white",
           "lakecolor": "white",
           "landcolor": "#E5ECF6",
           "showlakes": true,
           "showland": true,
           "subunitcolor": "white"
          },
          "hoverlabel": {
           "align": "left"
          },
          "hovermode": "closest",
          "mapbox": {
           "style": "light"
          },
          "paper_bgcolor": "white",
          "plot_bgcolor": "#E5ECF6",
          "polar": {
           "angularaxis": {
            "gridcolor": "white",
            "linecolor": "white",
            "ticks": ""
           },
           "bgcolor": "#E5ECF6",
           "radialaxis": {
            "gridcolor": "white",
            "linecolor": "white",
            "ticks": ""
           }
          },
          "scene": {
           "xaxis": {
            "backgroundcolor": "#E5ECF6",
            "gridcolor": "white",
            "gridwidth": 2,
            "linecolor": "white",
            "showbackground": true,
            "ticks": "",
            "zerolinecolor": "white"
           },
           "yaxis": {
            "backgroundcolor": "#E5ECF6",
            "gridcolor": "white",
            "gridwidth": 2,
            "linecolor": "white",
            "showbackground": true,
            "ticks": "",
            "zerolinecolor": "white"
           },
           "zaxis": {
            "backgroundcolor": "#E5ECF6",
            "gridcolor": "white",
            "gridwidth": 2,
            "linecolor": "white",
            "showbackground": true,
            "ticks": "",
            "zerolinecolor": "white"
           }
          },
          "shapedefaults": {
           "line": {
            "color": "#2a3f5f"
           }
          },
          "ternary": {
           "aaxis": {
            "gridcolor": "white",
            "linecolor": "white",
            "ticks": ""
           },
           "baxis": {
            "gridcolor": "white",
            "linecolor": "white",
            "ticks": ""
           },
           "bgcolor": "#E5ECF6",
           "caxis": {
            "gridcolor": "white",
            "linecolor": "white",
            "ticks": ""
           }
          },
          "title": {
           "x": 0.05
          },
          "xaxis": {
           "automargin": true,
           "gridcolor": "white",
           "linecolor": "white",
           "ticks": "",
           "title": {
            "standoff": 15
           },
           "zerolinecolor": "white",
           "zerolinewidth": 2
          },
          "yaxis": {
           "automargin": true,
           "gridcolor": "white",
           "linecolor": "white",
           "ticks": "",
           "title": {
            "standoff": 15
           },
           "zerolinecolor": "white",
           "zerolinewidth": 2
          }
         }
        },
        "title": {
         "text": "Predicción vs Real (MLP)"
        }
       }
      }
     },
     "metadata": {},
     "output_type": "display_data"
    }
   ],
   "source": [
    "# Calculate metrics\n",
    "y_pred = grid_mlp.predict(X_test)\n",
    "\n",
    "# Metrics\n",
    "mse = mean_squared_error(y_test, y_pred)\n",
    "mape = mean_absolute_percentage_error(y_test, y_pred)\n",
    "r2 = grid_mlp.score(X_test, y_test)\n",
    "models_metrics.append({'Model': 'MLP', 'MSE': mse, 'RMSE':mse**0.5, 'MAPE': mape, 'R2': r2})\n",
    "print(models_metrics)\n",
    "\n",
    "# Plot predictions vs real values but with matplotlib\n",
    "plt.figure(figsize=(15,5))\n",
    "plt.plot(X_test.index, y_test, label='Real')\n",
    "plt.plot(X_test.index, y_pred, label='Predicción')\n",
    "plt.xlabel('Date')\n",
    "plt.ylabel('Available')\n",
    "plt.title('Predicción vs Real (MLP)')\n",
    "plt.legend(loc='best')\n",
    "plt.show()"
   ]
  },
  {
   "cell_type": "markdown",
   "metadata": {},
   "source": [
    "# Results"
   ]
  },
  {
   "cell_type": "code",
   "execution_count": 31,
   "metadata": {},
   "outputs": [
    {
     "data": {
      "text/html": [
       "<div>\n",
       "<style scoped>\n",
       "    .dataframe tbody tr th:only-of-type {\n",
       "        vertical-align: middle;\n",
       "    }\n",
       "\n",
       "    .dataframe tbody tr th {\n",
       "        vertical-align: top;\n",
       "    }\n",
       "\n",
       "    .dataframe thead th {\n",
       "        text-align: right;\n",
       "    }\n",
       "</style>\n",
       "<table border=\"1\" class=\"dataframe\">\n",
       "  <thead>\n",
       "    <tr style=\"text-align: right;\">\n",
       "      <th></th>\n",
       "      <th>Model</th>\n",
       "      <th>MSE</th>\n",
       "      <th>RMSE</th>\n",
       "      <th>MAPE</th>\n",
       "    </tr>\n",
       "  </thead>\n",
       "  <tbody>\n",
       "    <tr>\n",
       "      <th>0</th>\n",
       "      <td>KNN</td>\n",
       "      <td>1295.523753</td>\n",
       "      <td>35.993385</td>\n",
       "      <td>0.406074</td>\n",
       "    </tr>\n",
       "    <tr>\n",
       "      <th>1</th>\n",
       "      <td>Ridge</td>\n",
       "      <td>1448.867944</td>\n",
       "      <td>38.063998</td>\n",
       "      <td>0.452286</td>\n",
       "    </tr>\n",
       "    <tr>\n",
       "      <th>2</th>\n",
       "      <td>Lasso</td>\n",
       "      <td>1457.790513</td>\n",
       "      <td>38.181023</td>\n",
       "      <td>0.454544</td>\n",
       "    </tr>\n",
       "    <tr>\n",
       "      <th>3</th>\n",
       "      <td>Naive Bayes</td>\n",
       "      <td>1646.186047</td>\n",
       "      <td>40.573218</td>\n",
       "      <td>0.420917</td>\n",
       "    </tr>\n",
       "    <tr>\n",
       "      <th>4</th>\n",
       "      <td>XGBoost</td>\n",
       "      <td>1502.737390</td>\n",
       "      <td>38.765157</td>\n",
       "      <td>0.434733</td>\n",
       "    </tr>\n",
       "    <tr>\n",
       "      <th>5</th>\n",
       "      <td>SVM</td>\n",
       "      <td>1567.699635</td>\n",
       "      <td>39.594187</td>\n",
       "      <td>0.489710</td>\n",
       "    </tr>\n",
       "    <tr>\n",
       "      <th>6</th>\n",
       "      <td>MLP</td>\n",
       "      <td>1448.043783</td>\n",
       "      <td>38.053170</td>\n",
       "      <td>0.451510</td>\n",
       "    </tr>\n",
       "  </tbody>\n",
       "</table>\n",
       "</div>"
      ],
      "text/plain": [
       "         Model          MSE       RMSE      MAPE\n",
       "0          KNN  1295.523753  35.993385  0.406074\n",
       "1        Ridge  1448.867944  38.063998  0.452286\n",
       "2        Lasso  1457.790513  38.181023  0.454544\n",
       "3  Naive Bayes  1646.186047  40.573218  0.420917\n",
       "4      XGBoost  1502.737390  38.765157  0.434733\n",
       "5          SVM  1567.699635  39.594187  0.489710\n",
       "6          MLP  1448.043783  38.053170  0.451510"
      ]
     },
     "execution_count": 31,
     "metadata": {},
     "output_type": "execute_result"
    }
   ],
   "source": [
    "results_metrics_naug = pd.DataFrame(models_metrics)\n",
    "results_metrics_naug"
   ]
  },
  {
   "cell_type": "code",
   "execution_count": 32,
   "metadata": {},
   "outputs": [
    {
     "data": {
      "application/vnd.plotly.v1+json": {
       "config": {
        "plotlyServerURL": "https://plot.ly"
       },
       "data": [
        {
         "hovertemplate": "MAPE=%{r}<br>Model=%{theta}<extra></extra>",
         "legendgroup": "",
         "line": {
          "color": "#636efa",
          "dash": "solid"
         },
         "marker": {
          "symbol": "circle"
         },
         "mode": "lines",
         "name": "",
         "r": [
          0.40607448792176354,
          0.4522864563680011,
          0.45454360898826485,
          0.4209167208472928,
          0.43473268232847584,
          0.48970962923289785,
          0.45151003886932595,
          0.40607448792176354
         ],
         "showlegend": false,
         "subplot": "polar",
         "theta": [
          "KNN",
          "Ridge",
          "Lasso",
          "Naive Bayes",
          "XGBoost",
          "SVM",
          "MLP",
          "KNN"
         ],
         "type": "scatterpolar"
        }
       ],
       "layout": {
        "legend": {
         "tracegroupgap": 0
        },
        "polar": {
         "angularaxis": {
          "direction": "clockwise",
          "rotation": 90
         },
         "domain": {
          "x": [
           0,
           1
          ],
          "y": [
           0,
           1
          ]
         }
        },
        "template": {
         "data": {
          "bar": [
           {
            "error_x": {
             "color": "#2a3f5f"
            },
            "error_y": {
             "color": "#2a3f5f"
            },
            "marker": {
             "line": {
              "color": "#E5ECF6",
              "width": 0.5
             },
             "pattern": {
              "fillmode": "overlay",
              "size": 10,
              "solidity": 0.2
             }
            },
            "type": "bar"
           }
          ],
          "barpolar": [
           {
            "marker": {
             "line": {
              "color": "#E5ECF6",
              "width": 0.5
             },
             "pattern": {
              "fillmode": "overlay",
              "size": 10,
              "solidity": 0.2
             }
            },
            "type": "barpolar"
           }
          ],
          "carpet": [
           {
            "aaxis": {
             "endlinecolor": "#2a3f5f",
             "gridcolor": "white",
             "linecolor": "white",
             "minorgridcolor": "white",
             "startlinecolor": "#2a3f5f"
            },
            "baxis": {
             "endlinecolor": "#2a3f5f",
             "gridcolor": "white",
             "linecolor": "white",
             "minorgridcolor": "white",
             "startlinecolor": "#2a3f5f"
            },
            "type": "carpet"
           }
          ],
          "choropleth": [
           {
            "colorbar": {
             "outlinewidth": 0,
             "ticks": ""
            },
            "type": "choropleth"
           }
          ],
          "contour": [
           {
            "colorbar": {
             "outlinewidth": 0,
             "ticks": ""
            },
            "colorscale": [
             [
              0,
              "#0d0887"
             ],
             [
              0.1111111111111111,
              "#46039f"
             ],
             [
              0.2222222222222222,
              "#7201a8"
             ],
             [
              0.3333333333333333,
              "#9c179e"
             ],
             [
              0.4444444444444444,
              "#bd3786"
             ],
             [
              0.5555555555555556,
              "#d8576b"
             ],
             [
              0.6666666666666666,
              "#ed7953"
             ],
             [
              0.7777777777777778,
              "#fb9f3a"
             ],
             [
              0.8888888888888888,
              "#fdca26"
             ],
             [
              1,
              "#f0f921"
             ]
            ],
            "type": "contour"
           }
          ],
          "contourcarpet": [
           {
            "colorbar": {
             "outlinewidth": 0,
             "ticks": ""
            },
            "type": "contourcarpet"
           }
          ],
          "heatmap": [
           {
            "colorbar": {
             "outlinewidth": 0,
             "ticks": ""
            },
            "colorscale": [
             [
              0,
              "#0d0887"
             ],
             [
              0.1111111111111111,
              "#46039f"
             ],
             [
              0.2222222222222222,
              "#7201a8"
             ],
             [
              0.3333333333333333,
              "#9c179e"
             ],
             [
              0.4444444444444444,
              "#bd3786"
             ],
             [
              0.5555555555555556,
              "#d8576b"
             ],
             [
              0.6666666666666666,
              "#ed7953"
             ],
             [
              0.7777777777777778,
              "#fb9f3a"
             ],
             [
              0.8888888888888888,
              "#fdca26"
             ],
             [
              1,
              "#f0f921"
             ]
            ],
            "type": "heatmap"
           }
          ],
          "heatmapgl": [
           {
            "colorbar": {
             "outlinewidth": 0,
             "ticks": ""
            },
            "colorscale": [
             [
              0,
              "#0d0887"
             ],
             [
              0.1111111111111111,
              "#46039f"
             ],
             [
              0.2222222222222222,
              "#7201a8"
             ],
             [
              0.3333333333333333,
              "#9c179e"
             ],
             [
              0.4444444444444444,
              "#bd3786"
             ],
             [
              0.5555555555555556,
              "#d8576b"
             ],
             [
              0.6666666666666666,
              "#ed7953"
             ],
             [
              0.7777777777777778,
              "#fb9f3a"
             ],
             [
              0.8888888888888888,
              "#fdca26"
             ],
             [
              1,
              "#f0f921"
             ]
            ],
            "type": "heatmapgl"
           }
          ],
          "histogram": [
           {
            "marker": {
             "pattern": {
              "fillmode": "overlay",
              "size": 10,
              "solidity": 0.2
             }
            },
            "type": "histogram"
           }
          ],
          "histogram2d": [
           {
            "colorbar": {
             "outlinewidth": 0,
             "ticks": ""
            },
            "colorscale": [
             [
              0,
              "#0d0887"
             ],
             [
              0.1111111111111111,
              "#46039f"
             ],
             [
              0.2222222222222222,
              "#7201a8"
             ],
             [
              0.3333333333333333,
              "#9c179e"
             ],
             [
              0.4444444444444444,
              "#bd3786"
             ],
             [
              0.5555555555555556,
              "#d8576b"
             ],
             [
              0.6666666666666666,
              "#ed7953"
             ],
             [
              0.7777777777777778,
              "#fb9f3a"
             ],
             [
              0.8888888888888888,
              "#fdca26"
             ],
             [
              1,
              "#f0f921"
             ]
            ],
            "type": "histogram2d"
           }
          ],
          "histogram2dcontour": [
           {
            "colorbar": {
             "outlinewidth": 0,
             "ticks": ""
            },
            "colorscale": [
             [
              0,
              "#0d0887"
             ],
             [
              0.1111111111111111,
              "#46039f"
             ],
             [
              0.2222222222222222,
              "#7201a8"
             ],
             [
              0.3333333333333333,
              "#9c179e"
             ],
             [
              0.4444444444444444,
              "#bd3786"
             ],
             [
              0.5555555555555556,
              "#d8576b"
             ],
             [
              0.6666666666666666,
              "#ed7953"
             ],
             [
              0.7777777777777778,
              "#fb9f3a"
             ],
             [
              0.8888888888888888,
              "#fdca26"
             ],
             [
              1,
              "#f0f921"
             ]
            ],
            "type": "histogram2dcontour"
           }
          ],
          "mesh3d": [
           {
            "colorbar": {
             "outlinewidth": 0,
             "ticks": ""
            },
            "type": "mesh3d"
           }
          ],
          "parcoords": [
           {
            "line": {
             "colorbar": {
              "outlinewidth": 0,
              "ticks": ""
             }
            },
            "type": "parcoords"
           }
          ],
          "pie": [
           {
            "automargin": true,
            "type": "pie"
           }
          ],
          "scatter": [
           {
            "fillpattern": {
             "fillmode": "overlay",
             "size": 10,
             "solidity": 0.2
            },
            "type": "scatter"
           }
          ],
          "scatter3d": [
           {
            "line": {
             "colorbar": {
              "outlinewidth": 0,
              "ticks": ""
             }
            },
            "marker": {
             "colorbar": {
              "outlinewidth": 0,
              "ticks": ""
             }
            },
            "type": "scatter3d"
           }
          ],
          "scattercarpet": [
           {
            "marker": {
             "colorbar": {
              "outlinewidth": 0,
              "ticks": ""
             }
            },
            "type": "scattercarpet"
           }
          ],
          "scattergeo": [
           {
            "marker": {
             "colorbar": {
              "outlinewidth": 0,
              "ticks": ""
             }
            },
            "type": "scattergeo"
           }
          ],
          "scattergl": [
           {
            "marker": {
             "colorbar": {
              "outlinewidth": 0,
              "ticks": ""
             }
            },
            "type": "scattergl"
           }
          ],
          "scattermapbox": [
           {
            "marker": {
             "colorbar": {
              "outlinewidth": 0,
              "ticks": ""
             }
            },
            "type": "scattermapbox"
           }
          ],
          "scatterpolar": [
           {
            "marker": {
             "colorbar": {
              "outlinewidth": 0,
              "ticks": ""
             }
            },
            "type": "scatterpolar"
           }
          ],
          "scatterpolargl": [
           {
            "marker": {
             "colorbar": {
              "outlinewidth": 0,
              "ticks": ""
             }
            },
            "type": "scatterpolargl"
           }
          ],
          "scatterternary": [
           {
            "marker": {
             "colorbar": {
              "outlinewidth": 0,
              "ticks": ""
             }
            },
            "type": "scatterternary"
           }
          ],
          "surface": [
           {
            "colorbar": {
             "outlinewidth": 0,
             "ticks": ""
            },
            "colorscale": [
             [
              0,
              "#0d0887"
             ],
             [
              0.1111111111111111,
              "#46039f"
             ],
             [
              0.2222222222222222,
              "#7201a8"
             ],
             [
              0.3333333333333333,
              "#9c179e"
             ],
             [
              0.4444444444444444,
              "#bd3786"
             ],
             [
              0.5555555555555556,
              "#d8576b"
             ],
             [
              0.6666666666666666,
              "#ed7953"
             ],
             [
              0.7777777777777778,
              "#fb9f3a"
             ],
             [
              0.8888888888888888,
              "#fdca26"
             ],
             [
              1,
              "#f0f921"
             ]
            ],
            "type": "surface"
           }
          ],
          "table": [
           {
            "cells": {
             "fill": {
              "color": "#EBF0F8"
             },
             "line": {
              "color": "white"
             }
            },
            "header": {
             "fill": {
              "color": "#C8D4E3"
             },
             "line": {
              "color": "white"
             }
            },
            "type": "table"
           }
          ]
         },
         "layout": {
          "annotationdefaults": {
           "arrowcolor": "#2a3f5f",
           "arrowhead": 0,
           "arrowwidth": 1
          },
          "autotypenumbers": "strict",
          "coloraxis": {
           "colorbar": {
            "outlinewidth": 0,
            "ticks": ""
           }
          },
          "colorscale": {
           "diverging": [
            [
             0,
             "#8e0152"
            ],
            [
             0.1,
             "#c51b7d"
            ],
            [
             0.2,
             "#de77ae"
            ],
            [
             0.3,
             "#f1b6da"
            ],
            [
             0.4,
             "#fde0ef"
            ],
            [
             0.5,
             "#f7f7f7"
            ],
            [
             0.6,
             "#e6f5d0"
            ],
            [
             0.7,
             "#b8e186"
            ],
            [
             0.8,
             "#7fbc41"
            ],
            [
             0.9,
             "#4d9221"
            ],
            [
             1,
             "#276419"
            ]
           ],
           "sequential": [
            [
             0,
             "#0d0887"
            ],
            [
             0.1111111111111111,
             "#46039f"
            ],
            [
             0.2222222222222222,
             "#7201a8"
            ],
            [
             0.3333333333333333,
             "#9c179e"
            ],
            [
             0.4444444444444444,
             "#bd3786"
            ],
            [
             0.5555555555555556,
             "#d8576b"
            ],
            [
             0.6666666666666666,
             "#ed7953"
            ],
            [
             0.7777777777777778,
             "#fb9f3a"
            ],
            [
             0.8888888888888888,
             "#fdca26"
            ],
            [
             1,
             "#f0f921"
            ]
           ],
           "sequentialminus": [
            [
             0,
             "#0d0887"
            ],
            [
             0.1111111111111111,
             "#46039f"
            ],
            [
             0.2222222222222222,
             "#7201a8"
            ],
            [
             0.3333333333333333,
             "#9c179e"
            ],
            [
             0.4444444444444444,
             "#bd3786"
            ],
            [
             0.5555555555555556,
             "#d8576b"
            ],
            [
             0.6666666666666666,
             "#ed7953"
            ],
            [
             0.7777777777777778,
             "#fb9f3a"
            ],
            [
             0.8888888888888888,
             "#fdca26"
            ],
            [
             1,
             "#f0f921"
            ]
           ]
          },
          "colorway": [
           "#636efa",
           "#EF553B",
           "#00cc96",
           "#ab63fa",
           "#FFA15A",
           "#19d3f3",
           "#FF6692",
           "#B6E880",
           "#FF97FF",
           "#FECB52"
          ],
          "font": {
           "color": "#2a3f5f"
          },
          "geo": {
           "bgcolor": "white",
           "lakecolor": "white",
           "landcolor": "#E5ECF6",
           "showlakes": true,
           "showland": true,
           "subunitcolor": "white"
          },
          "hoverlabel": {
           "align": "left"
          },
          "hovermode": "closest",
          "mapbox": {
           "style": "light"
          },
          "paper_bgcolor": "white",
          "plot_bgcolor": "#E5ECF6",
          "polar": {
           "angularaxis": {
            "gridcolor": "white",
            "linecolor": "white",
            "ticks": ""
           },
           "bgcolor": "#E5ECF6",
           "radialaxis": {
            "gridcolor": "white",
            "linecolor": "white",
            "ticks": ""
           }
          },
          "scene": {
           "xaxis": {
            "backgroundcolor": "#E5ECF6",
            "gridcolor": "white",
            "gridwidth": 2,
            "linecolor": "white",
            "showbackground": true,
            "ticks": "",
            "zerolinecolor": "white"
           },
           "yaxis": {
            "backgroundcolor": "#E5ECF6",
            "gridcolor": "white",
            "gridwidth": 2,
            "linecolor": "white",
            "showbackground": true,
            "ticks": "",
            "zerolinecolor": "white"
           },
           "zaxis": {
            "backgroundcolor": "#E5ECF6",
            "gridcolor": "white",
            "gridwidth": 2,
            "linecolor": "white",
            "showbackground": true,
            "ticks": "",
            "zerolinecolor": "white"
           }
          },
          "shapedefaults": {
           "line": {
            "color": "#2a3f5f"
           }
          },
          "ternary": {
           "aaxis": {
            "gridcolor": "white",
            "linecolor": "white",
            "ticks": ""
           },
           "baxis": {
            "gridcolor": "white",
            "linecolor": "white",
            "ticks": ""
           },
           "bgcolor": "#E5ECF6",
           "caxis": {
            "gridcolor": "white",
            "linecolor": "white",
            "ticks": ""
           }
          },
          "title": {
           "x": 0.05
          },
          "xaxis": {
           "automargin": true,
           "gridcolor": "white",
           "linecolor": "white",
           "ticks": "",
           "title": {
            "standoff": 15
           },
           "zerolinecolor": "white",
           "zerolinewidth": 2
          },
          "yaxis": {
           "automargin": true,
           "gridcolor": "white",
           "linecolor": "white",
           "ticks": "",
           "title": {
            "standoff": 15
           },
           "zerolinecolor": "white",
           "zerolinewidth": 2
          }
         }
        },
        "title": {
         "text": "MAPE por modelo"
        }
       }
      }
     },
     "metadata": {},
     "output_type": "display_data"
    }
   ],
   "source": [
    "px.line_polar(results_metrics_naug, r='MAPE', theta='Model', line_close=True, title='MAPE por modelo')"
   ]
  },
  {
   "cell_type": "code",
   "execution_count": null,
   "metadata": {},
   "outputs": [],
   "source": [
    "# Create the polar axes\n",
    "fig, ax = plt.subplots(subplot_kw=dict(projection='polar'))\n",
    "\n",
    "# Get the data from the DataFrame\n",
    "theta = results_metrics_naug['Model'].to_numpy()\n",
    "r = results_metrics_naug['MAPE'].to_numpy()\n",
    "\n",
    "# Plot the lines\n",
    "for i in range(len(theta)):\n",
    "    ax.plot(theta[i], r[i], label=results_metrics_naug['Model'].iloc[i])\n",
    "\n",
    "# Add a legend\n",
    "ax.legend()\n",
    "\n",
    "# Set the title and labels\n",
    "ax.set_title('MAPE por modelo')\n",
    "ax.set_xlabel('Modelo')\n",
    "ax.set_ylabel('MAPE')\n",
    "\n",
    "# Close the figure\n",
    "plt.show()"
   ]
  },
  {
   "cell_type": "markdown",
   "metadata": {},
   "source": [
    "Summing things up, our attempt to forecast the daily demand for truck transport in the USA was hindered by the limited data available in our time series. Despite employing a variety of models, including KNN, Naive Bayes, XGBoost, SVM, and MLP among others, the most successful one, KNN, yielded a Mean Absolute Percentage Error (MAPE) of 0.40. While this performance is suboptimal, it aligns with the challenges posed by the insufficient dataset. Recognizing the impact of data scarcity on our results, future endeavors should focus on gathering more comprehensive and detailed data to enhance the accuracy of our predictions. This would undoubtedly lead to more reliable forecasts, providing valuable insights for the optimization of truck transport operations in the USA."
   ]
  }
 ],
 "metadata": {
  "kernelspec": {
   "display_name": "Python 3",
   "language": "python",
   "name": "python3"
  },
  "language_info": {
   "codemirror_mode": {
    "name": "ipython",
    "version": 3
   },
   "file_extension": ".py",
   "mimetype": "text/x-python",
   "name": "python",
   "nbconvert_exporter": "python",
   "pygments_lexer": "ipython3",
   "version": "3.8.16"
  }
 },
 "nbformat": 4,
 "nbformat_minor": 2
}
